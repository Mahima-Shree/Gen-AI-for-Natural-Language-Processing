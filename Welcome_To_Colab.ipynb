{
  "cells": [
    {
      "cell_type": "markdown",
      "metadata": {
        "id": "view-in-github",
        "colab_type": "text"
      },
      "source": [
        "<a href=\"https://colab.research.google.com/github/Mahima-Shree/Gen-AI-for-Natural-Language-Processing/blob/main/Welcome_To_Colab.ipynb\" target=\"_parent\"><img src=\"https://colab.research.google.com/assets/colab-badge.svg\" alt=\"Open In Colab\"/></a>"
      ]
    },
    {
      "cell_type": "code",
      "source": [
        "!pip install nltk\n"
      ],
      "metadata": {
        "id": "MM4xc2hdRhvv",
        "outputId": "dc261589-d9ea-4ca3-dfed-d2548fc01644",
        "colab": {
          "base_uri": "https://localhost:8080/"
        }
      },
      "execution_count": null,
      "outputs": [
        {
          "output_type": "stream",
          "name": "stdout",
          "text": [
            "Requirement already satisfied: nltk in /usr/local/lib/python3.10/dist-packages (3.8.1)\n",
            "Requirement already satisfied: click in /usr/local/lib/python3.10/dist-packages (from nltk) (8.1.7)\n",
            "Requirement already satisfied: joblib in /usr/local/lib/python3.10/dist-packages (from nltk) (1.4.2)\n",
            "Requirement already satisfied: regex>=2021.8.3 in /usr/local/lib/python3.10/dist-packages (from nltk) (2023.12.25)\n",
            "Requirement already satisfied: tqdm in /usr/local/lib/python3.10/dist-packages (from nltk) (4.66.4)\n"
          ]
        }
      ]
    },
    {
      "cell_type": "code",
      "source": [
        "import nltk\n",
        "nltk.download('all')\n"
      ],
      "metadata": {
        "id": "A7Z24bFARiNN",
        "outputId": "2cdd963b-4591-423f-8fa8-e7a94c2cfbfb",
        "colab": {
          "base_uri": "https://localhost:8080/"
        }
      },
      "execution_count": null,
      "outputs": [
        {
          "output_type": "stream",
          "name": "stderr",
          "text": [
            "[nltk_data] Downloading collection 'all'\n",
            "[nltk_data]    | \n",
            "[nltk_data]    | Downloading package abc to /root/nltk_data...\n",
            "[nltk_data]    |   Package abc is already up-to-date!\n",
            "[nltk_data]    | Downloading package alpino to /root/nltk_data...\n",
            "[nltk_data]    |   Package alpino is already up-to-date!\n",
            "[nltk_data]    | Downloading package averaged_perceptron_tagger to\n",
            "[nltk_data]    |     /root/nltk_data...\n",
            "[nltk_data]    |   Package averaged_perceptron_tagger is already up-\n",
            "[nltk_data]    |       to-date!\n",
            "[nltk_data]    | Downloading package averaged_perceptron_tagger_ru to\n",
            "[nltk_data]    |     /root/nltk_data...\n",
            "[nltk_data]    |   Package averaged_perceptron_tagger_ru is already\n",
            "[nltk_data]    |       up-to-date!\n",
            "[nltk_data]    | Downloading package basque_grammars to\n",
            "[nltk_data]    |     /root/nltk_data...\n",
            "[nltk_data]    |   Package basque_grammars is already up-to-date!\n",
            "[nltk_data]    | Downloading package bcp47 to /root/nltk_data...\n",
            "[nltk_data]    |   Package bcp47 is already up-to-date!\n",
            "[nltk_data]    | Downloading package biocreative_ppi to\n",
            "[nltk_data]    |     /root/nltk_data...\n",
            "[nltk_data]    |   Package biocreative_ppi is already up-to-date!\n",
            "[nltk_data]    | Downloading package bllip_wsj_no_aux to\n",
            "[nltk_data]    |     /root/nltk_data...\n",
            "[nltk_data]    |   Package bllip_wsj_no_aux is already up-to-date!\n",
            "[nltk_data]    | Downloading package book_grammars to\n",
            "[nltk_data]    |     /root/nltk_data...\n",
            "[nltk_data]    |   Package book_grammars is already up-to-date!\n",
            "[nltk_data]    | Downloading package brown to /root/nltk_data...\n",
            "[nltk_data]    |   Package brown is already up-to-date!\n",
            "[nltk_data]    | Downloading package brown_tei to /root/nltk_data...\n",
            "[nltk_data]    |   Package brown_tei is already up-to-date!\n",
            "[nltk_data]    | Downloading package cess_cat to /root/nltk_data...\n",
            "[nltk_data]    |   Package cess_cat is already up-to-date!\n",
            "[nltk_data]    | Downloading package cess_esp to /root/nltk_data...\n",
            "[nltk_data]    |   Package cess_esp is already up-to-date!\n",
            "[nltk_data]    | Downloading package chat80 to /root/nltk_data...\n",
            "[nltk_data]    |   Package chat80 is already up-to-date!\n",
            "[nltk_data]    | Downloading package city_database to\n",
            "[nltk_data]    |     /root/nltk_data...\n",
            "[nltk_data]    |   Package city_database is already up-to-date!\n",
            "[nltk_data]    | Downloading package cmudict to /root/nltk_data...\n",
            "[nltk_data]    |   Package cmudict is already up-to-date!\n",
            "[nltk_data]    | Downloading package comparative_sentences to\n",
            "[nltk_data]    |     /root/nltk_data...\n",
            "[nltk_data]    |   Package comparative_sentences is already up-to-\n",
            "[nltk_data]    |       date!\n",
            "[nltk_data]    | Downloading package comtrans to /root/nltk_data...\n",
            "[nltk_data]    |   Package comtrans is already up-to-date!\n",
            "[nltk_data]    | Downloading package conll2000 to /root/nltk_data...\n",
            "[nltk_data]    |   Package conll2000 is already up-to-date!\n",
            "[nltk_data]    | Downloading package conll2002 to /root/nltk_data...\n",
            "[nltk_data]    |   Package conll2002 is already up-to-date!\n",
            "[nltk_data]    | Downloading package conll2007 to /root/nltk_data...\n",
            "[nltk_data]    |   Package conll2007 is already up-to-date!\n",
            "[nltk_data]    | Downloading package crubadan to /root/nltk_data...\n",
            "[nltk_data]    |   Package crubadan is already up-to-date!\n",
            "[nltk_data]    | Downloading package dependency_treebank to\n",
            "[nltk_data]    |     /root/nltk_data...\n",
            "[nltk_data]    |   Package dependency_treebank is already up-to-date!\n",
            "[nltk_data]    | Downloading package dolch to /root/nltk_data...\n",
            "[nltk_data]    |   Package dolch is already up-to-date!\n",
            "[nltk_data]    | Downloading package europarl_raw to\n",
            "[nltk_data]    |     /root/nltk_data...\n",
            "[nltk_data]    |   Package europarl_raw is already up-to-date!\n",
            "[nltk_data]    | Downloading package extended_omw to\n",
            "[nltk_data]    |     /root/nltk_data...\n",
            "[nltk_data]    |   Package extended_omw is already up-to-date!\n",
            "[nltk_data]    | Downloading package floresta to /root/nltk_data...\n",
            "[nltk_data]    |   Package floresta is already up-to-date!\n",
            "[nltk_data]    | Downloading package framenet_v15 to\n",
            "[nltk_data]    |     /root/nltk_data...\n",
            "[nltk_data]    |   Package framenet_v15 is already up-to-date!\n",
            "[nltk_data]    | Downloading package framenet_v17 to\n",
            "[nltk_data]    |     /root/nltk_data...\n",
            "[nltk_data]    |   Package framenet_v17 is already up-to-date!\n",
            "[nltk_data]    | Downloading package gazetteers to /root/nltk_data...\n",
            "[nltk_data]    |   Package gazetteers is already up-to-date!\n",
            "[nltk_data]    | Downloading package genesis to /root/nltk_data...\n",
            "[nltk_data]    |   Package genesis is already up-to-date!\n",
            "[nltk_data]    | Downloading package gutenberg to /root/nltk_data...\n",
            "[nltk_data]    |   Package gutenberg is already up-to-date!\n",
            "[nltk_data]    | Downloading package ieer to /root/nltk_data...\n",
            "[nltk_data]    |   Package ieer is already up-to-date!\n",
            "[nltk_data]    | Downloading package inaugural to /root/nltk_data...\n",
            "[nltk_data]    |   Package inaugural is already up-to-date!\n",
            "[nltk_data]    | Downloading package indian to /root/nltk_data...\n",
            "[nltk_data]    |   Package indian is already up-to-date!\n",
            "[nltk_data]    | Downloading package jeita to /root/nltk_data...\n",
            "[nltk_data]    |   Package jeita is already up-to-date!\n",
            "[nltk_data]    | Downloading package kimmo to /root/nltk_data...\n",
            "[nltk_data]    |   Package kimmo is already up-to-date!\n",
            "[nltk_data]    | Downloading package knbc to /root/nltk_data...\n",
            "[nltk_data]    |   Package knbc is already up-to-date!\n",
            "[nltk_data]    | Downloading package large_grammars to\n",
            "[nltk_data]    |     /root/nltk_data...\n",
            "[nltk_data]    |   Package large_grammars is already up-to-date!\n",
            "[nltk_data]    | Downloading package lin_thesaurus to\n",
            "[nltk_data]    |     /root/nltk_data...\n",
            "[nltk_data]    |   Package lin_thesaurus is already up-to-date!\n",
            "[nltk_data]    | Downloading package mac_morpho to /root/nltk_data...\n",
            "[nltk_data]    |   Package mac_morpho is already up-to-date!\n",
            "[nltk_data]    | Downloading package machado to /root/nltk_data...\n",
            "[nltk_data]    |   Package machado is already up-to-date!\n",
            "[nltk_data]    | Downloading package masc_tagged to /root/nltk_data...\n",
            "[nltk_data]    |   Package masc_tagged is already up-to-date!\n",
            "[nltk_data]    | Downloading package maxent_ne_chunker to\n",
            "[nltk_data]    |     /root/nltk_data...\n",
            "[nltk_data]    |   Package maxent_ne_chunker is already up-to-date!\n",
            "[nltk_data]    | Downloading package maxent_treebank_pos_tagger to\n",
            "[nltk_data]    |     /root/nltk_data...\n",
            "[nltk_data]    |   Package maxent_treebank_pos_tagger is already up-\n",
            "[nltk_data]    |       to-date!\n",
            "[nltk_data]    | Downloading package moses_sample to\n",
            "[nltk_data]    |     /root/nltk_data...\n",
            "[nltk_data]    |   Package moses_sample is already up-to-date!\n",
            "[nltk_data]    | Downloading package movie_reviews to\n",
            "[nltk_data]    |     /root/nltk_data...\n",
            "[nltk_data]    |   Package movie_reviews is already up-to-date!\n",
            "[nltk_data]    | Downloading package mte_teip5 to /root/nltk_data...\n",
            "[nltk_data]    |   Package mte_teip5 is already up-to-date!\n",
            "[nltk_data]    | Downloading package mwa_ppdb to /root/nltk_data...\n",
            "[nltk_data]    |   Package mwa_ppdb is already up-to-date!\n",
            "[nltk_data]    | Downloading package names to /root/nltk_data...\n",
            "[nltk_data]    |   Package names is already up-to-date!\n",
            "[nltk_data]    | Downloading package nombank.1.0 to /root/nltk_data...\n",
            "[nltk_data]    |   Package nombank.1.0 is already up-to-date!\n",
            "[nltk_data]    | Downloading package nonbreaking_prefixes to\n",
            "[nltk_data]    |     /root/nltk_data...\n",
            "[nltk_data]    |   Package nonbreaking_prefixes is already up-to-date!\n",
            "[nltk_data]    | Downloading package nps_chat to /root/nltk_data...\n",
            "[nltk_data]    |   Package nps_chat is already up-to-date!\n",
            "[nltk_data]    | Downloading package omw to /root/nltk_data...\n",
            "[nltk_data]    |   Package omw is already up-to-date!\n",
            "[nltk_data]    | Downloading package omw-1.4 to /root/nltk_data...\n",
            "[nltk_data]    |   Package omw-1.4 is already up-to-date!\n",
            "[nltk_data]    | Downloading package opinion_lexicon to\n",
            "[nltk_data]    |     /root/nltk_data...\n",
            "[nltk_data]    |   Package opinion_lexicon is already up-to-date!\n",
            "[nltk_data]    | Downloading package panlex_swadesh to\n",
            "[nltk_data]    |     /root/nltk_data...\n",
            "[nltk_data]    |   Package panlex_swadesh is already up-to-date!\n",
            "[nltk_data]    | Downloading package paradigms to /root/nltk_data...\n",
            "[nltk_data]    |   Package paradigms is already up-to-date!\n",
            "[nltk_data]    | Downloading package pe08 to /root/nltk_data...\n",
            "[nltk_data]    |   Package pe08 is already up-to-date!\n",
            "[nltk_data]    | Downloading package perluniprops to\n",
            "[nltk_data]    |     /root/nltk_data...\n",
            "[nltk_data]    |   Package perluniprops is already up-to-date!\n",
            "[nltk_data]    | Downloading package pil to /root/nltk_data...\n",
            "[nltk_data]    |   Package pil is already up-to-date!\n",
            "[nltk_data]    | Downloading package pl196x to /root/nltk_data...\n",
            "[nltk_data]    |   Package pl196x is already up-to-date!\n",
            "[nltk_data]    | Downloading package porter_test to /root/nltk_data...\n",
            "[nltk_data]    |   Package porter_test is already up-to-date!\n",
            "[nltk_data]    | Downloading package ppattach to /root/nltk_data...\n",
            "[nltk_data]    |   Package ppattach is already up-to-date!\n",
            "[nltk_data]    | Downloading package problem_reports to\n",
            "[nltk_data]    |     /root/nltk_data...\n",
            "[nltk_data]    |   Package problem_reports is already up-to-date!\n",
            "[nltk_data]    | Downloading package product_reviews_1 to\n",
            "[nltk_data]    |     /root/nltk_data...\n",
            "[nltk_data]    |   Package product_reviews_1 is already up-to-date!\n",
            "[nltk_data]    | Downloading package product_reviews_2 to\n",
            "[nltk_data]    |     /root/nltk_data...\n",
            "[nltk_data]    |   Package product_reviews_2 is already up-to-date!\n",
            "[nltk_data]    | Downloading package propbank to /root/nltk_data...\n",
            "[nltk_data]    |   Package propbank is already up-to-date!\n",
            "[nltk_data]    | Downloading package pros_cons to /root/nltk_data...\n",
            "[nltk_data]    |   Package pros_cons is already up-to-date!\n",
            "[nltk_data]    | Downloading package ptb to /root/nltk_data...\n",
            "[nltk_data]    |   Package ptb is already up-to-date!\n",
            "[nltk_data]    | Downloading package punkt to /root/nltk_data...\n",
            "[nltk_data]    |   Package punkt is already up-to-date!\n",
            "[nltk_data]    | Downloading package qc to /root/nltk_data...\n",
            "[nltk_data]    |   Package qc is already up-to-date!\n",
            "[nltk_data]    | Downloading package reuters to /root/nltk_data...\n",
            "[nltk_data]    |   Package reuters is already up-to-date!\n",
            "[nltk_data]    | Downloading package rslp to /root/nltk_data...\n",
            "[nltk_data]    |   Package rslp is already up-to-date!\n",
            "[nltk_data]    | Downloading package rte to /root/nltk_data...\n",
            "[nltk_data]    |   Package rte is already up-to-date!\n",
            "[nltk_data]    | Downloading package sample_grammars to\n",
            "[nltk_data]    |     /root/nltk_data...\n",
            "[nltk_data]    |   Package sample_grammars is already up-to-date!\n",
            "[nltk_data]    | Downloading package semcor to /root/nltk_data...\n",
            "[nltk_data]    |   Package semcor is already up-to-date!\n",
            "[nltk_data]    | Downloading package senseval to /root/nltk_data...\n",
            "[nltk_data]    |   Package senseval is already up-to-date!\n",
            "[nltk_data]    | Downloading package sentence_polarity to\n",
            "[nltk_data]    |     /root/nltk_data...\n",
            "[nltk_data]    |   Package sentence_polarity is already up-to-date!\n",
            "[nltk_data]    | Downloading package sentiwordnet to\n",
            "[nltk_data]    |     /root/nltk_data...\n",
            "[nltk_data]    |   Package sentiwordnet is already up-to-date!\n",
            "[nltk_data]    | Downloading package shakespeare to /root/nltk_data...\n",
            "[nltk_data]    |   Package shakespeare is already up-to-date!\n",
            "[nltk_data]    | Downloading package sinica_treebank to\n",
            "[nltk_data]    |     /root/nltk_data...\n",
            "[nltk_data]    |   Package sinica_treebank is already up-to-date!\n",
            "[nltk_data]    | Downloading package smultron to /root/nltk_data...\n",
            "[nltk_data]    |   Package smultron is already up-to-date!\n",
            "[nltk_data]    | Downloading package snowball_data to\n",
            "[nltk_data]    |     /root/nltk_data...\n",
            "[nltk_data]    |   Package snowball_data is already up-to-date!\n",
            "[nltk_data]    | Downloading package spanish_grammars to\n",
            "[nltk_data]    |     /root/nltk_data...\n",
            "[nltk_data]    |   Package spanish_grammars is already up-to-date!\n",
            "[nltk_data]    | Downloading package state_union to /root/nltk_data...\n",
            "[nltk_data]    |   Package state_union is already up-to-date!\n",
            "[nltk_data]    | Downloading package stopwords to /root/nltk_data...\n",
            "[nltk_data]    |   Package stopwords is already up-to-date!\n",
            "[nltk_data]    | Downloading package subjectivity to\n",
            "[nltk_data]    |     /root/nltk_data...\n",
            "[nltk_data]    |   Package subjectivity is already up-to-date!\n",
            "[nltk_data]    | Downloading package swadesh to /root/nltk_data...\n",
            "[nltk_data]    |   Package swadesh is already up-to-date!\n",
            "[nltk_data]    | Downloading package switchboard to /root/nltk_data...\n",
            "[nltk_data]    |   Package switchboard is already up-to-date!\n",
            "[nltk_data]    | Downloading package tagsets to /root/nltk_data...\n",
            "[nltk_data]    |   Package tagsets is already up-to-date!\n",
            "[nltk_data]    | Downloading package timit to /root/nltk_data...\n",
            "[nltk_data]    |   Package timit is already up-to-date!\n",
            "[nltk_data]    | Downloading package toolbox to /root/nltk_data...\n",
            "[nltk_data]    |   Package toolbox is already up-to-date!\n",
            "[nltk_data]    | Downloading package treebank to /root/nltk_data...\n",
            "[nltk_data]    |   Package treebank is already up-to-date!\n",
            "[nltk_data]    | Downloading package twitter_samples to\n",
            "[nltk_data]    |     /root/nltk_data...\n",
            "[nltk_data]    |   Package twitter_samples is already up-to-date!\n",
            "[nltk_data]    | Downloading package udhr to /root/nltk_data...\n",
            "[nltk_data]    |   Package udhr is already up-to-date!\n",
            "[nltk_data]    | Downloading package udhr2 to /root/nltk_data...\n",
            "[nltk_data]    |   Package udhr2 is already up-to-date!\n",
            "[nltk_data]    | Downloading package unicode_samples to\n",
            "[nltk_data]    |     /root/nltk_data...\n",
            "[nltk_data]    |   Package unicode_samples is already up-to-date!\n",
            "[nltk_data]    | Downloading package universal_tagset to\n",
            "[nltk_data]    |     /root/nltk_data...\n",
            "[nltk_data]    |   Package universal_tagset is already up-to-date!\n",
            "[nltk_data]    | Downloading package universal_treebanks_v20 to\n",
            "[nltk_data]    |     /root/nltk_data...\n",
            "[nltk_data]    |   Package universal_treebanks_v20 is already up-to-\n",
            "[nltk_data]    |       date!\n",
            "[nltk_data]    | Downloading package vader_lexicon to\n",
            "[nltk_data]    |     /root/nltk_data...\n",
            "[nltk_data]    |   Package vader_lexicon is already up-to-date!\n",
            "[nltk_data]    | Downloading package verbnet to /root/nltk_data...\n",
            "[nltk_data]    |   Package verbnet is already up-to-date!\n",
            "[nltk_data]    | Downloading package verbnet3 to /root/nltk_data...\n",
            "[nltk_data]    |   Package verbnet3 is already up-to-date!\n",
            "[nltk_data]    | Downloading package webtext to /root/nltk_data...\n",
            "[nltk_data]    |   Package webtext is already up-to-date!\n",
            "[nltk_data]    | Downloading package wmt15_eval to /root/nltk_data...\n",
            "[nltk_data]    |   Package wmt15_eval is already up-to-date!\n",
            "[nltk_data]    | Downloading package word2vec_sample to\n",
            "[nltk_data]    |     /root/nltk_data...\n",
            "[nltk_data]    |   Package word2vec_sample is already up-to-date!\n",
            "[nltk_data]    | Downloading package wordnet to /root/nltk_data...\n",
            "[nltk_data]    |   Package wordnet is already up-to-date!\n",
            "[nltk_data]    | Downloading package wordnet2021 to /root/nltk_data...\n",
            "[nltk_data]    |   Package wordnet2021 is already up-to-date!\n",
            "[nltk_data]    | Downloading package wordnet2022 to /root/nltk_data...\n",
            "[nltk_data]    |   Package wordnet2022 is already up-to-date!\n",
            "[nltk_data]    | Downloading package wordnet31 to /root/nltk_data...\n",
            "[nltk_data]    |   Package wordnet31 is already up-to-date!\n",
            "[nltk_data]    | Downloading package wordnet_ic to /root/nltk_data...\n",
            "[nltk_data]    |   Package wordnet_ic is already up-to-date!\n",
            "[nltk_data]    | Downloading package words to /root/nltk_data...\n",
            "[nltk_data]    |   Package words is already up-to-date!\n",
            "[nltk_data]    | Downloading package ycoe to /root/nltk_data...\n",
            "[nltk_data]    |   Package ycoe is already up-to-date!\n",
            "[nltk_data]    | \n",
            "[nltk_data]  Done downloading collection all\n"
          ]
        },
        {
          "output_type": "execute_result",
          "data": {
            "text/plain": [
              "True"
            ]
          },
          "metadata": {},
          "execution_count": 63
        }
      ]
    },
    {
      "cell_type": "code",
      "source": [
        "import nltk\n",
        "from nltk.tokenize import sent_tokenize, word_tokenize\n",
        "\n",
        "E_TEXT = \"Hello-Hello , - i am Mahima Shree\"\n",
        "\n",
        "a= word_tokenize(E_TEXT)\n",
        "# type(a)\n",
        "a"
      ],
      "metadata": {
        "colab": {
          "base_uri": "https://localhost:8080/"
        },
        "id": "R7QstBl5woVL",
        "outputId": "ab885248-ce0a-4cc9-cfda-bd09fba7d884"
      },
      "execution_count": null,
      "outputs": [
        {
          "output_type": "execute_result",
          "data": {
            "text/plain": [
              "['Hello-Hello', ',', '-', 'i', 'am', 'Mahima', 'Shree']"
            ]
          },
          "metadata": {},
          "execution_count": 64
        }
      ]
    },
    {
      "cell_type": "code",
      "source": [
        "from nltk.tokenize import sent_tokenize, word_tokenize\n",
        "\n",
        "S2_TEXT = \"Positive thinking is all. A matter of habits If you are; not quite a positive thinker Change Yourself?\"\n",
        "\n",
        "print(sent_tokenize(S2_TEXT))\n",
        "\n",
        "## type(sent_tokenize(E_TEXT)) ##that !endspace ,?,."
      ],
      "metadata": {
        "colab": {
          "base_uri": "https://localhost:8080/"
        },
        "id": "hc8IcUXnxIEj",
        "outputId": "e194858d-c68b-4d62-b5a0-edfdac8e9df4"
      },
      "execution_count": null,
      "outputs": [
        {
          "output_type": "stream",
          "name": "stdout",
          "text": [
            "['Positive thinking is all.', 'A matter of habits If you are; not quite a positive thinker Change Yourself?']\n"
          ]
        }
      ]
    },
    {
      "cell_type": "code",
      "source": [
        "##  store the words and sentences and type cast it:\n",
        "\n",
        "#from nltk.tokenize import sent_tokenize, word_tokenize\n",
        "import numpy as np\n",
        "\n",
        "data = \"All work and no play makes jack dull boy. All work and no play makes jack a dull boy.\"\n",
        "\n",
        "phrases = sent_tokenize(data)\n",
        "words = word_tokenize(data)\n",
        "\n",
        "\n",
        "new_array=np.array(words)\n",
        "new_array"
      ],
      "metadata": {
        "colab": {
          "base_uri": "https://localhost:8080/"
        },
        "id": "pRIxvTQQzhZQ",
        "outputId": "9e7b3627-0561-4371-eb6d-ec9fb9b53c6a"
      },
      "execution_count": null,
      "outputs": [
        {
          "output_type": "execute_result",
          "data": {
            "text/plain": [
              "array(['All', 'work', 'and', 'no', 'play', 'makes', 'jack', 'dull', 'boy',\n",
              "       '.', 'All', 'work', 'and', 'no', 'play', 'makes', 'jack', 'a',\n",
              "       'dull', 'boy', '.'], dtype='<U5')"
            ]
          },
          "metadata": {},
          "execution_count": 66
        }
      ]
    },
    {
      "cell_type": "code",
      "source": [
        "from nltk.corpus import stopwords\n",
        "from nltk.tokenize import word_tokenize\n",
        "\n",
        "a = \"I think i that Learning  DATA Science will bring a big leap in your Carrier Profile. Data science is an interdisciplinary field that uses scientific methods, processes, algorithms and systems to extract knowledge and insights from noisy, structured and unstructured data, and apply knowledge from data across a broad range of application domains\"\n",
        "word_tokens = word_tokenize(a)\n",
        "word_tokens"
      ],
      "metadata": {
        "colab": {
          "base_uri": "https://localhost:8080/"
        },
        "id": "tUI3ZbKXzhoH",
        "outputId": "148cd69e-727d-4f0b-9d22-4aa6ec9f94da"
      },
      "execution_count": null,
      "outputs": [
        {
          "output_type": "execute_result",
          "data": {
            "text/plain": [
              "['I',\n",
              " 'think',\n",
              " 'i',\n",
              " 'that',\n",
              " 'Learning',\n",
              " 'DATA',\n",
              " 'Science',\n",
              " 'will',\n",
              " 'bring',\n",
              " 'a',\n",
              " 'big',\n",
              " 'leap',\n",
              " 'in',\n",
              " 'your',\n",
              " 'Carrier',\n",
              " 'Profile',\n",
              " '.',\n",
              " 'Data',\n",
              " 'science',\n",
              " 'is',\n",
              " 'an',\n",
              " 'interdisciplinary',\n",
              " 'field',\n",
              " 'that',\n",
              " 'uses',\n",
              " 'scientific',\n",
              " 'methods',\n",
              " ',',\n",
              " 'processes',\n",
              " ',',\n",
              " 'algorithms',\n",
              " 'and',\n",
              " 'systems',\n",
              " 'to',\n",
              " 'extract',\n",
              " 'knowledge',\n",
              " 'and',\n",
              " 'insights',\n",
              " 'from',\n",
              " 'noisy',\n",
              " ',',\n",
              " 'structured',\n",
              " 'and',\n",
              " 'unstructured',\n",
              " 'data',\n",
              " ',',\n",
              " 'and',\n",
              " 'apply',\n",
              " 'knowledge',\n",
              " 'from',\n",
              " 'data',\n",
              " 'across',\n",
              " 'a',\n",
              " 'broad',\n",
              " 'range',\n",
              " 'of',\n",
              " 'application',\n",
              " 'domains']"
            ]
          },
          "metadata": {},
          "execution_count": 67
        }
      ]
    },
    {
      "cell_type": "code",
      "source": [
        "stop_words1 = set(stopwords.words('english')) #downloads the file with english stop words\n",
        "word_tokens = word_tokenize(a)\n",
        "\n",
        "filtered_sentence = [w for w in word_tokens if not w in stop_words1]\n",
        "print(filtered_sentence)\n",
        "#print(word_tokens)\n",
        "#print(filtered_sentence)\n",
        "print(\"The number of words stopped :\",(len(word_tokens)-len(filtered_sentence)))"
      ],
      "metadata": {
        "colab": {
          "base_uri": "https://localhost:8080/"
        },
        "id": "eVNV717f0JHx",
        "outputId": "7e7cf9ca-114f-400a-fdcf-4d20190a7fba"
      },
      "execution_count": null,
      "outputs": [
        {
          "output_type": "stream",
          "name": "stdout",
          "text": [
            "['I', 'think', 'Learning', 'DATA', 'Science', 'bring', 'big', 'leap', 'Carrier', 'Profile', '.', 'Data', 'science', 'interdisciplinary', 'field', 'uses', 'scientific', 'methods', ',', 'processes', ',', 'algorithms', 'systems', 'extract', 'knowledge', 'insights', 'noisy', ',', 'structured', 'unstructured', 'data', ',', 'apply', 'knowledge', 'data', 'across', 'broad', 'range', 'application', 'domains']\n",
            "The number of words stopped : 18\n"
          ]
        }
      ]
    },
    {
      "cell_type": "code",
      "source": [
        "b=[\"I\",\".\",\",\"]  #Creating your own Stop word list\n",
        "stop_words1=list(stop_words1)\n",
        "stop_words2 = b #downloads the file with english stop words\n",
        "stop_words=stop_words1+stop_words2\n",
        "word_tokens = word_tokenize(a)\n",
        "\n",
        "filtered_sentence = [w for w in word_tokens if not w in stop_words]\n",
        "print(filtered_sentence)\n",
        "\n",
        "#print(word_tokens)\n",
        "#print(filtered_sentence)\n",
        "print(\"The number of words stopped :\",(len(word_tokens)-len(filtered_sentence)))"
      ],
      "metadata": {
        "colab": {
          "base_uri": "https://localhost:8080/"
        },
        "id": "ZZdE6SLJ0JT_",
        "outputId": "bd7ededa-ffb0-4dbd-b32b-44f249c53142"
      },
      "execution_count": null,
      "outputs": [
        {
          "output_type": "stream",
          "name": "stdout",
          "text": [
            "['think', 'Learning', 'DATA', 'Science', 'bring', 'big', 'leap', 'Carrier', 'Profile', 'Data', 'science', 'interdisciplinary', 'field', 'uses', 'scientific', 'methods', 'processes', 'algorithms', 'systems', 'extract', 'knowledge', 'insights', 'noisy', 'structured', 'unstructured', 'data', 'apply', 'knowledge', 'data', 'across', 'broad', 'range', 'application', 'domains']\n",
            "The number of words stopped : 24\n"
          ]
        }
      ]
    },
    {
      "cell_type": "markdown",
      "source": [
        "# **LAB Questions1**"
      ],
      "metadata": {
        "id": "Z_LDCvNylNxP"
      }
    },
    {
      "cell_type": "code",
      "source": [
        "data1 = '20 years ago, we all found in different ways in different places but all at the same moment.'\n",
        "data2 = 'That our lives would be changed forever. The world was loud with carnage and sirens and then quiet with missing voices that would never be heard again.'\n",
        "data3 = 'These lives remain precious to our country and infinitely precious to many of you. Today, we remember your loss, we share your sorrow, and we honor the men and women you have loved so long and so well. For those too young to recall that clear September day, it is hard to describe the mix of feelings we experienced.'\n",
        "data4 = 'There was horror at the scale of destruction. and awe at the bravery and kindness that rose to meet it. There was, shock! at the audacity of evil and gratitude, for the heroism and decency that opposed it? In the sacrifice!'"
      ],
      "metadata": {
        "id": "8na_p8vQ0Zgm"
      },
      "execution_count": null,
      "outputs": []
    },
    {
      "cell_type": "code",
      "source": [
        "import nltk\n",
        "from nltk.tokenize import sent_tokenize, word_tokenize"
      ],
      "metadata": {
        "id": "XydkwtZl2ehd"
      },
      "execution_count": null,
      "outputs": []
    },
    {
      "cell_type": "code",
      "source": [
        "word_tokens1 = word_tokenize(data1)\n",
        "word_tokens2 = word_tokenize(data2)\n",
        "word_tokens3 = word_tokenize(data3)\n",
        "word_tokens4 = word_tokenize(data4)\n"
      ],
      "metadata": {
        "id": "muNwWseA3C7O"
      },
      "execution_count": null,
      "outputs": []
    },
    {
      "cell_type": "code",
      "source": [
        "print(word_tokens1)\n",
        "print(word_tokens2)\n",
        "print(word_tokens3)\n",
        "print(word_tokens4)"
      ],
      "metadata": {
        "colab": {
          "base_uri": "https://localhost:8080/"
        },
        "id": "4nY3y4aw3C-s",
        "outputId": "76cd2740-30d1-494b-b0c3-d88570876ed3"
      },
      "execution_count": null,
      "outputs": [
        {
          "output_type": "stream",
          "name": "stdout",
          "text": [
            "['20', 'years', 'ago', ',', 'we', 'all', 'found', 'in', 'different', 'ways', 'in', 'different', 'places', 'but', 'all', 'at', 'the', 'same', 'moment', '.']\n",
            "['That', 'our', 'lives', 'would', 'be', 'changed', 'forever', '.', 'The', 'world', 'was', 'loud', 'with', 'carnage', 'and', 'sirens', 'and', 'then', 'quiet', 'with', 'missing', 'voices', 'that', 'would', 'never', 'be', 'heard', 'again', '.']\n",
            "['These', 'lives', 'remain', 'precious', 'to', 'our', 'country', 'and', 'infinitely', 'precious', 'to', 'many', 'of', 'you', '.', 'Today', ',', 'we', 'remember', 'your', 'loss', ',', 'we', 'share', 'your', 'sorrow', ',', 'and', 'we', 'honor', 'the', 'men', 'and', 'women', 'you', 'have', 'loved', 'so', 'long', 'and', 'so', 'well', '.', 'For', 'those', 'too', 'young', 'to', 'recall', 'that', 'clear', 'September', 'day', ',', 'it', 'is', 'hard', 'to', 'describe', 'the', 'mix', 'of', 'feelings', 'we', 'experienced', '.']\n",
            "['There', 'was', 'horror', 'at', 'the', 'scale', 'of', 'destruction', '.', 'and', 'awe', 'at', 'the', 'bravery', 'and', 'kindness', 'that', 'rose', 'to', 'meet', 'it', '.', 'There', 'was', ',', 'shock', '!', 'at', 'the', 'audacity', 'of', 'evil', 'and', 'gratitude', ',', 'for', 'the', 'heroism', 'and', 'decency', 'that', 'opposed', 'it', '?', 'In', 'the', 'sacrifice', '!']\n"
          ]
        }
      ]
    },
    {
      "cell_type": "code",
      "source": [
        "sent_tokens1 = sent_tokenize(data1)\n",
        "sent_tokens2 = sent_tokenize(data2)\n",
        "sent_tokens3 = sent_tokenize(data3)\n",
        "sent_tokens4 = sent_tokenize(data4)"
      ],
      "metadata": {
        "id": "-lNy6oTM9Ahq"
      },
      "execution_count": null,
      "outputs": []
    },
    {
      "cell_type": "code",
      "source": [
        "print(sent_tokens1)\n",
        "print(sent_tokens2)\n",
        "print(sent_tokens3)\n",
        "print(sent_tokens4)"
      ],
      "metadata": {
        "colab": {
          "base_uri": "https://localhost:8080/"
        },
        "id": "3RIVf9e_9Axg",
        "outputId": "a51e061a-4f89-49c5-940c-2b301135c058"
      },
      "execution_count": null,
      "outputs": [
        {
          "output_type": "stream",
          "name": "stdout",
          "text": [
            "['20 years ago, we all found in different ways in different places but all at the same moment.']\n",
            "['That our lives would be changed forever.', 'The world was loud with carnage and sirens and then quiet with missing voices that would never be heard again.']\n",
            "['These lives remain precious to our country and infinitely precious to many of you.', 'Today, we remember your loss, we share your sorrow, and we honor the men and women you have loved so long and so well.', 'For those too young to recall that clear September day, it is hard to describe the mix of feelings we experienced.']\n",
            "['There was horror at the scale of destruction.', 'and awe at the bravery and kindness that rose to meet it.', 'There was, shock!', 'at the audacity of evil and gratitude, for the heroism and decency that opposed it?', 'In the sacrifice!']\n"
          ]
        }
      ]
    },
    {
      "cell_type": "code",
      "source": [
        "from nltk.corpus import stopwords"
      ],
      "metadata": {
        "id": "4HZUB1sk2GcX"
      },
      "execution_count": null,
      "outputs": []
    },
    {
      "cell_type": "code",
      "source": [
        "stop_words1 = set(stopwords.words('english'))\n",
        "\n",
        "filtered_sentence1 = [w for w in word_tokens1 if not w in stop_words1]\n",
        "print(word_tokens1)\n",
        "print(filtered_sentence1)\n",
        "print(\"The number of words stopped :\",(len(word_tokens1)-len(filtered_sentence1)))"
      ],
      "metadata": {
        "colab": {
          "base_uri": "https://localhost:8080/"
        },
        "id": "wMu3lNgR9v1W",
        "outputId": "c2f5a1c0-800c-45c3-e466-78fae4efe851"
      },
      "execution_count": null,
      "outputs": [
        {
          "output_type": "stream",
          "name": "stdout",
          "text": [
            "['20', 'years', 'ago', ',', 'we', 'all', 'found', 'in', 'different', 'ways', 'in', 'different', 'places', 'but', 'all', 'at', 'the', 'same', 'moment', '.']\n",
            "['20', 'years', 'ago', ',', 'found', 'different', 'ways', 'different', 'places', 'moment', '.']\n",
            "The number of words stopped : 9\n"
          ]
        }
      ]
    },
    {
      "cell_type": "code",
      "source": [
        "stop_words2 = set(stopwords.words('english'))\n",
        "\n",
        "filtered_sentence2 = [w for w in word_tokens2 if not w in stop_words2]\n",
        "print(word_tokens2)\n",
        "print(filtered_sentence2)\n",
        "print(\"The number of words stopped :\",(len(word_tokens2)-len(filtered_sentence2)))"
      ],
      "metadata": {
        "colab": {
          "base_uri": "https://localhost:8080/"
        },
        "id": "wUv5kjhz_Llu",
        "outputId": "da90c22d-f20d-40fb-b99d-ad87a975dc64"
      },
      "execution_count": null,
      "outputs": [
        {
          "output_type": "stream",
          "name": "stdout",
          "text": [
            "['That', 'our', 'lives', 'would', 'be', 'changed', 'forever', '.', 'The', 'world', 'was', 'loud', 'with', 'carnage', 'and', 'sirens', 'and', 'then', 'quiet', 'with', 'missing', 'voices', 'that', 'would', 'never', 'be', 'heard', 'again', '.']\n",
            "['That', 'lives', 'would', 'changed', 'forever', '.', 'The', 'world', 'loud', 'carnage', 'sirens', 'quiet', 'missing', 'voices', 'would', 'never', 'heard', '.']\n",
            "The number of words stopped : 11\n"
          ]
        }
      ]
    },
    {
      "cell_type": "code",
      "source": [
        "stop_words3 = set(stopwords.words('english'))\n",
        "\n",
        "filtered_sentence3 = [w for w in word_tokens3 if not w in stop_words3]\n",
        "print(word_tokens3)\n",
        "print(filtered_sentence3)\n",
        "print(\"The number of words stopped :\",(len(word_tokens3)-len(filtered_sentence3)))"
      ],
      "metadata": {
        "colab": {
          "base_uri": "https://localhost:8080/"
        },
        "id": "k38mE0-4_LpE",
        "outputId": "3cd22ac2-3111-4e25-f29c-11bfd30bdffa"
      },
      "execution_count": null,
      "outputs": [
        {
          "output_type": "stream",
          "name": "stdout",
          "text": [
            "['These', 'lives', 'remain', 'precious', 'to', 'our', 'country', 'and', 'infinitely', 'precious', 'to', 'many', 'of', 'you', '.', 'Today', ',', 'we', 'remember', 'your', 'loss', ',', 'we', 'share', 'your', 'sorrow', ',', 'and', 'we', 'honor', 'the', 'men', 'and', 'women', 'you', 'have', 'loved', 'so', 'long', 'and', 'so', 'well', '.', 'For', 'those', 'too', 'young', 'to', 'recall', 'that', 'clear', 'September', 'day', ',', 'it', 'is', 'hard', 'to', 'describe', 'the', 'mix', 'of', 'feelings', 'we', 'experienced', '.']\n",
            "['These', 'lives', 'remain', 'precious', 'country', 'infinitely', 'precious', 'many', '.', 'Today', ',', 'remember', 'loss', ',', 'share', 'sorrow', ',', 'honor', 'men', 'women', 'loved', 'long', 'well', '.', 'For', 'young', 'recall', 'clear', 'September', 'day', ',', 'hard', 'describe', 'mix', 'feelings', 'experienced', '.']\n",
            "The number of words stopped : 29\n"
          ]
        }
      ]
    },
    {
      "cell_type": "code",
      "source": [
        "stop_words4 = set(stopwords.words('english'))\n",
        "\n",
        "filtered_sentence4 = [w for w in word_tokens4 if not w in stop_words4]\n",
        "print(word_tokens4)\n",
        "print(filtered_sentence4)\n",
        "print(\"The number of words stopped :\",(len(word_tokens4)-len(filtered_sentence4)))"
      ],
      "metadata": {
        "colab": {
          "base_uri": "https://localhost:8080/"
        },
        "id": "cnzZtpE3_L6m",
        "outputId": "f63b6526-e941-4311-9130-17fcea162c5a"
      },
      "execution_count": null,
      "outputs": [
        {
          "output_type": "stream",
          "name": "stdout",
          "text": [
            "['There', 'was', 'horror', 'at', 'the', 'scale', 'of', 'destruction', '.', 'and', 'awe', 'at', 'the', 'bravery', 'and', 'kindness', 'that', 'rose', 'to', 'meet', 'it', '.', 'There', 'was', ',', 'shock', '!', 'at', 'the', 'audacity', 'of', 'evil', 'and', 'gratitude', ',', 'for', 'the', 'heroism', 'and', 'decency', 'that', 'opposed', 'it', '?', 'In', 'the', 'sacrifice', '!']\n",
            "['There', 'horror', 'scale', 'destruction', '.', 'awe', 'bravery', 'kindness', 'rose', 'meet', '.', 'There', ',', 'shock', '!', 'audacity', 'evil', 'gratitude', ',', 'heroism', 'decency', 'opposed', '?', 'In', 'sacrifice', '!']\n",
            "The number of words stopped : 22\n"
          ]
        }
      ]
    },
    {
      "cell_type": "code",
      "source": [
        "extra_stop_words=[\".\",\",\",\"!\"]"
      ],
      "metadata": {
        "id": "RClKP2NS_MO4"
      },
      "execution_count": null,
      "outputs": []
    },
    {
      "cell_type": "code",
      "source": [
        "stop_words1=list(stop_words1)\n",
        "stop_words2 = extra_stop_words\n",
        "stop_words=stop_words1+stop_words2\n",
        "\n",
        "filtered_sentence1 = [w for w in word_tokens1 if not w in stop_words]\n",
        "print(filtered_sentence1)\n",
        "\n",
        "#print(word_tokens)\n",
        "#print(filtered_sentence)\n",
        "print(\"The number of words stopped :\",(len(word_tokens1)-len(filtered_sentence1)))"
      ],
      "metadata": {
        "colab": {
          "base_uri": "https://localhost:8080/"
        },
        "id": "jmZmMjdC9wB9",
        "outputId": "ef91a567-617c-4b53-c633-5ebabbba64f0"
      },
      "execution_count": null,
      "outputs": [
        {
          "output_type": "stream",
          "name": "stdout",
          "text": [
            "['20', 'years', 'ago', 'found', 'different', 'ways', 'different', 'places', 'moment']\n",
            "The number of words stopped : 11\n"
          ]
        }
      ]
    },
    {
      "cell_type": "code",
      "source": [
        "from nltk.stem import PorterStemmer\n",
        "from nltk.tokenize import sent_tokenize, word_tokenize\n",
        "\n",
        "ps = PorterStemmer() ## defining stemmer\n",
        "s_words = [\"Aims\",\"Aims\",\"Aimed\",\"Aimm\",\"Aiming\",\"Aim\"]\n",
        "for i in s_words:\n",
        "    print(ps.stem(i))"
      ],
      "metadata": {
        "id": "xgO67GKP-7KX",
        "outputId": "ca9043f2-ed5d-4d59-a456-48ce32fa2f62",
        "colab": {
          "base_uri": "https://localhost:8080/"
        }
      },
      "execution_count": null,
      "outputs": [
        {
          "output_type": "stream",
          "name": "stdout",
          "text": [
            "aim\n",
            "aim\n",
            "aim\n",
            "aimm\n",
            "aim\n",
            "aim\n"
          ]
        }
      ]
    },
    {
      "cell_type": "code",
      "source": [
        "from nltk.stem import PorterStemmer\n",
        "from nltk.tokenize import sent_tokenize, word_tokenize\n",
        "\n",
        "ps = PorterStemmer() ## defining stemmer\n",
        "s_words = [\"Dances\", \"dances\", \"Dancing\", \"dancer\", \"dances\", \"danced\", \"ddd\",\"Sang\",\"sings\",\"singings\",\"that\"]\n",
        "for i in s_words:\n",
        "    print(ps.stem(i))"
      ],
      "metadata": {
        "id": "o2Z46lVVXkoE",
        "outputId": "0ddb4b29-26af-4353-b069-bb04521c06ff",
        "colab": {
          "base_uri": "https://localhost:8080/"
        }
      },
      "execution_count": null,
      "outputs": [
        {
          "output_type": "stream",
          "name": "stdout",
          "text": [
            "danc\n",
            "danc\n",
            "danc\n",
            "dancer\n",
            "danc\n",
            "danc\n",
            "ddd\n",
            "sang\n",
            "sing\n",
            "sing\n",
            "that\n"
          ]
        }
      ]
    },
    {
      "cell_type": "code",
      "source": [
        "import nltk\n",
        "from nltk.stem import PorterStemmer\n",
        "from nltk.tokenize import sent_tokenize, word_tokenize\n",
        "\n",
        "ps = PorterStemmer() ## defining stemmer\n",
        "s_words = [\"Calls\",\"Caller\",\"Calling\",\"Call\",\"Called\",\"Callli\"]\n",
        "for i in s_words:\n",
        "    print(ps.stem(i))"
      ],
      "metadata": {
        "id": "mfrpF_ViXq67",
        "outputId": "23ac42fa-12a1-4862-bd47-746fb574f32a",
        "colab": {
          "base_uri": "https://localhost:8080/"
        }
      },
      "execution_count": null,
      "outputs": [
        {
          "output_type": "stream",
          "name": "stdout",
          "text": [
            "call\n",
            "caller\n",
            "call\n",
            "call\n",
            "call\n",
            "callli\n"
          ]
        }
      ]
    },
    {
      "cell_type": "code",
      "source": [
        "import nltk\n",
        "from nltk.tokenize import PunktSentenceTokenizer\n",
        "\n",
        "document = 'Whether you\\'re new to DataScience or an experienced , it\\'s easy to learn and use Python.'\n",
        "sentences = nltk.sent_tokenize(document)\n",
        "for sent in sentences:\n",
        "    print(nltk.pos_tag(nltk.word_tokenize(sent)))"
      ],
      "metadata": {
        "id": "3to49PMlXq_O",
        "outputId": "bdee4e82-886c-4b85-dfa1-6a0a5eed5211",
        "colab": {
          "base_uri": "https://localhost:8080/"
        }
      },
      "execution_count": null,
      "outputs": [
        {
          "output_type": "stream",
          "name": "stdout",
          "text": [
            "[('Whether', 'IN'), ('you', 'PRP'), (\"'re\", 'VBP'), ('new', 'JJ'), ('to', 'TO'), ('DataScience', 'NNP'), ('or', 'CC'), ('an', 'DT'), ('experienced', 'JJ'), (',', ','), ('it', 'PRP'), (\"'s\", 'VBZ'), ('easy', 'JJ'), ('to', 'TO'), ('learn', 'VB'), ('and', 'CC'), ('use', 'VB'), ('Python', 'NNP'), ('.', '.')]\n"
          ]
        }
      ]
    },
    {
      "cell_type": "code",
      "source": [
        "import nltk\n",
        "from nltk.tokenize import PunktSentenceTokenizer\n",
        "\n",
        "document = \"Life is a journey, not a destination.It's about the experiences we gather, the relationships we build, and the lessons we learn along the way. Embrace each moment, find joy in the simple things, and remember that even the challenges help shape who we are\"\n",
        "sentences = nltk.sent_tokenize(document)\n",
        "for sent in sentences:\n",
        "    print(nltk.pos_tag(nltk.word_tokenize(sent)))"
      ],
      "metadata": {
        "id": "6Ca4U3gtXrG-",
        "outputId": "0294dd9d-ee24-4fe8-94ce-fa3d652a07b2",
        "colab": {
          "base_uri": "https://localhost:8080/"
        }
      },
      "execution_count": null,
      "outputs": [
        {
          "output_type": "stream",
          "name": "stdout",
          "text": [
            "[('Life', 'NNP'), ('is', 'VBZ'), ('a', 'DT'), ('journey', 'NN'), (',', ','), ('not', 'RB'), ('a', 'DT'), ('destination.It', 'NN'), (\"'s\", 'POS'), ('about', 'IN'), ('the', 'DT'), ('experiences', 'NNS'), ('we', 'PRP'), ('gather', 'VBP'), (',', ','), ('the', 'DT'), ('relationships', 'NNS'), ('we', 'PRP'), ('build', 'VBP'), (',', ','), ('and', 'CC'), ('the', 'DT'), ('lessons', 'NNS'), ('we', 'PRP'), ('learn', 'VBP'), ('along', 'IN'), ('the', 'DT'), ('way', 'NN'), ('.', '.')]\n",
            "[('Embrace', 'NNP'), ('each', 'DT'), ('moment', 'NN'), (',', ','), ('find', 'VBP'), ('joy', 'NN'), ('in', 'IN'), ('the', 'DT'), ('simple', 'JJ'), ('things', 'NNS'), (',', ','), ('and', 'CC'), ('remember', 'VB'), ('that', 'WDT'), ('even', 'RB'), ('the', 'DT'), ('challenges', 'NNS'), ('help', 'VBP'), ('shape', 'NN'), ('who', 'WP'), ('we', 'PRP'), ('are', 'VBP')]\n"
          ]
        }
      ]
    },
    {
      "cell_type": "code",
      "source": [
        "import nltk\n",
        "from nltk.tokenize import PunktSentenceTokenizer\n",
        "\n",
        "document = 'Time flies like an arrow.'\n",
        "sentences = nltk.sent_tokenize(document)\n",
        "for sent in sentences:\n",
        "    print(nltk.pos_tag(nltk.word_tokenize(sent)))"
      ],
      "metadata": {
        "id": "PAz6sDdYaLg9",
        "outputId": "b7091db4-818b-45e3-f9c2-811f1dcfb72a",
        "colab": {
          "base_uri": "https://localhost:8080/"
        }
      },
      "execution_count": null,
      "outputs": [
        {
          "output_type": "stream",
          "name": "stdout",
          "text": [
            "[('Time', 'NNP'), ('flies', 'NNS'), ('like', 'IN'), ('an', 'DT'), ('arrow', 'NN'), ('.', '.')]\n"
          ]
        }
      ]
    },
    {
      "cell_type": "code",
      "source": [
        "import nltk\n",
        "from nltk.corpus import wordnet\n",
        "synonyms = []\n",
        "antonyms = []\n",
        "\n",
        "for syn in wordnet.synsets(\"Sound\"):\n",
        "    for l in syn.lemmas():\n",
        "        synonyms.append(l.name())\n",
        "        if l.antonyms():\n",
        "            antonyms.append(l.antonyms()[0].name())\n",
        "\n",
        "print(\"Similar words =\",set(synonyms))\n",
        "print(set(antonyms))"
      ],
      "metadata": {
        "id": "KlTPztXHXrPA",
        "outputId": "1fc5eb9a-5ec1-492d-bc8d-ad69a4ba4658",
        "colab": {
          "base_uri": "https://localhost:8080/"
        }
      },
      "execution_count": null,
      "outputs": [
        {
          "output_type": "stream",
          "name": "stdout",
          "text": [
            "Similar words = {'strait', 'sound', 'go', 'levelheaded', 'heavy', 'reasoned', 'well-grounded', 'audio', 'legal', 'wakeless', 'profound', 'auditory_sensation', 'good', 'speech_sound', 'fathom', 'voice', 'vocalise', 'phone', 'effectual', 'level-headed', 'healthy', 'vocalize', 'intelligent'}\n",
            "{'silence', 'unsound', 'devoice'}\n"
          ]
        }
      ]
    },
    {
      "cell_type": "code",
      "source": [
        "import nltk\n",
        "from nltk.corpus import wordnet\n",
        "synonyms = []\n",
        "antonyms = []\n",
        "\n",
        "for syn in wordnet.synsets(\"eavesdropping\"):\n",
        "    for l in syn.lemmas():\n",
        "        synonyms.append(l.name())\n",
        "        if l.antonyms():\n",
        "            antonyms.append(l.antonyms()[0].name())\n",
        "\n",
        "print(\"Similar words =\",set(synonyms))\n",
        "print(set(antonyms))"
      ],
      "metadata": {
        "id": "kXRskHBQapFT",
        "outputId": "9d2c193e-aace-4c60-ed4a-abaa985ba375",
        "colab": {
          "base_uri": "https://localhost:8080/"
        }
      },
      "execution_count": null,
      "outputs": [
        {
          "output_type": "stream",
          "name": "stdout",
          "text": [
            "Similar words = {'listen_in', 'eavesdrop'}\n",
            "set()\n"
          ]
        }
      ]
    },
    {
      "cell_type": "code",
      "source": [
        "import nltk\n",
        "from nltk.corpus import wordnet\n",
        "synonyms = []\n",
        "antonyms = []\n",
        "\n",
        "for syn in wordnet.synsets(\"Deepfake\"):\n",
        "    for l in syn.lemmas():\n",
        "        synonyms.append(l.name())\n",
        "        if l.antonyms():\n",
        "            antonyms.append(l.antonyms()[0].name())\n",
        "\n",
        "print(\"Similar words =\",set(synonyms))\n",
        "print(set(antonyms))"
      ],
      "metadata": {
        "id": "kAhHKm3XXrS1",
        "outputId": "8593d32b-d531-403b-ed50-0277e37d4ed2",
        "colab": {
          "base_uri": "https://localhost:8080/"
        }
      },
      "execution_count": null,
      "outputs": [
        {
          "output_type": "stream",
          "name": "stdout",
          "text": [
            "Similar words = set()\n",
            "set()\n"
          ]
        }
      ]
    },
    {
      "cell_type": "code",
      "source": [
        "import nltk\n",
        "from nltk.corpus import wordnet\n",
        "synonyms = []\n",
        "antonyms = []\n",
        "\n",
        "for syn in wordnet.synsets(\"Metaverse\"):\n",
        "    for l in syn.lemmas():\n",
        "        synonyms.append(l.name())\n",
        "        if l.antonyms():\n",
        "            antonyms.append(l.antonyms()[0].name())\n",
        "\n",
        "print(\"Similar words =\",set(synonyms))\n",
        "print(set(antonyms))"
      ],
      "metadata": {
        "id": "7mboYyxQayLi",
        "outputId": "54de76aa-4691-463e-c38d-131bd774d6e1",
        "colab": {
          "base_uri": "https://localhost:8080/"
        }
      },
      "execution_count": null,
      "outputs": [
        {
          "output_type": "stream",
          "name": "stdout",
          "text": [
            "Similar words = set()\n",
            "set()\n"
          ]
        }
      ]
    },
    {
      "cell_type": "code",
      "source": [
        "import nltk\n",
        "from nltk.corpus import wordnet\n",
        "synonyms = []\n",
        "antonyms = []\n",
        "\n",
        "for syn in wordnet.synsets(\"Procastination\"):\n",
        "    for l in syn.lemmas():\n",
        "        synonyms.append(l.name())\n",
        "        if l.antonyms():\n",
        "            antonyms.append(l.antonyms()[0].name())\n",
        "\n",
        "print(\"Similar words =\",set(synonyms))\n",
        "print(set(antonyms))"
      ],
      "metadata": {
        "id": "zG0uzhCKayg8",
        "outputId": "c6549e75-9103-4fb0-f625-9dea1e4b0d25",
        "colab": {
          "base_uri": "https://localhost:8080/"
        }
      },
      "execution_count": null,
      "outputs": [
        {
          "output_type": "stream",
          "name": "stdout",
          "text": [
            "Similar words = set()\n",
            "set()\n"
          ]
        }
      ]
    },
    {
      "cell_type": "code",
      "source": [
        "import nltk\n",
        "word_data = \"The python is a a python data analytics language\"\n",
        "\n",
        "# First Word tokenization\n",
        "nltk_tokens = nltk.word_tokenize(word_data)\n",
        "\n",
        "# Applying Set\n",
        "no_order = list(set(nltk_tokens))\n",
        "\n",
        "print (no_order)"
      ],
      "metadata": {
        "id": "XNz59cNrclmb",
        "outputId": "3a7c47e4-1a26-4264-fae2-c4b2e1bda33f",
        "colab": {
          "base_uri": "https://localhost:8080/"
        }
      },
      "execution_count": null,
      "outputs": [
        {
          "output_type": "stream",
          "name": "stdout",
          "text": [
            "['The', 'a', 'analytics', 'language', 'is', 'data', 'python']\n"
          ]
        }
      ]
    },
    {
      "cell_type": "code",
      "source": [
        "import nltk\n",
        "from nltk.tokenize import word_tokenize\n",
        "from nltk import pos_tag, RegexpParser\n",
        "\n",
        "# Sample text\n",
        "text = \"Suyashi has a Rabbit that ran from the Table. She bought it from Isha . The Jumping is best Habit of the Rabbit\"\n",
        "\n",
        "# Tokenize the text\n",
        "tokens = word_tokenize(text)\n",
        "\n",
        "# Perform part-of-speech tagging\n",
        "word_tokens_text = pos_tag(tokens)\n",
        "\n",
        "# Define chunk grammar using regular expressions\n",
        "chunk_grammar = r\"\"\"\n",
        "    VP: {<VB.*><DT>?<JJ>*<NN>}   # Chunk sequences of verbs, determiners, adjectives, and nouns\n",
        "    \"\"\"\n",
        "\n",
        "# Create a chunk parser using the defined grammar\n",
        "chunk_parser = RegexpParser(chunk_grammar)\n",
        "\n",
        "# Apply chunking\n",
        "chunked_tokens = chunk_parser.parse(word_tokens_text)\n",
        "\n",
        "# Print the chunked tokens\n",
        "print(chunked_tokens)"
      ],
      "metadata": {
        "id": "jO6aoAS1cl4t",
        "outputId": "0b575849-6697-445a-9e6a-20fbd787254b",
        "colab": {
          "base_uri": "https://localhost:8080/"
        }
      },
      "execution_count": null,
      "outputs": [
        {
          "output_type": "stream",
          "name": "stdout",
          "text": [
            "(S\n",
            "  Suyashi/NNP\n",
            "  has/VBZ\n",
            "  a/DT\n",
            "  Rabbit/NNP\n",
            "  that/WDT\n",
            "  ran/VBD\n",
            "  from/IN\n",
            "  the/DT\n",
            "  Table/NN\n",
            "  ./.\n",
            "  She/PRP\n",
            "  bought/VBD\n",
            "  it/PRP\n",
            "  from/IN\n",
            "  Isha/NNP\n",
            "  ./.\n",
            "  The/DT\n",
            "  Jumping/NNP\n",
            "  is/VBZ\n",
            "  best/JJS\n",
            "  Habit/NN\n",
            "  of/IN\n",
            "  the/DT\n",
            "  Rabbit/NNP)\n"
          ]
        }
      ]
    },
    {
      "cell_type": "code",
      "source": [
        "import nltk\n",
        "from nltk.tokenize import word_tokenize\n",
        "from nltk import pos_tag, RegexpParser\n",
        "\n",
        "# Sample text\n",
        "text1 = \"Ram Loves his Life. He have a cat named RUMMY\"\n",
        "\n",
        "# Tokenize the text\n",
        "tokens1 = word_tokenize(text1)\n",
        "\n",
        "# Perform part-of-speech tagging\n",
        "word_tokens_text1 = pos_tag(tokens1)\n",
        "\n",
        "# Define chunk grammar using regular expressions\n",
        "chunk_grammar1 = r\"\"\"\n",
        "    NP: {<DT>?<JJ>*<NN>}    # Chunk noun phrases\n",
        "    PP: {<IN><NP>}           # Chunk prepositional phrases\n",
        "    \"\"\"\n",
        "\n",
        "# Create a chunk parser using the defined grammar\n",
        "chunk_parser1 = RegexpParser(chunk_grammar1)\n",
        "\n",
        "# Apply chunking\n",
        "chunked_tokens1 = chunk_parser1.parse(word_tokens_text1)\n",
        "\n",
        "# Print the chunked tokens\n",
        "print(chunked_tokens1)"
      ],
      "metadata": {
        "id": "1lQm-312inzU",
        "outputId": "7c1bdd09-9b88-4689-e2e6-5188d92b386f",
        "colab": {
          "base_uri": "https://localhost:8080/"
        }
      },
      "execution_count": null,
      "outputs": [
        {
          "output_type": "stream",
          "name": "stdout",
          "text": [
            "(S\n",
            "  Ram/NNP\n",
            "  Loves/VBZ\n",
            "  his/PRP$\n",
            "  (NP Life/NN)\n",
            "  ./.\n",
            "  He/PRP\n",
            "  have/VBP\n",
            "  (NP a/DT cat/NN)\n",
            "  named/VBN\n",
            "  RUMMY/NNP)\n"
          ]
        }
      ]
    },
    {
      "cell_type": "code",
      "source": [
        "import nltk\n",
        "from nltk.tokenize import word_tokenize\n",
        "from nltk import pos_tag, RegexpParser\n",
        "\n",
        "# Sample text\n",
        "text2 = \"Ram Loves his Life. He have a cat named RUMMY\"\n",
        "\n",
        "# Tokenize the text\n",
        "tokens2 = word_tokenize(text2)\n",
        "\n",
        "# Perform part-of-speech tagging\n",
        "word_tokens_text2 = pos_tag(tokens2)\n",
        "\n",
        "# Define chunk grammar using regular expressions\n",
        "chunk_grammar2 = r\"\"\"\n",
        "    VP: {<VB.*><DT>?<JJ>*<NN>}   # Chunk sequences of verbs, determiners, adjectives, and nouns\n",
        "    \"\"\"\n",
        "\n",
        "# Create a chunk parser using the defined grammar\n",
        "chunk_parser2 = RegexpParser(chunk_grammar2)\n",
        "\n",
        "# Apply chunking\n",
        "chunked_tokens2 = chunk_parser2.parse(word_tokens_text2)\n",
        "\n",
        "# Print the chunked tokens\n",
        "print(chunked_tokens2)"
      ],
      "metadata": {
        "id": "QckFYsxnjEH9",
        "outputId": "761cf888-ff4b-4596-ea8a-8f035d99bda3",
        "colab": {
          "base_uri": "https://localhost:8080/"
        }
      },
      "execution_count": null,
      "outputs": [
        {
          "output_type": "stream",
          "name": "stdout",
          "text": [
            "(S\n",
            "  Ram/NNP\n",
            "  Loves/VBZ\n",
            "  his/PRP$\n",
            "  Life/NN\n",
            "  ./.\n",
            "  He/PRP\n",
            "  (VP have/VBP a/DT cat/NN)\n",
            "  named/VBN\n",
            "  RUMMY/NNP)\n"
          ]
        }
      ]
    },
    {
      "cell_type": "code",
      "source": [
        "import nltk\n",
        "from nltk.tokenize import word_tokenize\n",
        "from nltk import pos_tag, RegexpParser\n",
        "\n",
        "# Sample text\n",
        "text3 = \"Ram Loves his Life. He have a cat named RUMMY\"\n",
        "\n",
        "# Tokenize the text\n",
        "tokens3 = word_tokenize(text3)\n",
        "\n",
        "# Perform part-of-speech tagging\n",
        "word_tokens_text3 = pos_tag(tokens3)\n",
        "\n",
        "# Define chunk grammar using regular expressions\n",
        "chunk_grammar3 = r\"\"\"\n",
        "\n",
        "    NP: {<DT>?<JJ>*<NN>}   # Chunk sequences of DT, JJ, and NN\n",
        "\n",
        "    \"\"\"\n",
        "\n",
        "# Create a chunk parser using the defined grammar\n",
        "chunk_parser3 = RegexpParser(chunk_grammar3)\n",
        "\n",
        "# Apply chunking\n",
        "chunked_tokens3 = chunk_parser3.parse(word_tokens_text3)\n",
        "\n",
        "# Print the chunked tokens\n",
        "print(chunked_tokens3)"
      ],
      "metadata": {
        "id": "3q-CpnQvjfVt",
        "outputId": "aadda352-651d-4cb8-ca1b-04fb2ec2624b",
        "colab": {
          "base_uri": "https://localhost:8080/"
        }
      },
      "execution_count": null,
      "outputs": [
        {
          "output_type": "stream",
          "name": "stdout",
          "text": [
            "(S\n",
            "  Ram/NNP\n",
            "  Loves/VBZ\n",
            "  his/PRP$\n",
            "  (NP Life/NN)\n",
            "  ./.\n",
            "  He/PRP\n",
            "  have/VBP\n",
            "  (NP a/DT cat/NN)\n",
            "  named/VBN\n",
            "  RUMMY/NNP)\n"
          ]
        }
      ]
    },
    {
      "cell_type": "code",
      "source": [
        "import nltk\n",
        "from nltk.tokenize import word_tokenize\n",
        "from nltk import pos_tag, ne_chunk\n",
        "\n",
        "# Sample text\n",
        "text = \"You know Ashi and Raman works in ABC pvt Lt. India, and its CEO  Rommy  is from Australia\"\n",
        "\n",
        "# Tokenize the text\n",
        "tokens = word_tokenize(text)\n",
        "\n",
        "# Perform part-of-speech tagging\n",
        "tagged_tokens = pos_tag(tokens)\n",
        "\n",
        "# Perform named entity recognition\n",
        "named_entities = ne_chunk(tagged_tokens)  #This function identifies named entities in the text based on the part-of-speech tags.\n",
        "\n",
        "# Print the named entities\n",
        "print(named_entities)"
      ],
      "metadata": {
        "id": "6Yrp0K17jfpM",
        "outputId": "db9668e9-510a-4235-f74c-b19b3f6f35d4",
        "colab": {
          "base_uri": "https://localhost:8080/"
        }
      },
      "execution_count": null,
      "outputs": [
        {
          "output_type": "stream",
          "name": "stdout",
          "text": [
            "(S\n",
            "  You/PRP\n",
            "  know/VBP\n",
            "  (PERSON Ashi/NNP)\n",
            "  and/CC\n",
            "  (PERSON Raman/NNP)\n",
            "  works/VBZ\n",
            "  in/IN\n",
            "  (ORGANIZATION ABC/NNP)\n",
            "  pvt/NN\n",
            "  Lt./NNP\n",
            "  (GPE India/NNP)\n",
            "  ,/,\n",
            "  and/CC\n",
            "  its/PRP$\n",
            "  (ORGANIZATION CEO/NNP Rommy/NNP)\n",
            "  is/VBZ\n",
            "  from/IN\n",
            "  (GPE Australia/NNP))\n"
          ]
        }
      ]
    },
    {
      "cell_type": "code",
      "source": [
        "%%time\n",
        "import nltk\n",
        "from nltk.tokenize import sent_tokenize, word_tokenize\n",
        "from nltk import pos_tag, ne_chunk\n",
        "\n",
        "# Sample text\n",
        "text = \"The teacher have a kid named Asha. They stay in Bali. They have a pet named Kipy.\"\n",
        "\n",
        "# Tokenize the text into sentences\n",
        "sentences = sent_tokenize(text)\n",
        "\n",
        "# Initialize a list to store named entities\n",
        "named_entities = []\n",
        "\n",
        "# Iterate through each sentence\n",
        "for sentence in sentences:\n",
        "    # Tokenize the sentence into words\n",
        "    tokens = word_tokenize(sentence)\n",
        "    # Perform part-of-speech tagging\n",
        "    tagged_tokens = pos_tag(tokens)\n",
        "    # Perform named entity recognition\n",
        "    named_entities.extend(ne_chunk(tagged_tokens))\n",
        "\n",
        "# Print the named entities\n",
        "for entity in named_entities:\n",
        "    if hasattr(entity, 'label'):\n",
        "        print(' '.join(c[0] for c in entity.leaves()), '-', entity.label())"
      ],
      "metadata": {
        "id": "5v5LXLoto9Py",
        "outputId": "d2f0aa91-f893-464a-8950-cc0e5343fee0",
        "colab": {
          "base_uri": "https://localhost:8080/"
        }
      },
      "execution_count": null,
      "outputs": [
        {
          "output_type": "stream",
          "name": "stdout",
          "text": [
            "Asha - PERSON\n",
            "Bali - GPE\n",
            "Kipy - PERSON\n",
            "CPU times: user 15.6 ms, sys: 1.3 ms, total: 16.9 ms\n",
            "Wall time: 21.3 ms\n"
          ]
        }
      ]
    },
    {
      "cell_type": "markdown",
      "source": [
        "# **Lab Questions2**"
      ],
      "metadata": {
        "id": "sAlLuf3h1yMj"
      }
    },
    {
      "cell_type": "code",
      "source": [
        "text1 = 'Mary jumps in a field and following her Sam also jumped.'\n",
        "text2 = 'That our lives would be changed forever. The world was loud with carnage and sirens and then quiet with missing voices that would never be heard again.'\n",
        "text3 = 'These lives remain precious to our country and infinitely precious to many of you. Today, we remember your loss, we share your sorrow, and we honor the men and women you have loved so long and so well. For those too young to recall that clear September day, it is hard to describe the mix of feelings we experienced.'"
      ],
      "metadata": {
        "id": "pjbm6kKF1wlk"
      },
      "execution_count": null,
      "outputs": []
    },
    {
      "cell_type": "code",
      "source": [
        "# 1.Write a Python script that takes a paragraph of text and performs word tokenization using NLTK. Print the list of tokens\n",
        "import nltk\n",
        "from nltk.tokenize import sent_tokenize, word_tokenize\n",
        "\n",
        "word_token_text1 = word_tokenize(text1)\n",
        "word_token_text2 = word_tokenize(text2)\n",
        "word_token_text3 = word_tokenize(text3)\n",
        "\n",
        "print(word_token_text1)\n",
        "print(word_token_text2)\n",
        "print(word_token_text3)"
      ],
      "metadata": {
        "id": "rH-4P8OP1wy9",
        "outputId": "c39dc8aa-68c7-4a16-e0a0-7982ab72d6c4",
        "colab": {
          "base_uri": "https://localhost:8080/"
        }
      },
      "execution_count": null,
      "outputs": [
        {
          "output_type": "stream",
          "name": "stdout",
          "text": [
            "['Mary', 'jumps', 'in', 'a', 'field', 'and', 'following', 'her', 'Sam', 'also', 'jumped', '.']\n",
            "['That', 'our', 'lives', 'would', 'be', 'changed', 'forever', '.', 'The', 'world', 'was', 'loud', 'with', 'carnage', 'and', 'sirens', 'and', 'then', 'quiet', 'with', 'missing', 'voices', 'that', 'would', 'never', 'be', 'heard', 'again', '.']\n",
            "['These', 'lives', 'remain', 'precious', 'to', 'our', 'country', 'and', 'infinitely', 'precious', 'to', 'many', 'of', 'you', '.', 'Today', ',', 'we', 'remember', 'your', 'loss', ',', 'we', 'share', 'your', 'sorrow', ',', 'and', 'we', 'honor', 'the', 'men', 'and', 'women', 'you', 'have', 'loved', 'so', 'long', 'and', 'so', 'well', '.', 'For', 'those', 'too', 'young', 'to', 'recall', 'that', 'clear', 'September', 'day', ',', 'it', 'is', 'hard', 'to', 'describe', 'the', 'mix', 'of', 'feelings', 'we', 'experienced', '.']\n"
          ]
        }
      ]
    },
    {
      "cell_type": "code",
      "source": [
        "# 2. Write a Python script that performs POS tagging on a list of tokens using NLTK. Print the list of tuples containing the word and its POS tag\n",
        "import nltk\n",
        "from nltk.tokenize import PunktSentenceTokenizer\n",
        "\n",
        "text1 = 'Mary jumps in a field and following her Sam also jumped.'\n",
        "sentences1 = nltk.sent_tokenize(text1)\n",
        "for sent in sentences1:\n",
        "    print(nltk.pos_tag(nltk.word_tokenize(sent)))\n",
        "\n"
      ],
      "metadata": {
        "id": "cnirhP5m3m9O",
        "outputId": "74957b9a-d67c-45fb-aea5-74208e424ba2",
        "colab": {
          "base_uri": "https://localhost:8080/"
        }
      },
      "execution_count": null,
      "outputs": [
        {
          "output_type": "stream",
          "name": "stdout",
          "text": [
            "[('Mary', 'NNP'), ('jumps', 'NNS'), ('in', 'IN'), ('a', 'DT'), ('field', 'NN'), ('and', 'CC'), ('following', 'VBG'), ('her', 'PRP$'), ('Sam', 'NNP'), ('also', 'RB'), ('jumped', 'VBD'), ('.', '.')]\n"
          ]
        }
      ]
    },
    {
      "cell_type": "code",
      "source": [
        "# 2. Write a Python script that performs POS tagging on a list of tokens using NLTK. Print the list of tuples containing the word and its POS tag\n",
        "text2 = 'That our lives would be changed forever. The world was loud with carnage and sirens and then quiet with missing voices that would never be heard again.'\n",
        "sentences2 = nltk.sent_tokenize(text2)\n",
        "for sent in sentences2:\n",
        "    print(nltk.pos_tag(nltk.word_tokenize(sent)))"
      ],
      "metadata": {
        "id": "xiMtT5pU3nLC",
        "outputId": "04b73e37-d351-469a-e69f-1bb5537b9ca1",
        "colab": {
          "base_uri": "https://localhost:8080/"
        }
      },
      "execution_count": null,
      "outputs": [
        {
          "output_type": "stream",
          "name": "stdout",
          "text": [
            "[('That', 'DT'), ('our', 'PRP$'), ('lives', 'NNS'), ('would', 'MD'), ('be', 'VB'), ('changed', 'VBN'), ('forever', 'RB'), ('.', '.')]\n",
            "[('The', 'DT'), ('world', 'NN'), ('was', 'VBD'), ('loud', 'JJ'), ('with', 'IN'), ('carnage', 'NN'), ('and', 'CC'), ('sirens', 'NNS'), ('and', 'CC'), ('then', 'RB'), ('quiet', 'JJ'), ('with', 'IN'), ('missing', 'VBG'), ('voices', 'NNS'), ('that', 'WDT'), ('would', 'MD'), ('never', 'RB'), ('be', 'VB'), ('heard', 'RB'), ('again', 'RB'), ('.', '.')]\n"
          ]
        }
      ]
    },
    {
      "cell_type": "code",
      "source": [
        "# 2. Write a Python script that performs POS tagging on a list of tokens using NLTK. Print the list of tuples containing the word and its POS tag\n",
        "text3 = 'These lives remain precious to our country and infinitely precious to many of you. Today, we remember your loss, we share your sorrow, and we honor the men and women you have loved so long and so well. For those too young to recall that clear September day, it is hard to describe the mix of feelings we experienced.'\n",
        "sentences3 = nltk.sent_tokenize(text3)\n",
        "for sent in sentences3:\n",
        "    print(nltk.pos_tag(nltk.word_tokenize(sent)))"
      ],
      "metadata": {
        "id": "FK2-6abS5If2",
        "outputId": "7c04c035-7333-488b-ad44-46680653f450",
        "colab": {
          "base_uri": "https://localhost:8080/"
        }
      },
      "execution_count": null,
      "outputs": [
        {
          "output_type": "stream",
          "name": "stdout",
          "text": [
            "[('These', 'DT'), ('lives', 'NNS'), ('remain', 'VBP'), ('precious', 'JJ'), ('to', 'TO'), ('our', 'PRP$'), ('country', 'NN'), ('and', 'CC'), ('infinitely', 'RB'), ('precious', 'JJ'), ('to', 'TO'), ('many', 'JJ'), ('of', 'IN'), ('you', 'PRP'), ('.', '.')]\n",
            "[('Today', 'NN'), (',', ','), ('we', 'PRP'), ('remember', 'VBP'), ('your', 'PRP$'), ('loss', 'NN'), (',', ','), ('we', 'PRP'), ('share', 'NN'), ('your', 'PRP$'), ('sorrow', 'NN'), (',', ','), ('and', 'CC'), ('we', 'PRP'), ('honor', 'VBP'), ('the', 'DT'), ('men', 'NNS'), ('and', 'CC'), ('women', 'NNS'), ('you', 'PRP'), ('have', 'VBP'), ('loved', 'VBN'), ('so', 'RB'), ('long', 'RB'), ('and', 'CC'), ('so', 'RB'), ('well', 'RB'), ('.', '.')]\n",
            "[('For', 'IN'), ('those', 'DT'), ('too', 'RB'), ('young', 'JJ'), ('to', 'TO'), ('recall', 'VB'), ('that', 'DT'), ('clear', 'JJ'), ('September', 'NNP'), ('day', 'NN'), (',', ','), ('it', 'PRP'), ('is', 'VBZ'), ('hard', 'JJ'), ('to', 'TO'), ('describe', 'VB'), ('the', 'DT'), ('mix', 'NN'), ('of', 'IN'), ('feelings', 'NNS'), ('we', 'PRP'), ('experienced', 'VBD'), ('.', '.')]\n"
          ]
        }
      ]
    },
    {
      "cell_type": "code",
      "source": [
        "# 3.Write a Python script that applies stemming to a list of words using NLTK's Porter Stemmer. Print the list of stemmed words\n",
        "import nltk\n",
        "from nltk.stem import PorterStemmer\n",
        "from nltk.tokenize import sent_tokenize, word_tokenize\n",
        "\n",
        "ps = PorterStemmer() ## defining stemmer\n",
        "s_words1 = word_token_text1\n",
        "for i in s_words1:\n",
        "    print(ps.stem(i))\n"
      ],
      "metadata": {
        "id": "raxo_kns5dl6",
        "outputId": "1accd3a4-c68e-4a1d-bc7b-7ebedf115caf",
        "colab": {
          "base_uri": "https://localhost:8080/"
        }
      },
      "execution_count": null,
      "outputs": [
        {
          "output_type": "stream",
          "name": "stdout",
          "text": [
            "mari\n",
            "jump\n",
            "in\n",
            "a\n",
            "field\n",
            "and\n",
            "follow\n",
            "her\n",
            "sam\n",
            "also\n",
            "jump\n",
            ".\n"
          ]
        }
      ]
    },
    {
      "cell_type": "code",
      "source": [
        "# 3.Write a Python script that applies stemming to a list of words using NLTK's Porter Stemmer. Print the list of stemmed words\n",
        "s_words2 = word_token_text2\n",
        "for i in s_words2:\n",
        "    print(ps.stem(i))"
      ],
      "metadata": {
        "id": "GtP9kYq06jly",
        "outputId": "e78f40e5-3e0f-43d2-9126-214690c04e8d",
        "colab": {
          "base_uri": "https://localhost:8080/"
        }
      },
      "execution_count": null,
      "outputs": [
        {
          "output_type": "stream",
          "name": "stdout",
          "text": [
            "that\n",
            "our\n",
            "live\n",
            "would\n",
            "be\n",
            "chang\n",
            "forev\n",
            ".\n",
            "the\n",
            "world\n",
            "wa\n",
            "loud\n",
            "with\n",
            "carnag\n",
            "and\n",
            "siren\n",
            "and\n",
            "then\n",
            "quiet\n",
            "with\n",
            "miss\n",
            "voic\n",
            "that\n",
            "would\n",
            "never\n",
            "be\n",
            "heard\n",
            "again\n",
            ".\n"
          ]
        }
      ]
    },
    {
      "cell_type": "code",
      "source": [
        "# 3.Write a Python script that applies stemming to a list of words using NLTK's Porter Stemmer. Print the list of stemmed words\n",
        "s_words3 = word_token_text3\n",
        "for i in s_words3:\n",
        "    print(ps.stem(i))"
      ],
      "metadata": {
        "id": "QUhlvxPJ6xMh",
        "outputId": "ccf129ce-60cc-44d1-de02-6c041ffaa49c",
        "colab": {
          "base_uri": "https://localhost:8080/"
        }
      },
      "execution_count": null,
      "outputs": [
        {
          "output_type": "stream",
          "name": "stdout",
          "text": [
            "these\n",
            "live\n",
            "remain\n",
            "preciou\n",
            "to\n",
            "our\n",
            "countri\n",
            "and\n",
            "infinit\n",
            "preciou\n",
            "to\n",
            "mani\n",
            "of\n",
            "you\n",
            ".\n",
            "today\n",
            ",\n",
            "we\n",
            "rememb\n",
            "your\n",
            "loss\n",
            ",\n",
            "we\n",
            "share\n",
            "your\n",
            "sorrow\n",
            ",\n",
            "and\n",
            "we\n",
            "honor\n",
            "the\n",
            "men\n",
            "and\n",
            "women\n",
            "you\n",
            "have\n",
            "love\n",
            "so\n",
            "long\n",
            "and\n",
            "so\n",
            "well\n",
            ".\n",
            "for\n",
            "those\n",
            "too\n",
            "young\n",
            "to\n",
            "recal\n",
            "that\n",
            "clear\n",
            "septemb\n",
            "day\n",
            ",\n",
            "it\n",
            "is\n",
            "hard\n",
            "to\n",
            "describ\n",
            "the\n",
            "mix\n",
            "of\n",
            "feel\n",
            "we\n",
            "experienc\n",
            ".\n"
          ]
        }
      ]
    },
    {
      "cell_type": "code",
      "source": [
        "# 4. Write a Python script that applies lemmatization to a list of words using NLTK's WordNet Lemmatize. Print the list of lemmatized words.\n",
        "from nltk.stem import WordNetLemmatizer\n",
        "lem = WordNetLemmatizer()\n",
        "\n",
        "lemmatized_words1 = [lem.lemmatize(words) for words in word_token_text1]\n",
        "lemmatized_words1"
      ],
      "metadata": {
        "id": "FKJIZ8PC5dqT",
        "outputId": "85d39ac7-ccb6-4426-8d7d-7f1d878aff15",
        "colab": {
          "base_uri": "https://localhost:8080/"
        }
      },
      "execution_count": null,
      "outputs": [
        {
          "output_type": "execute_result",
          "data": {
            "text/plain": [
              "['Mary',\n",
              " 'jump',\n",
              " 'in',\n",
              " 'a',\n",
              " 'field',\n",
              " 'and',\n",
              " 'following',\n",
              " 'her',\n",
              " 'Sam',\n",
              " 'also',\n",
              " 'jumped',\n",
              " '.']"
            ]
          },
          "metadata": {},
          "execution_count": 114
        }
      ]
    },
    {
      "cell_type": "code",
      "source": [
        "# 4. Write a Python script that applies lemmatization to a list of words using NLTK's WordNet Lemmatize. Print the list of lemmatized words.\n",
        "from nltk.stem import WordNetLemmatizer\n",
        "lem = WordNetLemmatizer()\n",
        "\n",
        "lemmatized_words2 = [lem.lemmatize(words) for words in word_token_text2]\n",
        "lemmatized_words2"
      ],
      "metadata": {
        "id": "e1V35rtS8-ZH",
        "outputId": "fa0df08a-7bcf-4b92-d638-0aec55d27701",
        "colab": {
          "base_uri": "https://localhost:8080/"
        }
      },
      "execution_count": null,
      "outputs": [
        {
          "output_type": "execute_result",
          "data": {
            "text/plain": [
              "['That',\n",
              " 'our',\n",
              " 'life',\n",
              " 'would',\n",
              " 'be',\n",
              " 'changed',\n",
              " 'forever',\n",
              " '.',\n",
              " 'The',\n",
              " 'world',\n",
              " 'wa',\n",
              " 'loud',\n",
              " 'with',\n",
              " 'carnage',\n",
              " 'and',\n",
              " 'siren',\n",
              " 'and',\n",
              " 'then',\n",
              " 'quiet',\n",
              " 'with',\n",
              " 'missing',\n",
              " 'voice',\n",
              " 'that',\n",
              " 'would',\n",
              " 'never',\n",
              " 'be',\n",
              " 'heard',\n",
              " 'again',\n",
              " '.']"
            ]
          },
          "metadata": {},
          "execution_count": 115
        }
      ]
    },
    {
      "cell_type": "code",
      "source": [
        "# 4. Write a Python script that applies lemmatization to a list of words using NLTK's WordNet Lemmatize. Print the list of lemmatized words.\n",
        "from nltk.stem import WordNetLemmatizer\n",
        "lem = WordNetLemmatizer()\n",
        "\n",
        "lemmatized_words3 = [lem.lemmatize(words) for words in word_token_text3]\n",
        "lemmatized_words3"
      ],
      "metadata": {
        "id": "-3eLbVzD5dxz",
        "outputId": "6e2ffe22-bd8a-462a-e281-305ad0142eb9",
        "colab": {
          "base_uri": "https://localhost:8080/"
        }
      },
      "execution_count": null,
      "outputs": [
        {
          "output_type": "execute_result",
          "data": {
            "text/plain": [
              "['These',\n",
              " 'life',\n",
              " 'remain',\n",
              " 'precious',\n",
              " 'to',\n",
              " 'our',\n",
              " 'country',\n",
              " 'and',\n",
              " 'infinitely',\n",
              " 'precious',\n",
              " 'to',\n",
              " 'many',\n",
              " 'of',\n",
              " 'you',\n",
              " '.',\n",
              " 'Today',\n",
              " ',',\n",
              " 'we',\n",
              " 'remember',\n",
              " 'your',\n",
              " 'loss',\n",
              " ',',\n",
              " 'we',\n",
              " 'share',\n",
              " 'your',\n",
              " 'sorrow',\n",
              " ',',\n",
              " 'and',\n",
              " 'we',\n",
              " 'honor',\n",
              " 'the',\n",
              " 'men',\n",
              " 'and',\n",
              " 'woman',\n",
              " 'you',\n",
              " 'have',\n",
              " 'loved',\n",
              " 'so',\n",
              " 'long',\n",
              " 'and',\n",
              " 'so',\n",
              " 'well',\n",
              " '.',\n",
              " 'For',\n",
              " 'those',\n",
              " 'too',\n",
              " 'young',\n",
              " 'to',\n",
              " 'recall',\n",
              " 'that',\n",
              " 'clear',\n",
              " 'September',\n",
              " 'day',\n",
              " ',',\n",
              " 'it',\n",
              " 'is',\n",
              " 'hard',\n",
              " 'to',\n",
              " 'describe',\n",
              " 'the',\n",
              " 'mix',\n",
              " 'of',\n",
              " 'feeling',\n",
              " 'we',\n",
              " 'experienced',\n",
              " '.']"
            ]
          },
          "metadata": {},
          "execution_count": 116
        }
      ]
    },
    {
      "cell_type": "code",
      "source": [
        "# 5.Write a Python script that combines word tokenization, POS tagging, stemming, and lemmatization. Print the results at each step for a given paragraph of text\n",
        "import nltk\n",
        "from nltk.tokenize import word_tokenize\n",
        "from nltk import pos_tag\n",
        "from nltk.stem import PorterStemmer, WordNetLemmatizer\n",
        "\n",
        "\n",
        "# Sample text\n",
        "text1 = \"Mary jumps in a field and following her Sam also jumped.\"\n",
        "\n",
        "# Tokenization\n",
        "tokens1 = word_tokenize(text1)\n",
        "print(\"Tokens:\", tokens)\n",
        "\n",
        "# POS tagging\n",
        "pos_tags1 = pos_tag(tokens1)\n",
        "print(\"POS Tags:\", pos_tags1)\n",
        "\n",
        "# Stemming\n",
        "stemmer1 = PorterStemmer()\n",
        "stemmed_words1 = [stemmer1.stem(word) for word in tokens1]\n",
        "print(\"Stemmed Words:\", stemmed_words1)\n",
        "\n",
        "# Lemmatization\n",
        "lemmatizer1 = WordNetLemmatizer()\n",
        "lemmatized_words1 = [lemmatizer1.lemmatize(word) for word in tokens1]\n",
        "print(\"Lemmatized Words:\", lemmatized_words1)\n"
      ],
      "metadata": {
        "id": "kiwRxlSH5d4b",
        "outputId": "2c1051c9-622e-4b28-fe3c-f57fb4f9b5ba",
        "colab": {
          "base_uri": "https://localhost:8080/"
        }
      },
      "execution_count": null,
      "outputs": [
        {
          "output_type": "stream",
          "name": "stdout",
          "text": [
            "Tokens: ['They', 'have', 'a', 'pet', 'named', 'Kipy', '.']\n",
            "POS Tags: [('Mary', 'NNP'), ('jumps', 'NNS'), ('in', 'IN'), ('a', 'DT'), ('field', 'NN'), ('and', 'CC'), ('following', 'VBG'), ('her', 'PRP$'), ('Sam', 'NNP'), ('also', 'RB'), ('jumped', 'VBD'), ('.', '.')]\n",
            "Stemmed Words: ['mari', 'jump', 'in', 'a', 'field', 'and', 'follow', 'her', 'sam', 'also', 'jump', '.']\n",
            "Lemmatized Words: ['Mary', 'jump', 'in', 'a', 'field', 'and', 'following', 'her', 'Sam', 'also', 'jumped', '.']\n"
          ]
        }
      ]
    },
    {
      "cell_type": "code",
      "source": [
        "# 5.Write a Python script that combines word tokenization, POS tagging, stemming, and lemmatization. Print the results at each step for a given paragraph of text\n",
        "\n",
        "# Sample text\n",
        "text2 = \"Mary jumps in a field and following her Sam also jumped.\"\n",
        "\n",
        "# Tokenization\n",
        "tokens2 = word_tokenize(text2)\n",
        "print(\"Tokens:\", tokens2)\n",
        "\n",
        "# POS tagging\n",
        "pos_tags2 = pos_tag(tokens2)\n",
        "print(\"POS Tags:\", pos_tags2)\n",
        "\n",
        "# Stemming\n",
        "stemmer2 = PorterStemmer()\n",
        "stemmed_words2 = [stemmer2.stem(word) for word in tokens2]\n",
        "print(\"Stemmed Words:\", stemmed_words2)\n",
        "\n",
        "# Lemmatization\n",
        "lemmatizer2 = WordNetLemmatizer()\n",
        "lemmatized_words2 = [lemmatizer2.lemmatize(word) for word in tokens2]\n",
        "print(\"Lemmatized Words:\", lemmatized_words2)"
      ],
      "metadata": {
        "id": "M2yTG3ys5d9O",
        "outputId": "aa32a980-503a-4467-8d21-eb3d4a6f902b",
        "colab": {
          "base_uri": "https://localhost:8080/"
        }
      },
      "execution_count": null,
      "outputs": [
        {
          "output_type": "stream",
          "name": "stdout",
          "text": [
            "Tokens: ['Mary', 'jumps', 'in', 'a', 'field', 'and', 'following', 'her', 'Sam', 'also', 'jumped', '.']\n",
            "POS Tags: [('Mary', 'NNP'), ('jumps', 'NNS'), ('in', 'IN'), ('a', 'DT'), ('field', 'NN'), ('and', 'CC'), ('following', 'VBG'), ('her', 'PRP$'), ('Sam', 'NNP'), ('also', 'RB'), ('jumped', 'VBD'), ('.', '.')]\n",
            "Stemmed Words: ['mari', 'jump', 'in', 'a', 'field', 'and', 'follow', 'her', 'sam', 'also', 'jump', '.']\n",
            "Lemmatized Words: ['Mary', 'jump', 'in', 'a', 'field', 'and', 'following', 'her', 'Sam', 'also', 'jumped', '.']\n"
          ]
        }
      ]
    },
    {
      "cell_type": "code",
      "source": [
        "# 5.Write a Python script that combines word tokenization, POS tagging, stemming, and lemmatization. Print the results at each step for a given paragraph of text\n",
        "\n",
        "# Sample text\n",
        "text3 = \"Mary jumps in a field and following her Sam also jumped.\"\n",
        "\n",
        "# Tokenization\n",
        "tokens3 = word_tokenize(text3)\n",
        "print(\"Tokens:\", tokens3)\n",
        "\n",
        "# POS tagging\n",
        "pos_tags3 = pos_tag(tokens3)\n",
        "print(\"POS Tags:\", pos_tags3)\n",
        "\n",
        "# Stemming\n",
        "stemmer3 = PorterStemmer()\n",
        "stemmed_words3 = [stemmer3.stem(word) for word in tokens3]\n",
        "print(\"Stemmed Words:\", stemmed_words3)\n",
        "\n",
        "# Lemmatization\n",
        "lemmatizer3 = WordNetLemmatizer()\n",
        "lemmatized_words3 = [lemmatizer3.lemmatize(word) for word in tokens3]\n",
        "print(\"Lemmatized Words:\", lemmatized_words3)"
      ],
      "metadata": {
        "id": "B_sNM3BI_Anm",
        "outputId": "1a82f337-cf89-41d4-c876-69a2351ed4f3",
        "colab": {
          "base_uri": "https://localhost:8080/"
        }
      },
      "execution_count": null,
      "outputs": [
        {
          "output_type": "stream",
          "name": "stdout",
          "text": [
            "Tokens: ['Mary', 'jumps', 'in', 'a', 'field', 'and', 'following', 'her', 'Sam', 'also', 'jumped', '.']\n",
            "POS Tags: [('Mary', 'NNP'), ('jumps', 'NNS'), ('in', 'IN'), ('a', 'DT'), ('field', 'NN'), ('and', 'CC'), ('following', 'VBG'), ('her', 'PRP$'), ('Sam', 'NNP'), ('also', 'RB'), ('jumped', 'VBD'), ('.', '.')]\n",
            "Stemmed Words: ['mari', 'jump', 'in', 'a', 'field', 'and', 'follow', 'her', 'sam', 'also', 'jump', '.']\n",
            "Lemmatized Words: ['Mary', 'jump', 'in', 'a', 'field', 'and', 'following', 'her', 'Sam', 'also', 'jumped', '.']\n"
          ]
        }
      ]
    },
    {
      "cell_type": "code",
      "source": [],
      "metadata": {
        "id": "v3pXA99__nWp"
      },
      "execution_count": null,
      "outputs": []
    },
    {
      "cell_type": "markdown",
      "source": [
        "# **Lab Questions - 23/05/2024**\n",
        "\n",
        "1.Create a Basic feedforward neural network for binary classification(use generate  input using NumPy random module)\n",
        "\n",
        "2.Create a Neural Network model by your own name with a random input function of shape 300*4 for Binary classification\n",
        "\n",
        "3.Write a Python code using Keras to perform linear regression on randomly generated data.\n",
        "\n",
        "4.Use Keras library to create and train a basic RNN for  sequence prediction. Use a  simple sequence (8, 9, 10,11,12,13) and tries to predict the next number in the sequence.\n",
        "\n",
        "5.Create a Basic Recurrent Neural Network (RNN)  model for text analysis using Python and TensorFlow.(Input text=”Anna, embrace change; Change is  constant.”)\n",
        "\n",
        "6.Create a LSTM  model for text analysis using Python and TensorFlow.\n",
        "(Input corpus = “Anna, embrace change”\n",
        "“Change is  constant”.\n",
        "“She is positive thinker”\n",
        "“Anna takes life as a challenge”)"
      ],
      "metadata": {
        "id": "PeY7stWPdCw8"
      }
    },
    {
      "cell_type": "markdown",
      "source": [
        "# **#1. Create a Basic feedforward neural network for binary classification(use generate input using NumPy random module)**"
      ],
      "metadata": {
        "id": "KbRF42y7fXpE"
      }
    },
    {
      "cell_type": "code",
      "source": [
        "import numpy as np\n",
        "import tensorflow as tf\n",
        "from tensorflow.keras.models import Sequential\n",
        "from tensorflow.keras.layers import Dense"
      ],
      "metadata": {
        "id": "rWHpQR0Pfomw"
      },
      "execution_count": 1,
      "outputs": []
    },
    {
      "cell_type": "code",
      "source": [
        "# Generate random input data\n",
        "np.random.seed(42)\n",
        "X = np.random.rand(1000, 10)  # 1000 samples, 10 features\n",
        "y = (np.sum(X, axis=1) > 5).astype(int)"
      ],
      "metadata": {
        "id": "m0OR4LA-foq_"
      },
      "execution_count": 2,
      "outputs": []
    },
    {
      "cell_type": "code",
      "source": [
        "print(X)\n",
        "print(y)"
      ],
      "metadata": {
        "id": "bgoYdD-WfpEw"
      },
      "execution_count": null,
      "outputs": []
    },
    {
      "cell_type": "code",
      "source": [
        "# Split the data into training and test sets\n",
        "train_size = int(0.8 * X.shape[0])\n",
        "X_train, X_test = X[:train_size], X[train_size:]\n",
        "y_train, y_test = y[:train_size], y[train_size:]"
      ],
      "metadata": {
        "id": "9FtlwulLgNsh"
      },
      "execution_count": 4,
      "outputs": []
    },
    {
      "cell_type": "code",
      "source": [
        "# Build the feedforward neural network\n",
        "model = Sequential([\n",
        "    Dense(32, input_dim=10, activation='relu'),\n",
        "    Dense(16, activation='relu'),\n",
        "    Dense(1, activation='sigmoid')])  # Output layer for binary classification"
      ],
      "metadata": {
        "id": "Z2_G4OskgUGo"
      },
      "execution_count": 8,
      "outputs": []
    },
    {
      "cell_type": "code",
      "source": [
        "# Compile the model\n",
        "model.compile(optimizer='adam', loss='binary_crossentropy', metrics=['accuracy'])\n"
      ],
      "metadata": {
        "id": "yeW7mrIQgUdy"
      },
      "execution_count": 9,
      "outputs": []
    },
    {
      "cell_type": "code",
      "source": [
        "# Train the model\n",
        "model.fit(X_train, y_train, epochs=50, batch_size=32, validation_data=(X_test, y_test))\n"
      ],
      "metadata": {
        "id": "8qH9ujK7g2l9",
        "outputId": "43db2067-1a65-4a97-cd65-f8188feb55d3",
        "colab": {
          "base_uri": "https://localhost:8080/"
        }
      },
      "execution_count": 10,
      "outputs": [
        {
          "output_type": "stream",
          "name": "stdout",
          "text": [
            "Epoch 1/50\n",
            "25/25 [==============================] - 1s 22ms/step - loss: 0.6804 - accuracy: 0.5462 - val_loss: 0.6793 - val_accuracy: 0.5700\n",
            "Epoch 2/50\n",
            "25/25 [==============================] - 0s 4ms/step - loss: 0.6665 - accuracy: 0.6050 - val_loss: 0.6688 - val_accuracy: 0.6100\n",
            "Epoch 3/50\n",
            "25/25 [==============================] - 0s 3ms/step - loss: 0.6553 - accuracy: 0.6587 - val_loss: 0.6593 - val_accuracy: 0.6050\n",
            "Epoch 4/50\n",
            "25/25 [==============================] - 0s 4ms/step - loss: 0.6413 - accuracy: 0.6700 - val_loss: 0.6408 - val_accuracy: 0.6750\n",
            "Epoch 5/50\n",
            "25/25 [==============================] - 0s 3ms/step - loss: 0.6232 - accuracy: 0.7225 - val_loss: 0.6240 - val_accuracy: 0.7300\n",
            "Epoch 6/50\n",
            "25/25 [==============================] - 0s 4ms/step - loss: 0.6031 - accuracy: 0.7550 - val_loss: 0.6095 - val_accuracy: 0.6950\n",
            "Epoch 7/50\n",
            "25/25 [==============================] - 0s 4ms/step - loss: 0.5801 - accuracy: 0.7837 - val_loss: 0.5855 - val_accuracy: 0.7850\n",
            "Epoch 8/50\n",
            "25/25 [==============================] - 0s 4ms/step - loss: 0.5549 - accuracy: 0.7925 - val_loss: 0.5619 - val_accuracy: 0.8050\n",
            "Epoch 9/50\n",
            "25/25 [==============================] - 0s 4ms/step - loss: 0.5276 - accuracy: 0.8238 - val_loss: 0.5441 - val_accuracy: 0.7600\n",
            "Epoch 10/50\n",
            "25/25 [==============================] - 0s 3ms/step - loss: 0.4993 - accuracy: 0.8225 - val_loss: 0.5185 - val_accuracy: 0.8000\n",
            "Epoch 11/50\n",
            "25/25 [==============================] - 0s 4ms/step - loss: 0.4695 - accuracy: 0.8438 - val_loss: 0.4839 - val_accuracy: 0.8450\n",
            "Epoch 12/50\n",
            "25/25 [==============================] - 0s 4ms/step - loss: 0.4424 - accuracy: 0.8650 - val_loss: 0.4608 - val_accuracy: 0.8200\n",
            "Epoch 13/50\n",
            "25/25 [==============================] - 0s 4ms/step - loss: 0.4125 - accuracy: 0.8750 - val_loss: 0.4224 - val_accuracy: 0.8750\n",
            "Epoch 14/50\n",
            "25/25 [==============================] - 0s 5ms/step - loss: 0.3824 - accuracy: 0.8950 - val_loss: 0.3947 - val_accuracy: 0.8800\n",
            "Epoch 15/50\n",
            "25/25 [==============================] - 0s 5ms/step - loss: 0.3571 - accuracy: 0.9038 - val_loss: 0.3690 - val_accuracy: 0.8850\n",
            "Epoch 16/50\n",
            "25/25 [==============================] - 0s 4ms/step - loss: 0.3367 - accuracy: 0.9062 - val_loss: 0.3518 - val_accuracy: 0.8750\n",
            "Epoch 17/50\n",
            "25/25 [==============================] - 0s 4ms/step - loss: 0.3174 - accuracy: 0.9062 - val_loss: 0.3270 - val_accuracy: 0.8950\n",
            "Epoch 18/50\n",
            "25/25 [==============================] - 0s 4ms/step - loss: 0.2960 - accuracy: 0.9262 - val_loss: 0.3028 - val_accuracy: 0.9200\n",
            "Epoch 19/50\n",
            "25/25 [==============================] - 0s 4ms/step - loss: 0.2773 - accuracy: 0.9350 - val_loss: 0.2855 - val_accuracy: 0.9200\n",
            "Epoch 20/50\n",
            "25/25 [==============================] - 0s 4ms/step - loss: 0.2623 - accuracy: 0.9413 - val_loss: 0.2774 - val_accuracy: 0.9150\n",
            "Epoch 21/50\n",
            "25/25 [==============================] - 0s 4ms/step - loss: 0.2481 - accuracy: 0.9413 - val_loss: 0.2590 - val_accuracy: 0.9150\n",
            "Epoch 22/50\n",
            "25/25 [==============================] - 0s 4ms/step - loss: 0.2355 - accuracy: 0.9450 - val_loss: 0.2641 - val_accuracy: 0.8950\n",
            "Epoch 23/50\n",
            "25/25 [==============================] - 0s 4ms/step - loss: 0.2255 - accuracy: 0.9438 - val_loss: 0.2432 - val_accuracy: 0.9200\n",
            "Epoch 24/50\n",
            "25/25 [==============================] - 0s 3ms/step - loss: 0.2188 - accuracy: 0.9337 - val_loss: 0.2272 - val_accuracy: 0.9450\n",
            "Epoch 25/50\n",
            "25/25 [==============================] - 0s 4ms/step - loss: 0.2085 - accuracy: 0.9475 - val_loss: 0.2280 - val_accuracy: 0.9300\n",
            "Epoch 26/50\n",
            "25/25 [==============================] - 0s 4ms/step - loss: 0.1988 - accuracy: 0.9538 - val_loss: 0.2342 - val_accuracy: 0.8900\n",
            "Epoch 27/50\n",
            "25/25 [==============================] - 0s 3ms/step - loss: 0.1892 - accuracy: 0.9500 - val_loss: 0.2085 - val_accuracy: 0.9350\n",
            "Epoch 28/50\n",
            "25/25 [==============================] - 0s 3ms/step - loss: 0.1889 - accuracy: 0.9513 - val_loss: 0.2042 - val_accuracy: 0.9300\n",
            "Epoch 29/50\n",
            "25/25 [==============================] - 0s 4ms/step - loss: 0.1738 - accuracy: 0.9650 - val_loss: 0.1911 - val_accuracy: 0.9450\n",
            "Epoch 30/50\n",
            "25/25 [==============================] - 0s 4ms/step - loss: 0.1698 - accuracy: 0.9538 - val_loss: 0.1842 - val_accuracy: 0.9500\n",
            "Epoch 31/50\n",
            "25/25 [==============================] - 0s 4ms/step - loss: 0.1622 - accuracy: 0.9638 - val_loss: 0.1793 - val_accuracy: 0.9450\n",
            "Epoch 32/50\n",
            "25/25 [==============================] - 0s 3ms/step - loss: 0.1541 - accuracy: 0.9675 - val_loss: 0.2078 - val_accuracy: 0.9050\n",
            "Epoch 33/50\n",
            "25/25 [==============================] - 0s 3ms/step - loss: 0.1551 - accuracy: 0.9663 - val_loss: 0.1815 - val_accuracy: 0.9300\n",
            "Epoch 34/50\n",
            "25/25 [==============================] - 0s 4ms/step - loss: 0.1461 - accuracy: 0.9737 - val_loss: 0.1735 - val_accuracy: 0.9350\n",
            "Epoch 35/50\n",
            "25/25 [==============================] - 0s 4ms/step - loss: 0.1417 - accuracy: 0.9762 - val_loss: 0.1638 - val_accuracy: 0.9450\n",
            "Epoch 36/50\n",
            "25/25 [==============================] - 0s 3ms/step - loss: 0.1403 - accuracy: 0.9638 - val_loss: 0.1574 - val_accuracy: 0.9500\n",
            "Epoch 37/50\n",
            "25/25 [==============================] - 0s 3ms/step - loss: 0.1362 - accuracy: 0.9638 - val_loss: 0.1588 - val_accuracy: 0.9450\n",
            "Epoch 38/50\n",
            "25/25 [==============================] - 0s 3ms/step - loss: 0.1309 - accuracy: 0.9688 - val_loss: 0.1500 - val_accuracy: 0.9400\n",
            "Epoch 39/50\n",
            "25/25 [==============================] - 0s 4ms/step - loss: 0.1274 - accuracy: 0.9787 - val_loss: 0.1584 - val_accuracy: 0.9400\n",
            "Epoch 40/50\n",
            "25/25 [==============================] - 0s 3ms/step - loss: 0.1333 - accuracy: 0.9625 - val_loss: 0.2016 - val_accuracy: 0.8950\n",
            "Epoch 41/50\n",
            "25/25 [==============================] - 0s 4ms/step - loss: 0.1293 - accuracy: 0.9638 - val_loss: 0.1533 - val_accuracy: 0.9500\n",
            "Epoch 42/50\n",
            "25/25 [==============================] - 0s 4ms/step - loss: 0.1162 - accuracy: 0.9712 - val_loss: 0.1494 - val_accuracy: 0.9350\n",
            "Epoch 43/50\n",
            "25/25 [==============================] - 0s 4ms/step - loss: 0.1153 - accuracy: 0.9725 - val_loss: 0.1319 - val_accuracy: 0.9450\n",
            "Epoch 44/50\n",
            "25/25 [==============================] - 0s 3ms/step - loss: 0.1139 - accuracy: 0.9750 - val_loss: 0.1287 - val_accuracy: 0.9500\n",
            "Epoch 45/50\n",
            "25/25 [==============================] - 0s 4ms/step - loss: 0.1102 - accuracy: 0.9725 - val_loss: 0.1579 - val_accuracy: 0.9300\n",
            "Epoch 46/50\n",
            "25/25 [==============================] - 0s 4ms/step - loss: 0.1109 - accuracy: 0.9762 - val_loss: 0.1275 - val_accuracy: 0.9500\n",
            "Epoch 47/50\n",
            "25/25 [==============================] - 0s 3ms/step - loss: 0.1066 - accuracy: 0.9737 - val_loss: 0.1276 - val_accuracy: 0.9550\n",
            "Epoch 48/50\n",
            "25/25 [==============================] - 0s 4ms/step - loss: 0.1102 - accuracy: 0.9650 - val_loss: 0.1282 - val_accuracy: 0.9550\n",
            "Epoch 49/50\n",
            "25/25 [==============================] - 0s 4ms/step - loss: 0.1003 - accuracy: 0.9775 - val_loss: 0.1161 - val_accuracy: 0.9650\n",
            "Epoch 50/50\n",
            "25/25 [==============================] - 0s 3ms/step - loss: 0.1062 - accuracy: 0.9675 - val_loss: 0.1122 - val_accuracy: 0.9700\n"
          ]
        },
        {
          "output_type": "execute_result",
          "data": {
            "text/plain": [
              "<keras.src.callbacks.History at 0x7f20074afca0>"
            ]
          },
          "metadata": {},
          "execution_count": 10
        }
      ]
    },
    {
      "cell_type": "code",
      "source": [
        "# Evaluate the model\n",
        "loss, accuracy = model.evaluate(X_test, y_test)\n",
        "print(f'Test Accuracy: {accuracy:.2f}')"
      ],
      "metadata": {
        "id": "mS_OceRkg2wx",
        "outputId": "d1747868-0d86-4aba-8a77-fe561d6291a9",
        "colab": {
          "base_uri": "https://localhost:8080/"
        }
      },
      "execution_count": 11,
      "outputs": [
        {
          "output_type": "stream",
          "name": "stdout",
          "text": [
            "7/7 [==============================] - 0s 2ms/step - loss: 0.1122 - accuracy: 0.9700\n",
            "Test Accuracy: 0.97\n"
          ]
        }
      ]
    },
    {
      "cell_type": "code",
      "source": [
        "# Make predictions\n",
        "predictions = (model.predict(X_test) > 0.5).astype(int)\n",
        "print(\"Predictions:\", predictions[:10].flatten())\n",
        "print(\"Actual Labels:\", y_test[:10])\n"
      ],
      "metadata": {
        "id": "T9fZJgpTfNB-",
        "outputId": "d58e3f1c-7ac4-4da4-f34a-8f9f6424bb34",
        "colab": {
          "base_uri": "https://localhost:8080/"
        }
      },
      "execution_count": 12,
      "outputs": [
        {
          "output_type": "stream",
          "name": "stdout",
          "text": [
            "7/7 [==============================] - 0s 3ms/step\n",
            "Predictions: [1 1 1 0 0 0 0 1 0 1]\n",
            "Actual Labels: [1 1 1 0 0 0 0 1 0 1]\n"
          ]
        }
      ]
    },
    {
      "cell_type": "code",
      "source": [],
      "metadata": {
        "id": "Qgw7fFVWfm0V"
      },
      "execution_count": null,
      "outputs": []
    },
    {
      "cell_type": "markdown",
      "source": [
        "#2.Create a Neural Network model by your own name with a random input function of shape 300*4 for Binary classification"
      ],
      "metadata": {
        "id": "CzZyV3b3hLI_"
      }
    },
    {
      "cell_type": "code",
      "source": [
        "# import numpy as np\n",
        "# import tensorflow as tf\n",
        "# from tensorflow.keras.models import Sequential\n",
        "# from tensorflow.keras.layers import Dense\n",
        "\n",
        "# Generate random input data\n",
        "np.random.seed(42)\n",
        "X = np.random.rand(300, 4)  # 300 samples, 4 features\n",
        "y = (np.sum(X, axis=1) > 2).astype(int)"
      ],
      "metadata": {
        "id": "K_3AgyAMfj4j"
      },
      "execution_count": 13,
      "outputs": []
    },
    {
      "cell_type": "code",
      "source": [
        "# Split the data into training and test sets\n",
        "train_size = int(0.8 * X.shape[0])\n",
        "X_train, X_test = X[:train_size], X[train_size:]\n",
        "y_train, y_test = y[:train_size], y[train_size:]"
      ],
      "metadata": {
        "id": "Owgr9mk3kqwM"
      },
      "execution_count": 14,
      "outputs": []
    },
    {
      "cell_type": "code",
      "source": [
        "# Build the neural network model named \"Mahima\"\n",
        "model = Sequential(name=\"Mahima\")\n",
        "model.add(Dense(16, input_dim=4, activation='relu'))\n",
        "model.add(Dense(8, activation='relu'))\n",
        "model.add(Dense(1, activation='sigmoid'))"
      ],
      "metadata": {
        "id": "DSrRxR7Mkq-q"
      },
      "execution_count": 15,
      "outputs": []
    },
    {
      "cell_type": "code",
      "source": [
        "# Compile the model\n",
        "model.compile(optimizer='adam', loss='binary_crossentropy', metrics=['accuracy'])"
      ],
      "metadata": {
        "id": "hAySU4ZHfkId"
      },
      "execution_count": 16,
      "outputs": []
    },
    {
      "cell_type": "code",
      "source": [
        "# Train the model\n",
        "model.fit(X_train, y_train, epochs=50, batch_size=16, validation_data=(X_test, y_test))"
      ],
      "metadata": {
        "id": "IL0Yrjq9lJR9",
        "outputId": "b938e263-6537-4c08-c94d-8f5091e0a214",
        "colab": {
          "base_uri": "https://localhost:8080/"
        }
      },
      "execution_count": 17,
      "outputs": [
        {
          "output_type": "stream",
          "name": "stdout",
          "text": [
            "Epoch 1/50\n",
            "15/15 [==============================] - 1s 18ms/step - loss: 0.7115 - accuracy: 0.4292 - val_loss: 0.7126 - val_accuracy: 0.3000\n",
            "Epoch 2/50\n",
            "15/15 [==============================] - 0s 5ms/step - loss: 0.7036 - accuracy: 0.5000 - val_loss: 0.7087 - val_accuracy: 0.3500\n",
            "Epoch 3/50\n",
            "15/15 [==============================] - 0s 5ms/step - loss: 0.6974 - accuracy: 0.4750 - val_loss: 0.7088 - val_accuracy: 0.3167\n",
            "Epoch 4/50\n",
            "15/15 [==============================] - 0s 5ms/step - loss: 0.6927 - accuracy: 0.5125 - val_loss: 0.7081 - val_accuracy: 0.3167\n",
            "Epoch 5/50\n",
            "15/15 [==============================] - 0s 6ms/step - loss: 0.6895 - accuracy: 0.5333 - val_loss: 0.7069 - val_accuracy: 0.3833\n",
            "Epoch 6/50\n",
            "15/15 [==============================] - 0s 5ms/step - loss: 0.6861 - accuracy: 0.5458 - val_loss: 0.7026 - val_accuracy: 0.4000\n",
            "Epoch 7/50\n",
            "15/15 [==============================] - 0s 5ms/step - loss: 0.6824 - accuracy: 0.5708 - val_loss: 0.6987 - val_accuracy: 0.4500\n",
            "Epoch 8/50\n",
            "15/15 [==============================] - 0s 5ms/step - loss: 0.6777 - accuracy: 0.6083 - val_loss: 0.6945 - val_accuracy: 0.4500\n",
            "Epoch 9/50\n",
            "15/15 [==============================] - 0s 5ms/step - loss: 0.6731 - accuracy: 0.6250 - val_loss: 0.6899 - val_accuracy: 0.5000\n",
            "Epoch 10/50\n",
            "15/15 [==============================] - 0s 5ms/step - loss: 0.6680 - accuracy: 0.6292 - val_loss: 0.6840 - val_accuracy: 0.5333\n",
            "Epoch 11/50\n",
            "15/15 [==============================] - 0s 4ms/step - loss: 0.6624 - accuracy: 0.6417 - val_loss: 0.6777 - val_accuracy: 0.5333\n",
            "Epoch 12/50\n",
            "15/15 [==============================] - 0s 5ms/step - loss: 0.6564 - accuracy: 0.6583 - val_loss: 0.6720 - val_accuracy: 0.5500\n",
            "Epoch 13/50\n",
            "15/15 [==============================] - 0s 4ms/step - loss: 0.6497 - accuracy: 0.6625 - val_loss: 0.6631 - val_accuracy: 0.5833\n",
            "Epoch 14/50\n",
            "15/15 [==============================] - 0s 4ms/step - loss: 0.6421 - accuracy: 0.6875 - val_loss: 0.6584 - val_accuracy: 0.6167\n",
            "Epoch 15/50\n",
            "15/15 [==============================] - 0s 4ms/step - loss: 0.6334 - accuracy: 0.6833 - val_loss: 0.6508 - val_accuracy: 0.6167\n",
            "Epoch 16/50\n",
            "15/15 [==============================] - 0s 5ms/step - loss: 0.6260 - accuracy: 0.7042 - val_loss: 0.6389 - val_accuracy: 0.6167\n",
            "Epoch 17/50\n",
            "15/15 [==============================] - 0s 4ms/step - loss: 0.6149 - accuracy: 0.7083 - val_loss: 0.6318 - val_accuracy: 0.6333\n",
            "Epoch 18/50\n",
            "15/15 [==============================] - 0s 5ms/step - loss: 0.6057 - accuracy: 0.7250 - val_loss: 0.6259 - val_accuracy: 0.6500\n",
            "Epoch 19/50\n",
            "15/15 [==============================] - 0s 5ms/step - loss: 0.5931 - accuracy: 0.7333 - val_loss: 0.6136 - val_accuracy: 0.6500\n",
            "Epoch 20/50\n",
            "15/15 [==============================] - 0s 4ms/step - loss: 0.5809 - accuracy: 0.7458 - val_loss: 0.6035 - val_accuracy: 0.6500\n",
            "Epoch 21/50\n",
            "15/15 [==============================] - 0s 4ms/step - loss: 0.5687 - accuracy: 0.7625 - val_loss: 0.5945 - val_accuracy: 0.6500\n",
            "Epoch 22/50\n",
            "15/15 [==============================] - 0s 5ms/step - loss: 0.5543 - accuracy: 0.7708 - val_loss: 0.5816 - val_accuracy: 0.6500\n",
            "Epoch 23/50\n",
            "15/15 [==============================] - 0s 4ms/step - loss: 0.5404 - accuracy: 0.7833 - val_loss: 0.5727 - val_accuracy: 0.6833\n",
            "Epoch 24/50\n",
            "15/15 [==============================] - 0s 4ms/step - loss: 0.5258 - accuracy: 0.7917 - val_loss: 0.5593 - val_accuracy: 0.6667\n",
            "Epoch 25/50\n",
            "15/15 [==============================] - 0s 4ms/step - loss: 0.5103 - accuracy: 0.7958 - val_loss: 0.5453 - val_accuracy: 0.7000\n",
            "Epoch 26/50\n",
            "15/15 [==============================] - 0s 4ms/step - loss: 0.4966 - accuracy: 0.8042 - val_loss: 0.5335 - val_accuracy: 0.7667\n",
            "Epoch 27/50\n",
            "15/15 [==============================] - 0s 5ms/step - loss: 0.4804 - accuracy: 0.8167 - val_loss: 0.5160 - val_accuracy: 0.7500\n",
            "Epoch 28/50\n",
            "15/15 [==============================] - 0s 4ms/step - loss: 0.4644 - accuracy: 0.8500 - val_loss: 0.5058 - val_accuracy: 0.7667\n",
            "Epoch 29/50\n",
            "15/15 [==============================] - 0s 5ms/step - loss: 0.4490 - accuracy: 0.8708 - val_loss: 0.4883 - val_accuracy: 0.7667\n",
            "Epoch 30/50\n",
            "15/15 [==============================] - 0s 5ms/step - loss: 0.4339 - accuracy: 0.8708 - val_loss: 0.4685 - val_accuracy: 0.7667\n",
            "Epoch 31/50\n",
            "15/15 [==============================] - 0s 4ms/step - loss: 0.4175 - accuracy: 0.8625 - val_loss: 0.4564 - val_accuracy: 0.7833\n",
            "Epoch 32/50\n",
            "15/15 [==============================] - 0s 5ms/step - loss: 0.4001 - accuracy: 0.8792 - val_loss: 0.4364 - val_accuracy: 0.8167\n",
            "Epoch 33/50\n",
            "15/15 [==============================] - 0s 6ms/step - loss: 0.3838 - accuracy: 0.8875 - val_loss: 0.4204 - val_accuracy: 0.8167\n",
            "Epoch 34/50\n",
            "15/15 [==============================] - 0s 4ms/step - loss: 0.3684 - accuracy: 0.8917 - val_loss: 0.3986 - val_accuracy: 0.8167\n",
            "Epoch 35/50\n",
            "15/15 [==============================] - 0s 4ms/step - loss: 0.3525 - accuracy: 0.9083 - val_loss: 0.3824 - val_accuracy: 0.8667\n",
            "Epoch 36/50\n",
            "15/15 [==============================] - 0s 4ms/step - loss: 0.3383 - accuracy: 0.9167 - val_loss: 0.3651 - val_accuracy: 0.8667\n",
            "Epoch 37/50\n",
            "15/15 [==============================] - 0s 5ms/step - loss: 0.3244 - accuracy: 0.9208 - val_loss: 0.3473 - val_accuracy: 0.8667\n",
            "Epoch 38/50\n",
            "15/15 [==============================] - 0s 5ms/step - loss: 0.3104 - accuracy: 0.9292 - val_loss: 0.3350 - val_accuracy: 0.8833\n",
            "Epoch 39/50\n",
            "15/15 [==============================] - 0s 5ms/step - loss: 0.2998 - accuracy: 0.9292 - val_loss: 0.3207 - val_accuracy: 0.9000\n",
            "Epoch 40/50\n",
            "15/15 [==============================] - 0s 5ms/step - loss: 0.2877 - accuracy: 0.9458 - val_loss: 0.3063 - val_accuracy: 0.9000\n",
            "Epoch 41/50\n",
            "15/15 [==============================] - 0s 4ms/step - loss: 0.2778 - accuracy: 0.9417 - val_loss: 0.2926 - val_accuracy: 0.9167\n",
            "Epoch 42/50\n",
            "15/15 [==============================] - 0s 4ms/step - loss: 0.2678 - accuracy: 0.9458 - val_loss: 0.2827 - val_accuracy: 0.9333\n",
            "Epoch 43/50\n",
            "15/15 [==============================] - 0s 5ms/step - loss: 0.2590 - accuracy: 0.9583 - val_loss: 0.2747 - val_accuracy: 0.9500\n",
            "Epoch 44/50\n",
            "15/15 [==============================] - 0s 4ms/step - loss: 0.2552 - accuracy: 0.9250 - val_loss: 0.2656 - val_accuracy: 0.9500\n",
            "Epoch 45/50\n",
            "15/15 [==============================] - 0s 5ms/step - loss: 0.2444 - accuracy: 0.9583 - val_loss: 0.2600 - val_accuracy: 0.9167\n",
            "Epoch 46/50\n",
            "15/15 [==============================] - 0s 6ms/step - loss: 0.2357 - accuracy: 0.9708 - val_loss: 0.2503 - val_accuracy: 0.9500\n",
            "Epoch 47/50\n",
            "15/15 [==============================] - 0s 6ms/step - loss: 0.2301 - accuracy: 0.9500 - val_loss: 0.2404 - val_accuracy: 0.9500\n",
            "Epoch 48/50\n",
            "15/15 [==============================] - 0s 5ms/step - loss: 0.2238 - accuracy: 0.9583 - val_loss: 0.2332 - val_accuracy: 0.9500\n",
            "Epoch 49/50\n",
            "15/15 [==============================] - 0s 5ms/step - loss: 0.2171 - accuracy: 0.9625 - val_loss: 0.2258 - val_accuracy: 0.9500\n",
            "Epoch 50/50\n",
            "15/15 [==============================] - 0s 4ms/step - loss: 0.2142 - accuracy: 0.9583 - val_loss: 0.2210 - val_accuracy: 0.9500\n"
          ]
        },
        {
          "output_type": "execute_result",
          "data": {
            "text/plain": [
              "<keras.src.callbacks.History at 0x7f1ff43183a0>"
            ]
          },
          "metadata": {},
          "execution_count": 17
        }
      ]
    },
    {
      "cell_type": "code",
      "source": [
        "# Evaluate the model\n",
        "loss, accuracy = model.evaluate(X_test, y_test)\n",
        "print(f'Test Accuracy: {accuracy:.2f}')\n"
      ],
      "metadata": {
        "id": "Z1MtI7ANfkQ-",
        "outputId": "cce7a868-3f25-473e-e1f0-77620b917c4b",
        "colab": {
          "base_uri": "https://localhost:8080/"
        }
      },
      "execution_count": 18,
      "outputs": [
        {
          "output_type": "stream",
          "name": "stdout",
          "text": [
            "2/2 [==============================] - 0s 8ms/step - loss: 0.2210 - accuracy: 0.9500\n",
            "Test Accuracy: 0.95\n"
          ]
        }
      ]
    },
    {
      "cell_type": "code",
      "source": [
        "# Make predictions\n",
        "predictions = (model.predict(X_test) > 0.5).astype(int)\n",
        "print(\"Predictions:\", predictions[:10].flatten())\n",
        "print(\"Actual Labels:\", y_test[:10])\n"
      ],
      "metadata": {
        "id": "WOHlYi05fkYc",
        "outputId": "c6982b96-920b-4a50-d7ee-11c923535b8e",
        "colab": {
          "base_uri": "https://localhost:8080/"
        }
      },
      "execution_count": 19,
      "outputs": [
        {
          "output_type": "stream",
          "name": "stdout",
          "text": [
            "2/2 [==============================] - 0s 6ms/step\n",
            "Predictions: [0 0 1 0 0 0 1 1 0 1]\n",
            "Actual Labels: [0 0 1 0 0 0 1 1 0 1]\n"
          ]
        }
      ]
    },
    {
      "cell_type": "markdown",
      "source": [
        "# **#3.Write a Python code using Keras to perform linear regression on randomly generated data.**"
      ],
      "metadata": {
        "id": "dRM7juYXlfs7"
      }
    },
    {
      "cell_type": "code",
      "source": [
        "import numpy as np\n",
        "from keras.models import Sequential\n",
        "from keras.layers import Dense\n",
        "import matplotlib.pyplot as plt\n",
        "\n",
        "# Generating random data\n",
        "np.random.seed(0)\n",
        "X = np.random.rand(200, 1)\n",
        "y = 5 * X + 3 + np.random.randn(200, 1) * 0.1  # Adding some noise"
      ],
      "metadata": {
        "id": "xAGd1HxrmfeZ"
      },
      "execution_count": 20,
      "outputs": []
    },
    {
      "cell_type": "code",
      "source": [
        "# Creating a neural network model\n",
        "model = Sequential()\n",
        "model.add(Dense(1, input_dim=1))"
      ],
      "metadata": {
        "id": "iGc4gI0vmfr9"
      },
      "execution_count": 21,
      "outputs": []
    },
    {
      "cell_type": "code",
      "source": [
        "# Compiling the model\n",
        "model.compile(optimizer='sgd', loss='mse')"
      ],
      "metadata": {
        "id": "8sVNSvF0mo62"
      },
      "execution_count": 22,
      "outputs": []
    },
    {
      "cell_type": "code",
      "source": [
        "# Training the model\n",
        "history = model.fit(X, y, epochs=200, verbose=0)"
      ],
      "metadata": {
        "id": "-tTuW2Ppmf7Y"
      },
      "execution_count": 23,
      "outputs": []
    },
    {
      "cell_type": "code",
      "source": [
        "# Plotting the data and the regression line\n",
        "plt.scatter(X, y)\n",
        "plt.plot(X, model.predict(X), color='red')\n",
        "plt.xlabel('X')\n",
        "plt.ylabel('y')\n",
        "plt.title('Linear Regression with Keras')\n",
        "plt.show()\n",
        "print(\"loss =\",loss)\n",
        "\n",
        "\n",
        "\n",
        "\n",
        "\n",
        "\n"
      ],
      "metadata": {
        "id": "W3VFUK6gltCZ",
        "outputId": "47bd1d2e-07d6-46d3-b37b-767024234554",
        "colab": {
          "base_uri": "https://localhost:8080/",
          "height": 507
        }
      },
      "execution_count": 24,
      "outputs": [
        {
          "output_type": "stream",
          "name": "stdout",
          "text": [
            "7/7 [==============================] - 0s 2ms/step\n"
          ]
        },
        {
          "output_type": "display_data",
          "data": {
            "text/plain": [
              "<Figure size 640x480 with 1 Axes>"
            ],
            "image/png": "[encoded data removed]"
          },
          "metadata": {}
        },
        {
          "output_type": "stream",
          "name": "stdout",
          "text": [
            "loss = 0.22098933160305023\n"
          ]
        }
      ]
    },
    {
      "cell_type": "markdown",
      "source": [
        "# **#4.Use Keras library to create and train a basic RNN for sequence prediction. Use a simple sequence (8, 9, 10,11,12,13) and tries to predict the next number in the sequence.**"
      ],
      "metadata": {
        "id": "VnNcSRhBm_r9"
      }
    },
    {
      "cell_type": "code",
      "source": [
        "import numpy as np\n",
        "import tensorflow as tf\n",
        "from tensorflow.keras.models import Sequential\n",
        "from tensorflow.keras.layers import SimpleRNN, Dense\n",
        "\n",
        "# Define the sequence\n",
        "sequence = np.array([8, 9, 10, 11, 12, 13])"
      ],
      "metadata": {
        "id": "4chzV7jmmd5X"
      },
      "execution_count": 25,
      "outputs": []
    },
    {
      "cell_type": "code",
      "source": [
        "# Prepare the data\n",
        "# Reshape the data to fit the RNN input requirements (samples, time steps, features)\n",
        "X = sequence[:-1].reshape((1, len(sequence) - 1, 1))  # Input: (8, 9, 10, 11, 12)\n",
        "y = sequence[1:].reshape((1, len(sequence) - 1, 1))   # Output: (9, 10, 11, 12, 13)"
      ],
      "metadata": {
        "id": "17yBDa1Hn3YN"
      },
      "execution_count": 26,
      "outputs": []
    },
    {
      "cell_type": "code",
      "source": [
        "# Build the RNN model\n",
        "model = Sequential()\n",
        "model.add(SimpleRNN(10, activation='relu', input_shape=(len(sequence) - 1, 1)))\n",
        "model.add(Dense(1))"
      ],
      "metadata": {
        "id": "hiX0kH7dn3mH"
      },
      "execution_count": 27,
      "outputs": []
    },
    {
      "cell_type": "code",
      "source": [
        "# Compile the model\n",
        "model.compile(optimizer='adam', loss='mse')"
      ],
      "metadata": {
        "id": "dzRt-Y3PnR8Q"
      },
      "execution_count": 28,
      "outputs": []
    },
    {
      "cell_type": "code",
      "source": [
        "# Train the model\n",
        "model.fit(X, y, epochs=200, verbose=0)"
      ],
      "metadata": {
        "id": "kIDI0HesoQfX",
        "outputId": "818c4c53-a732-41ff-e2ac-a37aaf25b91e",
        "colab": {
          "base_uri": "https://localhost:8080/"
        }
      },
      "execution_count": 29,
      "outputs": [
        {
          "output_type": "execute_result",
          "data": {
            "text/plain": [
              "<keras.src.callbacks.History at 0x7f200508c100>"
            ]
          },
          "metadata": {},
          "execution_count": 29
        }
      ]
    },
    {
      "cell_type": "code",
      "source": [
        "# Make a prediction for the next number in the sequence\n",
        "new_sequence = np.array([9, 10, 11, 12, 13]).reshape((1, len(sequence) - 1, 1))\n",
        "predicted_value = model.predict(new_sequence)\n",
        "print(f\"Predicted next value in the sequence: {predicted_value[0][0]}\")"
      ],
      "metadata": {
        "id": "yRfuvJXVoQ5x",
        "outputId": "83e2e7d8-d205-47d7-f345-c1e0ded2674b",
        "colab": {
          "base_uri": "https://localhost:8080/"
        }
      },
      "execution_count": 30,
      "outputs": [
        {
          "output_type": "stream",
          "name": "stdout",
          "text": [
            "1/1 [==============================] - 0s 160ms/step\n",
            "Predicted next value in the sequence: 12.016879081726074\n"
          ]
        }
      ]
    },
    {
      "cell_type": "code",
      "source": [
        "# Evaluate the model\n",
        "predicted_value = model.predict(X)\n",
        "print(\"Predicted sequence:\", predicted_value.flatten())\n",
        "print(\"Actual sequence:\", y.flatten())\n"
      ],
      "metadata": {
        "id": "GrO3SoOcmeNc",
        "outputId": "f331cd23-280e-4dac-d6c1-8ec72f2947ad",
        "colab": {
          "base_uri": "https://localhost:8080/"
        }
      },
      "execution_count": 31,
      "outputs": [
        {
          "output_type": "stream",
          "name": "stdout",
          "text": [
            "1/1 [==============================] - 0s 25ms/step\n",
            "Predicted sequence: [11.001912]\n",
            "Actual sequence: [ 9 10 11 12 13]\n"
          ]
        }
      ]
    },
    {
      "cell_type": "markdown",
      "source": [
        "# **#5.Create a Basic Recurrent Neural Network (RNN) model for text analysis using Python and TensorFlow.(Input text=”Anna, embrace change; Change is constant.”)**"
      ],
      "metadata": {
        "id": "Ffo-T5nAozNL"
      }
    },
    {
      "cell_type": "code",
      "source": [
        "import numpy as np\n",
        "import tensorflow as tf\n",
        "\n",
        "# Sample text data\n",
        "text = \"Anna, embrace change; Change is constant.\"\n",
        "\n",
        "# Create a vocabulary\n",
        "vocab = sorted(set(text))\n",
        "print(vocab)"
      ],
      "metadata": {
        "id": "ZSddkg9No21l",
        "outputId": "d159c97e-3bb5-4159-919d-ed814ccc723f",
        "colab": {
          "base_uri": "https://localhost:8080/"
        }
      },
      "execution_count": 35,
      "outputs": [
        {
          "output_type": "stream",
          "name": "stdout",
          "text": [
            "[' ', ',', '.', ';', 'A', 'C', 'a', 'b', 'c', 'e', 'g', 'h', 'i', 'm', 'n', 'o', 'r', 's', 't']\n"
          ]
        }
      ]
    },
    {
      "cell_type": "code",
      "source": [
        "# Create mappings from characters to indices and vice versa\n",
        "char_to_idx = {char: idx for idx, char in enumerate(vocab)}\n",
        "idx_to_char = np.array(vocab)\n",
        "print(idx_to_char)"
      ],
      "metadata": {
        "id": "vyPdC038pR2T",
        "outputId": "9d02674b-9241-4f43-96a6-1fd2e7142055",
        "colab": {
          "base_uri": "https://localhost:8080/"
        }
      },
      "execution_count": 34,
      "outputs": [
        {
          "output_type": "stream",
          "name": "stdout",
          "text": [
            "[' ' ',' '.' ';' 'A' 'C' 'a' 'b' 'c' 'e' 'g' 'h' 'i' 'm' 'n' 'o' 'r' 's'\n",
            " 't']\n"
          ]
        }
      ]
    },
    {
      "cell_type": "code",
      "source": [
        "# Convert text to numerical data\n",
        "text_as_int = np.array([char_to_idx[char] for char in text])\n",
        "\n",
        "print(text_as_int)"
      ],
      "metadata": {
        "id": "Hx5aQpBkpR8s",
        "outputId": "3de24215-c0df-442d-8ec5-558c0e591142",
        "colab": {
          "base_uri": "https://localhost:8080/"
        }
      },
      "execution_count": 36,
      "outputs": [
        {
          "output_type": "stream",
          "name": "stdout",
          "text": [
            "[ 4 14 14  6  1  0  9 13  7 16  6  8  9  0  8 11  6 14 10  9  3  0  5 11\n",
            "  6 14 10  9  0 12 17  0  8 15 14 17 18  6 14 18  2]\n"
          ]
        }
      ]
    },
    {
      "cell_type": "code",
      "source": [
        "# Define the RNN model\n",
        "embedding_dim = 256\n",
        "rnn_units = 1024\n",
        "\n",
        "def build_model(vocab_size, embedding_dim, rnn_units, batch_size):\n",
        "    model = tf.keras.Sequential([\n",
        "        tf.keras.layers.Embedding(vocab_size, embedding_dim, batch_input_shape=[batch_size, None]),\n",
        "        tf.keras.layers.SimpleRNN(rnn_units, return_sequences=True, recurrent_initializer='glorot_uniform'),\n",
        "        tf.keras.layers.Dense(vocab_size)\n",
        "    ])\n",
        "    return model\n",
        "\n",
        "model = build_model(\n",
        "    vocab_size=len(vocab),\n",
        "    embedding_dim=embedding_dim,\n",
        "    rnn_units=rnn_units,\n",
        "    batch_size=1\n",
        ")"
      ],
      "metadata": {
        "id": "lFJ9u-T3o3OI"
      },
      "execution_count": 37,
      "outputs": []
    },
    {
      "cell_type": "code",
      "source": [
        "# Compile the model\n",
        "model.compile(optimizer='adam', loss=tf.losses.SparseCategoricalCrossentropy(from_logits=True))\n",
        "\n",
        "# Define the number of training epochs\n",
        "num_epochs = 100\n"
      ],
      "metadata": {
        "id": "pLIjHv6Co6ZK"
      },
      "execution_count": 38,
      "outputs": []
    },
    {
      "cell_type": "code",
      "source": [
        "# Reshape input data to include batches of sequences\n",
        "input_text = text_as_int[:-1]\n",
        "target_text = text_as_int[1:]\n",
        "input_text = np.expand_dims(input_text, axis=0)\n",
        "target_text = np.expand_dims(target_text, axis=0)"
      ],
      "metadata": {
        "id": "fjLtwu5-qBu0"
      },
      "execution_count": 39,
      "outputs": []
    },
    {
      "cell_type": "code",
      "source": [
        "# Train the model\n",
        "model.fit(input_text, target_text, epochs=num_epochs)"
      ],
      "metadata": {
        "id": "y16949enqB7c",
        "outputId": "97647a88-ca7f-4eb8-b9a9-b288625cd0b1",
        "colab": {
          "base_uri": "https://localhost:8080/"
        }
      },
      "execution_count": 40,
      "outputs": [
        {
          "output_type": "stream",
          "name": "stdout",
          "text": [
            "Epoch 1/100\n",
            "1/1 [==============================] - 2s 2s/step - loss: 2.9606\n",
            "Epoch 2/100\n",
            "1/1 [==============================] - 0s 153ms/step - loss: 2.3556\n",
            "Epoch 3/100\n",
            "1/1 [==============================] - 0s 138ms/step - loss: 2.0659\n",
            "Epoch 4/100\n",
            "1/1 [==============================] - 0s 120ms/step - loss: 2.6212\n",
            "Epoch 5/100\n",
            "1/1 [==============================] - 0s 143ms/step - loss: 2.5395\n",
            "Epoch 6/100\n",
            "1/1 [==============================] - 0s 123ms/step - loss: 2.0546\n",
            "Epoch 7/100\n",
            "1/1 [==============================] - 0s 134ms/step - loss: 2.8176\n",
            "Epoch 8/100\n",
            "1/1 [==============================] - 0s 122ms/step - loss: 2.2094\n",
            "Epoch 9/100\n",
            "1/1 [==============================] - 0s 153ms/step - loss: 2.0532\n",
            "Epoch 10/100\n",
            "1/1 [==============================] - 0s 166ms/step - loss: 1.9937\n",
            "Epoch 11/100\n",
            "1/1 [==============================] - 0s 138ms/step - loss: 2.6347\n",
            "Epoch 12/100\n",
            "1/1 [==============================] - 0s 127ms/step - loss: 1.7146\n",
            "Epoch 13/100\n",
            "1/1 [==============================] - 0s 148ms/step - loss: 2.9559\n",
            "Epoch 14/100\n",
            "1/1 [==============================] - 0s 131ms/step - loss: 2.4080\n",
            "Epoch 15/100\n",
            "1/1 [==============================] - 0s 122ms/step - loss: 1.9708\n",
            "Epoch 16/100\n",
            "1/1 [==============================] - 0s 128ms/step - loss: 2.0624\n",
            "Epoch 17/100\n",
            "1/1 [==============================] - 0s 178ms/step - loss: 1.5403\n",
            "Epoch 18/100\n",
            "1/1 [==============================] - 0s 135ms/step - loss: 1.4894\n",
            "Epoch 19/100\n",
            "1/1 [==============================] - 0s 215ms/step - loss: 1.5237\n",
            "Epoch 20/100\n",
            "1/1 [==============================] - 0s 150ms/step - loss: 1.3312\n",
            "Epoch 21/100\n",
            "1/1 [==============================] - 0s 157ms/step - loss: 1.0162\n",
            "Epoch 22/100\n",
            "1/1 [==============================] - 0s 244ms/step - loss: 0.8441\n",
            "Epoch 23/100\n",
            "1/1 [==============================] - 0s 324ms/step - loss: 0.7437\n",
            "Epoch 24/100\n",
            "1/1 [==============================] - 0s 309ms/step - loss: 0.7837\n",
            "Epoch 25/100\n",
            "1/1 [==============================] - 0s 264ms/step - loss: 0.4845\n",
            "Epoch 26/100\n",
            "1/1 [==============================] - 0s 242ms/step - loss: 0.4906\n",
            "Epoch 27/100\n",
            "1/1 [==============================] - 0s 216ms/step - loss: 0.4421\n",
            "Epoch 28/100\n",
            "1/1 [==============================] - 0s 294ms/step - loss: 0.3747\n",
            "Epoch 29/100\n",
            "1/1 [==============================] - 0s 274ms/step - loss: 0.2873\n",
            "Epoch 30/100\n",
            "1/1 [==============================] - 0s 290ms/step - loss: 0.2515\n",
            "Epoch 31/100\n",
            "1/1 [==============================] - 0s 238ms/step - loss: 0.2322\n",
            "Epoch 32/100\n",
            "1/1 [==============================] - 0s 267ms/step - loss: 0.2115\n",
            "Epoch 33/100\n",
            "1/1 [==============================] - 0s 276ms/step - loss: 0.1834\n",
            "Epoch 34/100\n",
            "1/1 [==============================] - 0s 245ms/step - loss: 0.1666\n",
            "Epoch 35/100\n",
            "1/1 [==============================] - 0s 300ms/step - loss: 0.1547\n",
            "Epoch 36/100\n",
            "1/1 [==============================] - 0s 222ms/step - loss: 0.1462\n",
            "Epoch 37/100\n",
            "1/1 [==============================] - 0s 449ms/step - loss: 0.1398\n",
            "Epoch 38/100\n",
            "1/1 [==============================] - 1s 690ms/step - loss: 0.1349\n",
            "Epoch 39/100\n",
            "1/1 [==============================] - 1s 531ms/step - loss: 0.1307\n",
            "Epoch 40/100\n",
            "1/1 [==============================] - 0s 403ms/step - loss: 0.1265\n",
            "Epoch 41/100\n",
            "1/1 [==============================] - 0s 471ms/step - loss: 0.1221\n",
            "Epoch 42/100\n",
            "1/1 [==============================] - 1s 567ms/step - loss: 0.1179\n",
            "Epoch 43/100\n",
            "1/1 [==============================] - 0s 477ms/step - loss: 0.1141\n",
            "Epoch 44/100\n",
            "1/1 [==============================] - 0s 412ms/step - loss: 0.1106\n",
            "Epoch 45/100\n",
            "1/1 [==============================] - 0s 411ms/step - loss: 0.1074\n",
            "Epoch 46/100\n",
            "1/1 [==============================] - 0s 380ms/step - loss: 0.1044\n",
            "Epoch 47/100\n",
            "1/1 [==============================] - 0s 484ms/step - loss: 0.1014\n",
            "Epoch 48/100\n",
            "1/1 [==============================] - 0s 394ms/step - loss: 0.0984\n",
            "Epoch 49/100\n",
            "1/1 [==============================] - 0s 250ms/step - loss: 0.0956\n",
            "Epoch 50/100\n",
            "1/1 [==============================] - 0s 349ms/step - loss: 0.0928\n",
            "Epoch 51/100\n",
            "1/1 [==============================] - 0s 171ms/step - loss: 0.0902\n",
            "Epoch 52/100\n",
            "1/1 [==============================] - 0s 202ms/step - loss: 0.0878\n",
            "Epoch 53/100\n",
            "1/1 [==============================] - 0s 374ms/step - loss: 0.0855\n",
            "Epoch 54/100\n",
            "1/1 [==============================] - 0s 213ms/step - loss: 0.0833\n",
            "Epoch 55/100\n",
            "1/1 [==============================] - 0s 285ms/step - loss: 0.0812\n",
            "Epoch 56/100\n",
            "1/1 [==============================] - 0s 174ms/step - loss: 0.0792\n",
            "Epoch 57/100\n",
            "1/1 [==============================] - 0s 254ms/step - loss: 0.0773\n",
            "Epoch 58/100\n",
            "1/1 [==============================] - 0s 313ms/step - loss: 0.0754\n",
            "Epoch 59/100\n",
            "1/1 [==============================] - 0s 246ms/step - loss: 0.0735\n",
            "Epoch 60/100\n",
            "1/1 [==============================] - 0s 221ms/step - loss: 0.0718\n",
            "Epoch 61/100\n",
            "1/1 [==============================] - 0s 190ms/step - loss: 0.0700\n",
            "Epoch 62/100\n",
            "1/1 [==============================] - 0s 149ms/step - loss: 0.0684\n",
            "Epoch 63/100\n",
            "1/1 [==============================] - 0s 222ms/step - loss: 0.0667\n",
            "Epoch 64/100\n",
            "1/1 [==============================] - 0s 234ms/step - loss: 0.0652\n",
            "Epoch 65/100\n",
            "1/1 [==============================] - 0s 222ms/step - loss: 0.0637\n",
            "Epoch 66/100\n",
            "1/1 [==============================] - 0s 227ms/step - loss: 0.0623\n",
            "Epoch 67/100\n",
            "1/1 [==============================] - 0s 248ms/step - loss: 0.0609\n",
            "Epoch 68/100\n",
            "1/1 [==============================] - 0s 185ms/step - loss: 0.0595\n",
            "Epoch 69/100\n",
            "1/1 [==============================] - 0s 201ms/step - loss: 0.0582\n",
            "Epoch 70/100\n",
            "1/1 [==============================] - 0s 228ms/step - loss: 0.0569\n",
            "Epoch 71/100\n",
            "1/1 [==============================] - 0s 241ms/step - loss: 0.0557\n",
            "Epoch 72/100\n",
            "1/1 [==============================] - 0s 237ms/step - loss: 0.0545\n",
            "Epoch 73/100\n",
            "1/1 [==============================] - 0s 340ms/step - loss: 0.0533\n",
            "Epoch 74/100\n",
            "1/1 [==============================] - 0s 234ms/step - loss: 0.0522\n",
            "Epoch 75/100\n",
            "1/1 [==============================] - 0s 286ms/step - loss: 0.0510\n",
            "Epoch 76/100\n",
            "1/1 [==============================] - 0s 246ms/step - loss: 0.0499\n",
            "Epoch 77/100\n",
            "1/1 [==============================] - 0s 227ms/step - loss: 0.0489\n",
            "Epoch 78/100\n",
            "1/1 [==============================] - 0s 215ms/step - loss: 0.0478\n",
            "Epoch 79/100\n",
            "1/1 [==============================] - 0s 276ms/step - loss: 0.0468\n",
            "Epoch 80/100\n",
            "1/1 [==============================] - 0s 249ms/step - loss: 0.0458\n",
            "Epoch 81/100\n",
            "1/1 [==============================] - 0s 220ms/step - loss: 0.0448\n",
            "Epoch 82/100\n",
            "1/1 [==============================] - 0s 151ms/step - loss: 0.0438\n",
            "Epoch 83/100\n",
            "1/1 [==============================] - 0s 160ms/step - loss: 0.0429\n",
            "Epoch 84/100\n",
            "1/1 [==============================] - 0s 170ms/step - loss: 0.0419\n",
            "Epoch 85/100\n",
            "1/1 [==============================] - 0s 145ms/step - loss: 0.0410\n",
            "Epoch 86/100\n",
            "1/1 [==============================] - 0s 191ms/step - loss: 0.0401\n",
            "Epoch 87/100\n",
            "1/1 [==============================] - 0s 152ms/step - loss: 0.0392\n",
            "Epoch 88/100\n",
            "1/1 [==============================] - 0s 137ms/step - loss: 0.0383\n",
            "Epoch 89/100\n",
            "1/1 [==============================] - 0s 331ms/step - loss: 0.0374\n",
            "Epoch 90/100\n",
            "1/1 [==============================] - 0s 300ms/step - loss: 0.0365\n",
            "Epoch 91/100\n",
            "1/1 [==============================] - 0s 260ms/step - loss: 0.0357\n",
            "Epoch 92/100\n",
            "1/1 [==============================] - 0s 320ms/step - loss: 0.0348\n",
            "Epoch 93/100\n",
            "1/1 [==============================] - 0s 318ms/step - loss: 0.0340\n",
            "Epoch 94/100\n",
            "1/1 [==============================] - 0s 395ms/step - loss: 0.0331\n",
            "Epoch 95/100\n",
            "1/1 [==============================] - 0s 296ms/step - loss: 0.0323\n",
            "Epoch 96/100\n",
            "1/1 [==============================] - 0s 290ms/step - loss: 0.0315\n",
            "Epoch 97/100\n",
            "1/1 [==============================] - 0s 296ms/step - loss: 0.0307\n",
            "Epoch 98/100\n",
            "1/1 [==============================] - 0s 237ms/step - loss: 0.0299\n",
            "Epoch 99/100\n",
            "1/1 [==============================] - 0s 368ms/step - loss: 0.0291\n",
            "Epoch 100/100\n",
            "1/1 [==============================] - 0s 398ms/step - loss: 0.0284\n"
          ]
        },
        {
          "output_type": "execute_result",
          "data": {
            "text/plain": [
              "<keras.src.callbacks.History at 0x7f2004d2d0f0>"
            ]
          },
          "metadata": {},
          "execution_count": 40
        }
      ]
    },
    {
      "cell_type": "code",
      "source": [
        "# Generate text\n",
        "def generate_text(model, start_string, num_generate=100):\n",
        "    input_eval = [char_to_idx[s] for s in start_string]\n",
        "    input_eval = tf.expand_dims(input_eval, 0)\n",
        "    text_generated = []\n",
        "\n",
        "    model.reset_states()\n",
        "    for _ in range(num_generate):\n",
        "        predictions = model(input_eval)\n",
        "        predictions = tf.squeeze(predictions, 0)\n",
        "        predicted_id = tf.random.categorical(predictions, num_samples=1)[-1, 0].numpy()\n",
        "        input_eval = tf.expand_dims([predicted_id], 0)\n",
        "        text_generated.append(idx_to_char[predicted_id])\n",
        "\n",
        "    return start_string + ''.join(text_generated)"
      ],
      "metadata": {
        "id": "CW29EDWGqMKU"
      },
      "execution_count": 45,
      "outputs": []
    },
    {
      "cell_type": "code",
      "source": [
        "generated_text = generate_text(model, start_string=\"Anna, \", num_generate=100)\n",
        "print(generated_text)"
      ],
      "metadata": {
        "id": "jJkHhpBTo6e5",
        "outputId": "f31aac71-40dd-48e6-b49f-f82643d97cad",
        "colab": {
          "base_uri": "https://localhost:8080/",
          "height": 304
        }
      },
      "execution_count": 46,
      "outputs": [
        {
          "output_type": "error",
          "ename": "ValueError",
          "evalue": "Input 0 of layer \"sequential_4\" is incompatible with the layer: expected shape=(None, 5), found shape=(1, 6)",
          "traceback": [
            "\u001b[0;31m---------------------------------------------------------------------------\u001b[0m",
            "\u001b[0;31mValueError\u001b[0m                                Traceback (most recent call last)",
            "\u001b[0;32m<ipython-input-46-c669d0a5c123>\u001b[0m in \u001b[0;36m<cell line: 1>\u001b[0;34m()\u001b[0m\n\u001b[0;32m----> 1\u001b[0;31m \u001b[0mgenerated_text\u001b[0m \u001b[0;34m=\u001b[0m \u001b[0mgenerate_text\u001b[0m\u001b[0;34m(\u001b[0m\u001b[0mmodel\u001b[0m\u001b[0;34m,\u001b[0m \u001b[0mstart_string\u001b[0m\u001b[0;34m=\u001b[0m\u001b[0;34m\"Anna, \"\u001b[0m\u001b[0;34m,\u001b[0m \u001b[0mnum_generate\u001b[0m\u001b[0;34m=\u001b[0m\u001b[0;36m100\u001b[0m\u001b[0;34m)\u001b[0m\u001b[0;34m\u001b[0m\u001b[0;34m\u001b[0m\u001b[0m\n\u001b[0m\u001b[1;32m      2\u001b[0m \u001b[0mprint\u001b[0m\u001b[0;34m(\u001b[0m\u001b[0mgenerated_text\u001b[0m\u001b[0;34m)\u001b[0m\u001b[0;34m\u001b[0m\u001b[0;34m\u001b[0m\u001b[0m\n",
            "\u001b[0;32m<ipython-input-45-81d4cefb3fc2>\u001b[0m in \u001b[0;36mgenerate_text\u001b[0;34m(model, start_string, num_generate)\u001b[0m\n\u001b[1;32m      7\u001b[0m     \u001b[0mmodel\u001b[0m\u001b[0;34m.\u001b[0m\u001b[0mreset_states\u001b[0m\u001b[0;34m(\u001b[0m\u001b[0;34m)\u001b[0m\u001b[0;34m\u001b[0m\u001b[0;34m\u001b[0m\u001b[0m\n\u001b[1;32m      8\u001b[0m     \u001b[0;32mfor\u001b[0m \u001b[0m_\u001b[0m \u001b[0;32min\u001b[0m \u001b[0mrange\u001b[0m\u001b[0;34m(\u001b[0m\u001b[0mnum_generate\u001b[0m\u001b[0;34m)\u001b[0m\u001b[0;34m:\u001b[0m\u001b[0;34m\u001b[0m\u001b[0;34m\u001b[0m\u001b[0m\n\u001b[0;32m----> 9\u001b[0;31m         \u001b[0mpredictions\u001b[0m \u001b[0;34m=\u001b[0m \u001b[0mmodel\u001b[0m\u001b[0;34m(\u001b[0m\u001b[0minput_eval\u001b[0m\u001b[0;34m)\u001b[0m\u001b[0;34m\u001b[0m\u001b[0;34m\u001b[0m\u001b[0m\n\u001b[0m\u001b[1;32m     10\u001b[0m         \u001b[0mpredictions\u001b[0m \u001b[0;34m=\u001b[0m \u001b[0mtf\u001b[0m\u001b[0;34m.\u001b[0m\u001b[0msqueeze\u001b[0m\u001b[0;34m(\u001b[0m\u001b[0mpredictions\u001b[0m\u001b[0;34m,\u001b[0m \u001b[0;36m0\u001b[0m\u001b[0;34m)\u001b[0m\u001b[0;34m\u001b[0m\u001b[0;34m\u001b[0m\u001b[0m\n\u001b[1;32m     11\u001b[0m         \u001b[0mpredicted_id\u001b[0m \u001b[0;34m=\u001b[0m \u001b[0mtf\u001b[0m\u001b[0;34m.\u001b[0m\u001b[0mrandom\u001b[0m\u001b[0;34m.\u001b[0m\u001b[0mcategorical\u001b[0m\u001b[0;34m(\u001b[0m\u001b[0mpredictions\u001b[0m\u001b[0;34m,\u001b[0m \u001b[0mnum_samples\u001b[0m\u001b[0;34m=\u001b[0m\u001b[0;36m1\u001b[0m\u001b[0;34m)\u001b[0m\u001b[0;34m[\u001b[0m\u001b[0;34m-\u001b[0m\u001b[0;36m1\u001b[0m\u001b[0;34m,\u001b[0m \u001b[0;36m0\u001b[0m\u001b[0;34m]\u001b[0m\u001b[0;34m.\u001b[0m\u001b[0mnumpy\u001b[0m\u001b[0;34m(\u001b[0m\u001b[0;34m)\u001b[0m\u001b[0;34m\u001b[0m\u001b[0;34m\u001b[0m\u001b[0m\n",
            "\u001b[0;32m/usr/local/lib/python3.10/dist-packages/keras/src/utils/traceback_utils.py\u001b[0m in \u001b[0;36merror_handler\u001b[0;34m(*args, **kwargs)\u001b[0m\n\u001b[1;32m     68\u001b[0m             \u001b[0;31m# To get the full stack trace, call:\u001b[0m\u001b[0;34m\u001b[0m\u001b[0;34m\u001b[0m\u001b[0m\n\u001b[1;32m     69\u001b[0m             \u001b[0;31m# `tf.debugging.disable_traceback_filtering()`\u001b[0m\u001b[0;34m\u001b[0m\u001b[0;34m\u001b[0m\u001b[0m\n\u001b[0;32m---> 70\u001b[0;31m             \u001b[0;32mraise\u001b[0m \u001b[0me\u001b[0m\u001b[0;34m.\u001b[0m\u001b[0mwith_traceback\u001b[0m\u001b[0;34m(\u001b[0m\u001b[0mfiltered_tb\u001b[0m\u001b[0;34m)\u001b[0m \u001b[0;32mfrom\u001b[0m \u001b[0;32mNone\u001b[0m\u001b[0;34m\u001b[0m\u001b[0;34m\u001b[0m\u001b[0m\n\u001b[0m\u001b[1;32m     71\u001b[0m         \u001b[0;32mfinally\u001b[0m\u001b[0;34m:\u001b[0m\u001b[0;34m\u001b[0m\u001b[0;34m\u001b[0m\u001b[0m\n\u001b[1;32m     72\u001b[0m             \u001b[0;32mdel\u001b[0m \u001b[0mfiltered_tb\u001b[0m\u001b[0;34m\u001b[0m\u001b[0;34m\u001b[0m\u001b[0m\n",
            "\u001b[0;32m/usr/local/lib/python3.10/dist-packages/keras/src/engine/input_spec.py\u001b[0m in \u001b[0;36massert_input_compatibility\u001b[0;34m(input_spec, inputs, layer_name)\u001b[0m\n\u001b[1;32m    296\u001b[0m                 \u001b[0;32mif\u001b[0m \u001b[0mspec_dim\u001b[0m \u001b[0;32mis\u001b[0m \u001b[0;32mnot\u001b[0m \u001b[0;32mNone\u001b[0m \u001b[0;32mand\u001b[0m \u001b[0mdim\u001b[0m \u001b[0;32mis\u001b[0m \u001b[0;32mnot\u001b[0m \u001b[0;32mNone\u001b[0m\u001b[0;34m:\u001b[0m\u001b[0;34m\u001b[0m\u001b[0;34m\u001b[0m\u001b[0m\n\u001b[1;32m    297\u001b[0m                     \u001b[0;32mif\u001b[0m \u001b[0mspec_dim\u001b[0m \u001b[0;34m!=\u001b[0m \u001b[0mdim\u001b[0m\u001b[0;34m:\u001b[0m\u001b[0;34m\u001b[0m\u001b[0;34m\u001b[0m\u001b[0m\n\u001b[0;32m--> 298\u001b[0;31m                         raise ValueError(\n\u001b[0m\u001b[1;32m    299\u001b[0m                             \u001b[0;34mf'Input {input_index} of layer \"{layer_name}\" is '\u001b[0m\u001b[0;34m\u001b[0m\u001b[0;34m\u001b[0m\u001b[0m\n\u001b[1;32m    300\u001b[0m                             \u001b[0;34m\"incompatible with the layer: \"\u001b[0m\u001b[0;34m\u001b[0m\u001b[0;34m\u001b[0m\u001b[0m\n",
            "\u001b[0;31mValueError\u001b[0m: Input 0 of layer \"sequential_4\" is incompatible with the layer: expected shape=(None, 5), found shape=(1, 6)"
          ]
        }
      ]
    },
    {
      "cell_type": "code",
      "source": [
        "# # Generate text\n",
        "# generated_text = generate_text(model, start_string=\"anna\", num_generate=1000)\n",
        "# print(generated_text)"
      ],
      "metadata": {
        "id": "-opsDBoqr8cE"
      },
      "execution_count": null,
      "outputs": []
    },
    {
      "cell_type": "markdown",
      "source": [
        "# **#6. Create a LSTM model for text analysis using Python and TensorFlow. (Input corpus = “Anna, embrace change” “Change is constant”. “She is positive thinker” “Anna takes life as a challenge”)**"
      ],
      "metadata": {
        "id": "w-cjWThwsQMi"
      }
    },
    {
      "cell_type": "code",
      "source": [
        "import numpy as np\n",
        "import tensorflow as tf\n",
        "from tensorflow.keras.preprocessing.text import Tokenizer\n",
        "from tensorflow.keras.preprocessing.sequence import pad_sequences\n",
        "from tensorflow.keras.models import Sequential\n",
        "from tensorflow.keras.layers import Embedding, LSTM, Dense\n",
        "from tensorflow.keras.optimizers import Adam\n",
        "\n",
        "# Sample larger input text corpus\n",
        "corpus = [\n",
        "    \"Anna, embrace change\",\n",
        "    \"Change is constant\",\n",
        "    \"She is positive thinker\",\n",
        "    \"Anna takes life as a challenge\",\n",
        "]\n",
        "\n",
        "# Prepare tokenizer and word index\n",
        "tokenizer = Tokenizer()\n",
        "tokenizer.fit_on_texts(corpus)\n",
        "word_index = tokenizer.word_index\n",
        "total_words = len(word_index) + 1\n",
        "\n",
        "# Prepare input-output pairs\n",
        "sequences = []\n",
        "for line in corpus:\n",
        "    token_list = tokenizer.texts_to_sequences([line])[0]\n",
        "    for i in range(1, len(token_list)):\n",
        "        n_gram_sequence = token_list[:i+1]\n",
        "        sequences.append(n_gram_sequence)\n",
        "\n",
        "# Pad sequences and create predictors and label\n",
        "max_sequence_len = max([len(seq) for seq in sequences])\n",
        "sequences = pad_sequences(sequences, maxlen=max_sequence_len, padding='pre')\n",
        "x_train, y_train = sequences[:,:-1], sequences[:,-1]\n",
        "\n",
        "# One-hot encode the labels\n",
        "y_train = tf.keras.utils.to_categorical(y_train, num_classes=total_words)\n",
        "\n",
        "# Build LSTM model\n",
        "model = Sequential()\n",
        "model.add(Embedding(total_words, 50, input_length=max_sequence_len-1))  # Embedding layer with 50 dimensions\n",
        "model.add(LSTM(100))\n",
        "model.add(Dense(total_words, activation='softmax'))\n",
        "\n",
        "# Compile the model\n",
        "model.compile(loss='categorical_crossentropy', optimizer=Adam(learning_rate=0.01))\n",
        "\n",
        "# Train the model\n",
        "model.fit(x_train, y_train, epochs=500, verbose=1)\n",
        "\n",
        "# Function to generate text with temperature\n",
        "def generate_text(seed_text, next_words, model, tokenizer, max_sequence_len, temperature=1.0):\n",
        "    output_text = seed_text\n",
        "    for _ in range(next_words):\n",
        "        token_list = tokenizer.texts_to_sequences([output_text])[0]\n",
        "        token_list = pad_sequences([token_list], maxlen=max_sequence_len-1, padding='pre')\n",
        "        predicted_probs = model.predict(token_list, verbose=0)[0]\n",
        "        predicted_probs = np.asarray(predicted_probs).astype('float64')\n",
        "        predicted_probs = np.log(predicted_probs) / temperature\n",
        "        exp_preds = np.exp(predicted_probs)\n",
        "        predicted_probs = exp_preds / np.sum(exp_preds)\n",
        "        predicted_word_index = np.random.choice(range(len(predicted_probs)), p=predicted_probs)\n",
        "        output_word = \"\"\n",
        "        for word, index in tokenizer.word_index.items():\n",
        "            if index == predicted_word_index:\n",
        "                output_word = word\n",
        "                break\n",
        "        output_text += \" \" + output_word\n",
        "    return output_text\n",
        "\n",
        "# Function to generate multiple sentences\n",
        "def generate_sentences(seed_text, num_sentences, words_per_sentence, model, tokenizer, max_sequence_len, temperature=1.0):\n",
        "    sentences = []\n",
        "    for _ in range(num_sentences):\n",
        "        sentence = generate_text(seed_text, words_per_sentence, model, tokenizer, max_sequence_len, temperature)\n",
        "        sentences.append(sentence.strip())\n",
        "    return ', '.join(sentences)\n",
        "\n"
      ],
      "metadata": {
        "id": "MOjl9reFsWE4"
      },
      "execution_count": null,
      "outputs": []
    },
    {
      "cell_type": "code",
      "source": [
        "# Generate multiple sentences\n",
        "seed_text = \"She\"\n",
        "num_sentences = 5\n",
        "words_per_sentence = 10\n",
        "temperature = 1.0  # Adjust temperature for more or less randomness\n",
        "generated_text = generate_sentences(seed_text, num_sentences, words_per_sentence, model, tokenizer, max_sequence_len, temperature)\n",
        "print(generated_text)"
      ],
      "metadata": {
        "id": "IAhT2tCeu8Xj",
        "outputId": "019f163c-afd0-4e82-8f49-6571b364ffa2",
        "colab": {
          "base_uri": "https://localhost:8080/"
        }
      },
      "execution_count": 49,
      "outputs": [
        {
          "output_type": "stream",
          "name": "stdout",
          "text": [
            "She is positive thinker thinker thinker she anna challenge a challenge, She is positive thinker thinker thinker positive thinker challenge challenge thinker, She is positive thinker thinker thinker challenge thinker challenge challenge challenge, She is positive thinker thinker thinker anna life challenge challenge challenge, She is positive thinker thinker thinker anna challenge challenge challenge challenge\n"
          ]
        }
      ]
    },
    {
      "cell_type": "code",
      "source": [],
      "metadata": {
        "id": "GGdbFkB1sWmT"
      },
      "execution_count": null,
      "outputs": []
    }
  ],
  "metadata": {
    "colab": {
      "name": "Welcome To Colab",
      "provenance": [],
      "include_colab_link": true
    },
    "kernelspec": {
      "display_name": "Python 3",
      "name": "python3"
    }
  },
  "nbformat": 4,
  "nbformat_minor": 0
}