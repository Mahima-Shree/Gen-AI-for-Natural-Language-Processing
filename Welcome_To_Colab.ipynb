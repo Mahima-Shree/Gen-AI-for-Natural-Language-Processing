{
  "cells": [
    {
      "cell_type": "markdown",
      "metadata": {
        "id": "view-in-github",
        "colab_type": "text"
      },
      "source": [
        "<a href=\"https://colab.research.google.com/github/Mahima-Shree/Gen-AI-for-Natural-Language-Processing/blob/main/Welcome_To_Colab.ipynb\" target=\"_parent\"><img src=\"https://colab.research.google.com/assets/colab-badge.svg\" alt=\"Open In Colab\"/></a>"
      ]
    },
    {
      "cell_type": "code",
      "source": [
        "!pip install nltk\n"
      ],
      "metadata": {
        "id": "MM4xc2hdRhvv",
        "outputId": "dc261589-d9ea-4ca3-dfed-d2548fc01644",
        "colab": {
          "base_uri": "https://localhost:8080/"
        }
      },
      "execution_count": 62,
      "outputs": [
        {
          "output_type": "stream",
          "name": "stdout",
          "text": [
            "Requirement already satisfied: nltk in /usr/local/lib/python3.10/dist-packages (3.8.1)\n",
            "Requirement already satisfied: click in /usr/local/lib/python3.10/dist-packages (from nltk) (8.1.7)\n",
            "Requirement already satisfied: joblib in /usr/local/lib/python3.10/dist-packages (from nltk) (1.4.2)\n",
            "Requirement already satisfied: regex>=2021.8.3 in /usr/local/lib/python3.10/dist-packages (from nltk) (2023.12.25)\n",
            "Requirement already satisfied: tqdm in /usr/local/lib/python3.10/dist-packages (from nltk) (4.66.4)\n"
          ]
        }
      ]
    },
    {
      "cell_type": "code",
      "source": [
        "import nltk\n",
        "nltk.download('all')\n"
      ],
      "metadata": {
        "id": "A7Z24bFARiNN",
        "outputId": "2cdd963b-4591-423f-8fa8-e7a94c2cfbfb",
        "colab": {
          "base_uri": "https://localhost:8080/"
        }
      },
      "execution_count": 63,
      "outputs": [
        {
          "output_type": "stream",
          "name": "stderr",
          "text": [
            "[nltk_data] Downloading collection 'all'\n",
            "[nltk_data]    | \n",
            "[nltk_data]    | Downloading package abc to /root/nltk_data...\n",
            "[nltk_data]    |   Package abc is already up-to-date!\n",
            "[nltk_data]    | Downloading package alpino to /root/nltk_data...\n",
            "[nltk_data]    |   Package alpino is already up-to-date!\n",
            "[nltk_data]    | Downloading package averaged_perceptron_tagger to\n",
            "[nltk_data]    |     /root/nltk_data...\n",
            "[nltk_data]    |   Package averaged_perceptron_tagger is already up-\n",
            "[nltk_data]    |       to-date!\n",
            "[nltk_data]    | Downloading package averaged_perceptron_tagger_ru to\n",
            "[nltk_data]    |     /root/nltk_data...\n",
            "[nltk_data]    |   Package averaged_perceptron_tagger_ru is already\n",
            "[nltk_data]    |       up-to-date!\n",
            "[nltk_data]    | Downloading package basque_grammars to\n",
            "[nltk_data]    |     /root/nltk_data...\n",
            "[nltk_data]    |   Package basque_grammars is already up-to-date!\n",
            "[nltk_data]    | Downloading package bcp47 to /root/nltk_data...\n",
            "[nltk_data]    |   Package bcp47 is already up-to-date!\n",
            "[nltk_data]    | Downloading package biocreative_ppi to\n",
            "[nltk_data]    |     /root/nltk_data...\n",
            "[nltk_data]    |   Package biocreative_ppi is already up-to-date!\n",
            "[nltk_data]    | Downloading package bllip_wsj_no_aux to\n",
            "[nltk_data]    |     /root/nltk_data...\n",
            "[nltk_data]    |   Package bllip_wsj_no_aux is already up-to-date!\n",
            "[nltk_data]    | Downloading package book_grammars to\n",
            "[nltk_data]    |     /root/nltk_data...\n",
            "[nltk_data]    |   Package book_grammars is already up-to-date!\n",
            "[nltk_data]    | Downloading package brown to /root/nltk_data...\n",
            "[nltk_data]    |   Package brown is already up-to-date!\n",
            "[nltk_data]    | Downloading package brown_tei to /root/nltk_data...\n",
            "[nltk_data]    |   Package brown_tei is already up-to-date!\n",
            "[nltk_data]    | Downloading package cess_cat to /root/nltk_data...\n",
            "[nltk_data]    |   Package cess_cat is already up-to-date!\n",
            "[nltk_data]    | Downloading package cess_esp to /root/nltk_data...\n",
            "[nltk_data]    |   Package cess_esp is already up-to-date!\n",
            "[nltk_data]    | Downloading package chat80 to /root/nltk_data...\n",
            "[nltk_data]    |   Package chat80 is already up-to-date!\n",
            "[nltk_data]    | Downloading package city_database to\n",
            "[nltk_data]    |     /root/nltk_data...\n",
            "[nltk_data]    |   Package city_database is already up-to-date!\n",
            "[nltk_data]    | Downloading package cmudict to /root/nltk_data...\n",
            "[nltk_data]    |   Package cmudict is already up-to-date!\n",
            "[nltk_data]    | Downloading package comparative_sentences to\n",
            "[nltk_data]    |     /root/nltk_data...\n",
            "[nltk_data]    |   Package comparative_sentences is already up-to-\n",
            "[nltk_data]    |       date!\n",
            "[nltk_data]    | Downloading package comtrans to /root/nltk_data...\n",
            "[nltk_data]    |   Package comtrans is already up-to-date!\n",
            "[nltk_data]    | Downloading package conll2000 to /root/nltk_data...\n",
            "[nltk_data]    |   Package conll2000 is already up-to-date!\n",
            "[nltk_data]    | Downloading package conll2002 to /root/nltk_data...\n",
            "[nltk_data]    |   Package conll2002 is already up-to-date!\n",
            "[nltk_data]    | Downloading package conll2007 to /root/nltk_data...\n",
            "[nltk_data]    |   Package conll2007 is already up-to-date!\n",
            "[nltk_data]    | Downloading package crubadan to /root/nltk_data...\n",
            "[nltk_data]    |   Package crubadan is already up-to-date!\n",
            "[nltk_data]    | Downloading package dependency_treebank to\n",
            "[nltk_data]    |     /root/nltk_data...\n",
            "[nltk_data]    |   Package dependency_treebank is already up-to-date!\n",
            "[nltk_data]    | Downloading package dolch to /root/nltk_data...\n",
            "[nltk_data]    |   Package dolch is already up-to-date!\n",
            "[nltk_data]    | Downloading package europarl_raw to\n",
            "[nltk_data]    |     /root/nltk_data...\n",
            "[nltk_data]    |   Package europarl_raw is already up-to-date!\n",
            "[nltk_data]    | Downloading package extended_omw to\n",
            "[nltk_data]    |     /root/nltk_data...\n",
            "[nltk_data]    |   Package extended_omw is already up-to-date!\n",
            "[nltk_data]    | Downloading package floresta to /root/nltk_data...\n",
            "[nltk_data]    |   Package floresta is already up-to-date!\n",
            "[nltk_data]    | Downloading package framenet_v15 to\n",
            "[nltk_data]    |     /root/nltk_data...\n",
            "[nltk_data]    |   Package framenet_v15 is already up-to-date!\n",
            "[nltk_data]    | Downloading package framenet_v17 to\n",
            "[nltk_data]    |     /root/nltk_data...\n",
            "[nltk_data]    |   Package framenet_v17 is already up-to-date!\n",
            "[nltk_data]    | Downloading package gazetteers to /root/nltk_data...\n",
            "[nltk_data]    |   Package gazetteers is already up-to-date!\n",
            "[nltk_data]    | Downloading package genesis to /root/nltk_data...\n",
            "[nltk_data]    |   Package genesis is already up-to-date!\n",
            "[nltk_data]    | Downloading package gutenberg to /root/nltk_data...\n",
            "[nltk_data]    |   Package gutenberg is already up-to-date!\n",
            "[nltk_data]    | Downloading package ieer to /root/nltk_data...\n",
            "[nltk_data]    |   Package ieer is already up-to-date!\n",
            "[nltk_data]    | Downloading package inaugural to /root/nltk_data...\n",
            "[nltk_data]    |   Package inaugural is already up-to-date!\n",
            "[nltk_data]    | Downloading package indian to /root/nltk_data...\n",
            "[nltk_data]    |   Package indian is already up-to-date!\n",
            "[nltk_data]    | Downloading package jeita to /root/nltk_data...\n",
            "[nltk_data]    |   Package jeita is already up-to-date!\n",
            "[nltk_data]    | Downloading package kimmo to /root/nltk_data...\n",
            "[nltk_data]    |   Package kimmo is already up-to-date!\n",
            "[nltk_data]    | Downloading package knbc to /root/nltk_data...\n",
            "[nltk_data]    |   Package knbc is already up-to-date!\n",
            "[nltk_data]    | Downloading package large_grammars to\n",
            "[nltk_data]    |     /root/nltk_data...\n",
            "[nltk_data]    |   Package large_grammars is already up-to-date!\n",
            "[nltk_data]    | Downloading package lin_thesaurus to\n",
            "[nltk_data]    |     /root/nltk_data...\n",
            "[nltk_data]    |   Package lin_thesaurus is already up-to-date!\n",
            "[nltk_data]    | Downloading package mac_morpho to /root/nltk_data...\n",
            "[nltk_data]    |   Package mac_morpho is already up-to-date!\n",
            "[nltk_data]    | Downloading package machado to /root/nltk_data...\n",
            "[nltk_data]    |   Package machado is already up-to-date!\n",
            "[nltk_data]    | Downloading package masc_tagged to /root/nltk_data...\n",
            "[nltk_data]    |   Package masc_tagged is already up-to-date!\n",
            "[nltk_data]    | Downloading package maxent_ne_chunker to\n",
            "[nltk_data]    |     /root/nltk_data...\n",
            "[nltk_data]    |   Package maxent_ne_chunker is already up-to-date!\n",
            "[nltk_data]    | Downloading package maxent_treebank_pos_tagger to\n",
            "[nltk_data]    |     /root/nltk_data...\n",
            "[nltk_data]    |   Package maxent_treebank_pos_tagger is already up-\n",
            "[nltk_data]    |       to-date!\n",
            "[nltk_data]    | Downloading package moses_sample to\n",
            "[nltk_data]    |     /root/nltk_data...\n",
            "[nltk_data]    |   Package moses_sample is already up-to-date!\n",
            "[nltk_data]    | Downloading package movie_reviews to\n",
            "[nltk_data]    |     /root/nltk_data...\n",
            "[nltk_data]    |   Package movie_reviews is already up-to-date!\n",
            "[nltk_data]    | Downloading package mte_teip5 to /root/nltk_data...\n",
            "[nltk_data]    |   Package mte_teip5 is already up-to-date!\n",
            "[nltk_data]    | Downloading package mwa_ppdb to /root/nltk_data...\n",
            "[nltk_data]    |   Package mwa_ppdb is already up-to-date!\n",
            "[nltk_data]    | Downloading package names to /root/nltk_data...\n",
            "[nltk_data]    |   Package names is already up-to-date!\n",
            "[nltk_data]    | Downloading package nombank.1.0 to /root/nltk_data...\n",
            "[nltk_data]    |   Package nombank.1.0 is already up-to-date!\n",
            "[nltk_data]    | Downloading package nonbreaking_prefixes to\n",
            "[nltk_data]    |     /root/nltk_data...\n",
            "[nltk_data]    |   Package nonbreaking_prefixes is already up-to-date!\n",
            "[nltk_data]    | Downloading package nps_chat to /root/nltk_data...\n",
            "[nltk_data]    |   Package nps_chat is already up-to-date!\n",
            "[nltk_data]    | Downloading package omw to /root/nltk_data...\n",
            "[nltk_data]    |   Package omw is already up-to-date!\n",
            "[nltk_data]    | Downloading package omw-1.4 to /root/nltk_data...\n",
            "[nltk_data]    |   Package omw-1.4 is already up-to-date!\n",
            "[nltk_data]    | Downloading package opinion_lexicon to\n",
            "[nltk_data]    |     /root/nltk_data...\n",
            "[nltk_data]    |   Package opinion_lexicon is already up-to-date!\n",
            "[nltk_data]    | Downloading package panlex_swadesh to\n",
            "[nltk_data]    |     /root/nltk_data...\n",
            "[nltk_data]    |   Package panlex_swadesh is already up-to-date!\n",
            "[nltk_data]    | Downloading package paradigms to /root/nltk_data...\n",
            "[nltk_data]    |   Package paradigms is already up-to-date!\n",
            "[nltk_data]    | Downloading package pe08 to /root/nltk_data...\n",
            "[nltk_data]    |   Package pe08 is already up-to-date!\n",
            "[nltk_data]    | Downloading package perluniprops to\n",
            "[nltk_data]    |     /root/nltk_data...\n",
            "[nltk_data]    |   Package perluniprops is already up-to-date!\n",
            "[nltk_data]    | Downloading package pil to /root/nltk_data...\n",
            "[nltk_data]    |   Package pil is already up-to-date!\n",
            "[nltk_data]    | Downloading package pl196x to /root/nltk_data...\n",
            "[nltk_data]    |   Package pl196x is already up-to-date!\n",
            "[nltk_data]    | Downloading package porter_test to /root/nltk_data...\n",
            "[nltk_data]    |   Package porter_test is already up-to-date!\n",
            "[nltk_data]    | Downloading package ppattach to /root/nltk_data...\n",
            "[nltk_data]    |   Package ppattach is already up-to-date!\n",
            "[nltk_data]    | Downloading package problem_reports to\n",
            "[nltk_data]    |     /root/nltk_data...\n",
            "[nltk_data]    |   Package problem_reports is already up-to-date!\n",
            "[nltk_data]    | Downloading package product_reviews_1 to\n",
            "[nltk_data]    |     /root/nltk_data...\n",
            "[nltk_data]    |   Package product_reviews_1 is already up-to-date!\n",
            "[nltk_data]    | Downloading package product_reviews_2 to\n",
            "[nltk_data]    |     /root/nltk_data...\n",
            "[nltk_data]    |   Package product_reviews_2 is already up-to-date!\n",
            "[nltk_data]    | Downloading package propbank to /root/nltk_data...\n",
            "[nltk_data]    |   Package propbank is already up-to-date!\n",
            "[nltk_data]    | Downloading package pros_cons to /root/nltk_data...\n",
            "[nltk_data]    |   Package pros_cons is already up-to-date!\n",
            "[nltk_data]    | Downloading package ptb to /root/nltk_data...\n",
            "[nltk_data]    |   Package ptb is already up-to-date!\n",
            "[nltk_data]    | Downloading package punkt to /root/nltk_data...\n",
            "[nltk_data]    |   Package punkt is already up-to-date!\n",
            "[nltk_data]    | Downloading package qc to /root/nltk_data...\n",
            "[nltk_data]    |   Package qc is already up-to-date!\n",
            "[nltk_data]    | Downloading package reuters to /root/nltk_data...\n",
            "[nltk_data]    |   Package reuters is already up-to-date!\n",
            "[nltk_data]    | Downloading package rslp to /root/nltk_data...\n",
            "[nltk_data]    |   Package rslp is already up-to-date!\n",
            "[nltk_data]    | Downloading package rte to /root/nltk_data...\n",
            "[nltk_data]    |   Package rte is already up-to-date!\n",
            "[nltk_data]    | Downloading package sample_grammars to\n",
            "[nltk_data]    |     /root/nltk_data...\n",
            "[nltk_data]    |   Package sample_grammars is already up-to-date!\n",
            "[nltk_data]    | Downloading package semcor to /root/nltk_data...\n",
            "[nltk_data]    |   Package semcor is already up-to-date!\n",
            "[nltk_data]    | Downloading package senseval to /root/nltk_data...\n",
            "[nltk_data]    |   Package senseval is already up-to-date!\n",
            "[nltk_data]    | Downloading package sentence_polarity to\n",
            "[nltk_data]    |     /root/nltk_data...\n",
            "[nltk_data]    |   Package sentence_polarity is already up-to-date!\n",
            "[nltk_data]    | Downloading package sentiwordnet to\n",
            "[nltk_data]    |     /root/nltk_data...\n",
            "[nltk_data]    |   Package sentiwordnet is already up-to-date!\n",
            "[nltk_data]    | Downloading package shakespeare to /root/nltk_data...\n",
            "[nltk_data]    |   Package shakespeare is already up-to-date!\n",
            "[nltk_data]    | Downloading package sinica_treebank to\n",
            "[nltk_data]    |     /root/nltk_data...\n",
            "[nltk_data]    |   Package sinica_treebank is already up-to-date!\n",
            "[nltk_data]    | Downloading package smultron to /root/nltk_data...\n",
            "[nltk_data]    |   Package smultron is already up-to-date!\n",
            "[nltk_data]    | Downloading package snowball_data to\n",
            "[nltk_data]    |     /root/nltk_data...\n",
            "[nltk_data]    |   Package snowball_data is already up-to-date!\n",
            "[nltk_data]    | Downloading package spanish_grammars to\n",
            "[nltk_data]    |     /root/nltk_data...\n",
            "[nltk_data]    |   Package spanish_grammars is already up-to-date!\n",
            "[nltk_data]    | Downloading package state_union to /root/nltk_data...\n",
            "[nltk_data]    |   Package state_union is already up-to-date!\n",
            "[nltk_data]    | Downloading package stopwords to /root/nltk_data...\n",
            "[nltk_data]    |   Package stopwords is already up-to-date!\n",
            "[nltk_data]    | Downloading package subjectivity to\n",
            "[nltk_data]    |     /root/nltk_data...\n",
            "[nltk_data]    |   Package subjectivity is already up-to-date!\n",
            "[nltk_data]    | Downloading package swadesh to /root/nltk_data...\n",
            "[nltk_data]    |   Package swadesh is already up-to-date!\n",
            "[nltk_data]    | Downloading package switchboard to /root/nltk_data...\n",
            "[nltk_data]    |   Package switchboard is already up-to-date!\n",
            "[nltk_data]    | Downloading package tagsets to /root/nltk_data...\n",
            "[nltk_data]    |   Package tagsets is already up-to-date!\n",
            "[nltk_data]    | Downloading package timit to /root/nltk_data...\n",
            "[nltk_data]    |   Package timit is already up-to-date!\n",
            "[nltk_data]    | Downloading package toolbox to /root/nltk_data...\n",
            "[nltk_data]    |   Package toolbox is already up-to-date!\n",
            "[nltk_data]    | Downloading package treebank to /root/nltk_data...\n",
            "[nltk_data]    |   Package treebank is already up-to-date!\n",
            "[nltk_data]    | Downloading package twitter_samples to\n",
            "[nltk_data]    |     /root/nltk_data...\n",
            "[nltk_data]    |   Package twitter_samples is already up-to-date!\n",
            "[nltk_data]    | Downloading package udhr to /root/nltk_data...\n",
            "[nltk_data]    |   Package udhr is already up-to-date!\n",
            "[nltk_data]    | Downloading package udhr2 to /root/nltk_data...\n",
            "[nltk_data]    |   Package udhr2 is already up-to-date!\n",
            "[nltk_data]    | Downloading package unicode_samples to\n",
            "[nltk_data]    |     /root/nltk_data...\n",
            "[nltk_data]    |   Package unicode_samples is already up-to-date!\n",
            "[nltk_data]    | Downloading package universal_tagset to\n",
            "[nltk_data]    |     /root/nltk_data...\n",
            "[nltk_data]    |   Package universal_tagset is already up-to-date!\n",
            "[nltk_data]    | Downloading package universal_treebanks_v20 to\n",
            "[nltk_data]    |     /root/nltk_data...\n",
            "[nltk_data]    |   Package universal_treebanks_v20 is already up-to-\n",
            "[nltk_data]    |       date!\n",
            "[nltk_data]    | Downloading package vader_lexicon to\n",
            "[nltk_data]    |     /root/nltk_data...\n",
            "[nltk_data]    |   Package vader_lexicon is already up-to-date!\n",
            "[nltk_data]    | Downloading package verbnet to /root/nltk_data...\n",
            "[nltk_data]    |   Package verbnet is already up-to-date!\n",
            "[nltk_data]    | Downloading package verbnet3 to /root/nltk_data...\n",
            "[nltk_data]    |   Package verbnet3 is already up-to-date!\n",
            "[nltk_data]    | Downloading package webtext to /root/nltk_data...\n",
            "[nltk_data]    |   Package webtext is already up-to-date!\n",
            "[nltk_data]    | Downloading package wmt15_eval to /root/nltk_data...\n",
            "[nltk_data]    |   Package wmt15_eval is already up-to-date!\n",
            "[nltk_data]    | Downloading package word2vec_sample to\n",
            "[nltk_data]    |     /root/nltk_data...\n",
            "[nltk_data]    |   Package word2vec_sample is already up-to-date!\n",
            "[nltk_data]    | Downloading package wordnet to /root/nltk_data...\n",
            "[nltk_data]    |   Package wordnet is already up-to-date!\n",
            "[nltk_data]    | Downloading package wordnet2021 to /root/nltk_data...\n",
            "[nltk_data]    |   Package wordnet2021 is already up-to-date!\n",
            "[nltk_data]    | Downloading package wordnet2022 to /root/nltk_data...\n",
            "[nltk_data]    |   Package wordnet2022 is already up-to-date!\n",
            "[nltk_data]    | Downloading package wordnet31 to /root/nltk_data...\n",
            "[nltk_data]    |   Package wordnet31 is already up-to-date!\n",
            "[nltk_data]    | Downloading package wordnet_ic to /root/nltk_data...\n",
            "[nltk_data]    |   Package wordnet_ic is already up-to-date!\n",
            "[nltk_data]    | Downloading package words to /root/nltk_data...\n",
            "[nltk_data]    |   Package words is already up-to-date!\n",
            "[nltk_data]    | Downloading package ycoe to /root/nltk_data...\n",
            "[nltk_data]    |   Package ycoe is already up-to-date!\n",
            "[nltk_data]    | \n",
            "[nltk_data]  Done downloading collection all\n"
          ]
        },
        {
          "output_type": "execute_result",
          "data": {
            "text/plain": [
              "True"
            ]
          },
          "metadata": {},
          "execution_count": 63
        }
      ]
    },
    {
      "cell_type": "code",
      "source": [
        "import nltk\n",
        "from nltk.tokenize import sent_tokenize, word_tokenize\n",
        "\n",
        "E_TEXT = \"Hello-Hello , - i am Mahima Shree\"\n",
        "\n",
        "a= word_tokenize(E_TEXT)\n",
        "# type(a)\n",
        "a"
      ],
      "metadata": {
        "colab": {
          "base_uri": "https://localhost:8080/"
        },
        "id": "R7QstBl5woVL",
        "outputId": "ab885248-ce0a-4cc9-cfda-bd09fba7d884"
      },
      "execution_count": 64,
      "outputs": [
        {
          "output_type": "execute_result",
          "data": {
            "text/plain": [
              "['Hello-Hello', ',', '-', 'i', 'am', 'Mahima', 'Shree']"
            ]
          },
          "metadata": {},
          "execution_count": 64
        }
      ]
    },
    {
      "cell_type": "code",
      "source": [
        "from nltk.tokenize import sent_tokenize, word_tokenize\n",
        "\n",
        "S2_TEXT = \"Positive thinking is all. A matter of habits If you are; not quite a positive thinker Change Yourself?\"\n",
        "\n",
        "print(sent_tokenize(S2_TEXT))\n",
        "\n",
        "## type(sent_tokenize(E_TEXT)) ##that !endspace ,?,."
      ],
      "metadata": {
        "colab": {
          "base_uri": "https://localhost:8080/"
        },
        "id": "hc8IcUXnxIEj",
        "outputId": "e194858d-c68b-4d62-b5a0-edfdac8e9df4"
      },
      "execution_count": 65,
      "outputs": [
        {
          "output_type": "stream",
          "name": "stdout",
          "text": [
            "['Positive thinking is all.', 'A matter of habits If you are; not quite a positive thinker Change Yourself?']\n"
          ]
        }
      ]
    },
    {
      "cell_type": "code",
      "source": [
        "##  store the words and sentences and type cast it:\n",
        "\n",
        "#from nltk.tokenize import sent_tokenize, word_tokenize\n",
        "import numpy as np\n",
        "\n",
        "data = \"All work and no play makes jack dull boy. All work and no play makes jack a dull boy.\"\n",
        "\n",
        "phrases = sent_tokenize(data)\n",
        "words = word_tokenize(data)\n",
        "\n",
        "\n",
        "new_array=np.array(words)\n",
        "new_array"
      ],
      "metadata": {
        "colab": {
          "base_uri": "https://localhost:8080/"
        },
        "id": "pRIxvTQQzhZQ",
        "outputId": "9e7b3627-0561-4371-eb6d-ec9fb9b53c6a"
      },
      "execution_count": 66,
      "outputs": [
        {
          "output_type": "execute_result",
          "data": {
            "text/plain": [
              "array(['All', 'work', 'and', 'no', 'play', 'makes', 'jack', 'dull', 'boy',\n",
              "       '.', 'All', 'work', 'and', 'no', 'play', 'makes', 'jack', 'a',\n",
              "       'dull', 'boy', '.'], dtype='<U5')"
            ]
          },
          "metadata": {},
          "execution_count": 66
        }
      ]
    },
    {
      "cell_type": "code",
      "source": [
        "from nltk.corpus import stopwords\n",
        "from nltk.tokenize import word_tokenize\n",
        "\n",
        "a = \"I think i that Learning  DATA Science will bring a big leap in your Carrier Profile. Data science is an interdisciplinary field that uses scientific methods, processes, algorithms and systems to extract knowledge and insights from noisy, structured and unstructured data, and apply knowledge from data across a broad range of application domains\"\n",
        "word_tokens = word_tokenize(a)\n",
        "word_tokens"
      ],
      "metadata": {
        "colab": {
          "base_uri": "https://localhost:8080/"
        },
        "id": "tUI3ZbKXzhoH",
        "outputId": "148cd69e-727d-4f0b-9d22-4aa6ec9f94da"
      },
      "execution_count": 67,
      "outputs": [
        {
          "output_type": "execute_result",
          "data": {
            "text/plain": [
              "['I',\n",
              " 'think',\n",
              " 'i',\n",
              " 'that',\n",
              " 'Learning',\n",
              " 'DATA',\n",
              " 'Science',\n",
              " 'will',\n",
              " 'bring',\n",
              " 'a',\n",
              " 'big',\n",
              " 'leap',\n",
              " 'in',\n",
              " 'your',\n",
              " 'Carrier',\n",
              " 'Profile',\n",
              " '.',\n",
              " 'Data',\n",
              " 'science',\n",
              " 'is',\n",
              " 'an',\n",
              " 'interdisciplinary',\n",
              " 'field',\n",
              " 'that',\n",
              " 'uses',\n",
              " 'scientific',\n",
              " 'methods',\n",
              " ',',\n",
              " 'processes',\n",
              " ',',\n",
              " 'algorithms',\n",
              " 'and',\n",
              " 'systems',\n",
              " 'to',\n",
              " 'extract',\n",
              " 'knowledge',\n",
              " 'and',\n",
              " 'insights',\n",
              " 'from',\n",
              " 'noisy',\n",
              " ',',\n",
              " 'structured',\n",
              " 'and',\n",
              " 'unstructured',\n",
              " 'data',\n",
              " ',',\n",
              " 'and',\n",
              " 'apply',\n",
              " 'knowledge',\n",
              " 'from',\n",
              " 'data',\n",
              " 'across',\n",
              " 'a',\n",
              " 'broad',\n",
              " 'range',\n",
              " 'of',\n",
              " 'application',\n",
              " 'domains']"
            ]
          },
          "metadata": {},
          "execution_count": 67
        }
      ]
    },
    {
      "cell_type": "code",
      "source": [
        "stop_words1 = set(stopwords.words('english')) #downloads the file with english stop words\n",
        "word_tokens = word_tokenize(a)\n",
        "\n",
        "filtered_sentence = [w for w in word_tokens if not w in stop_words1]\n",
        "print(filtered_sentence)\n",
        "#print(word_tokens)\n",
        "#print(filtered_sentence)\n",
        "print(\"The number of words stopped :\",(len(word_tokens)-len(filtered_sentence)))"
      ],
      "metadata": {
        "colab": {
          "base_uri": "https://localhost:8080/"
        },
        "id": "eVNV717f0JHx",
        "outputId": "7e7cf9ca-114f-400a-fdcf-4d20190a7fba"
      },
      "execution_count": 71,
      "outputs": [
        {
          "output_type": "stream",
          "name": "stdout",
          "text": [
            "['I', 'think', 'Learning', 'DATA', 'Science', 'bring', 'big', 'leap', 'Carrier', 'Profile', '.', 'Data', 'science', 'interdisciplinary', 'field', 'uses', 'scientific', 'methods', ',', 'processes', ',', 'algorithms', 'systems', 'extract', 'knowledge', 'insights', 'noisy', ',', 'structured', 'unstructured', 'data', ',', 'apply', 'knowledge', 'data', 'across', 'broad', 'range', 'application', 'domains']\n",
            "The number of words stopped : 18\n"
          ]
        }
      ]
    },
    {
      "cell_type": "code",
      "source": [
        "b=[\"I\",\".\",\",\"]  #Creating your own Stop word list\n",
        "stop_words1=list(stop_words1)\n",
        "stop_words2 = b #downloads the file with english stop words\n",
        "stop_words=stop_words1+stop_words2\n",
        "word_tokens = word_tokenize(a)\n",
        "\n",
        "filtered_sentence = [w for w in word_tokens if not w in stop_words]\n",
        "print(filtered_sentence)\n",
        "\n",
        "#print(word_tokens)\n",
        "#print(filtered_sentence)\n",
        "print(\"The number of words stopped :\",(len(word_tokens)-len(filtered_sentence)))"
      ],
      "metadata": {
        "colab": {
          "base_uri": "https://localhost:8080/"
        },
        "id": "ZZdE6SLJ0JT_",
        "outputId": "bd7ededa-ffb0-4dbd-b32b-44f249c53142"
      },
      "execution_count": 72,
      "outputs": [
        {
          "output_type": "stream",
          "name": "stdout",
          "text": [
            "['think', 'Learning', 'DATA', 'Science', 'bring', 'big', 'leap', 'Carrier', 'Profile', 'Data', 'science', 'interdisciplinary', 'field', 'uses', 'scientific', 'methods', 'processes', 'algorithms', 'systems', 'extract', 'knowledge', 'insights', 'noisy', 'structured', 'unstructured', 'data', 'apply', 'knowledge', 'data', 'across', 'broad', 'range', 'application', 'domains']\n",
            "The number of words stopped : 24\n"
          ]
        }
      ]
    },
    {
      "cell_type": "markdown",
      "source": [
        "# **LAB Questions1**"
      ],
      "metadata": {
        "id": "Z_LDCvNylNxP"
      }
    },
    {
      "cell_type": "code",
      "source": [
        "data1 = '20 years ago, we all found in different ways in different places but all at the same moment.'\n",
        "data2 = 'That our lives would be changed forever. The world was loud with carnage and sirens and then quiet with missing voices that would never be heard again.'\n",
        "data3 = 'These lives remain precious to our country and infinitely precious to many of you. Today, we remember your loss, we share your sorrow, and we honor the men and women you have loved so long and so well. For those too young to recall that clear September day, it is hard to describe the mix of feelings we experienced.'\n",
        "data4 = 'There was horror at the scale of destruction. and awe at the bravery and kindness that rose to meet it. There was, shock! at the audacity of evil and gratitude, for the heroism and decency that opposed it? In the sacrifice!'"
      ],
      "metadata": {
        "id": "8na_p8vQ0Zgm"
      },
      "execution_count": 73,
      "outputs": []
    },
    {
      "cell_type": "code",
      "source": [
        "import nltk\n",
        "from nltk.tokenize import sent_tokenize, word_tokenize"
      ],
      "metadata": {
        "id": "XydkwtZl2ehd"
      },
      "execution_count": 74,
      "outputs": []
    },
    {
      "cell_type": "code",
      "source": [
        "word_tokens1 = word_tokenize(data1)\n",
        "word_tokens2 = word_tokenize(data2)\n",
        "word_tokens3 = word_tokenize(data3)\n",
        "word_tokens4 = word_tokenize(data4)\n"
      ],
      "metadata": {
        "id": "muNwWseA3C7O"
      },
      "execution_count": 75,
      "outputs": []
    },
    {
      "cell_type": "code",
      "source": [
        "print(word_tokens1)\n",
        "print(word_tokens2)\n",
        "print(word_tokens3)\n",
        "print(word_tokens4)"
      ],
      "metadata": {
        "colab": {
          "base_uri": "https://localhost:8080/"
        },
        "id": "4nY3y4aw3C-s",
        "outputId": "76cd2740-30d1-494b-b0c3-d88570876ed3"
      },
      "execution_count": 76,
      "outputs": [
        {
          "output_type": "stream",
          "name": "stdout",
          "text": [
            "['20', 'years', 'ago', ',', 'we', 'all', 'found', 'in', 'different', 'ways', 'in', 'different', 'places', 'but', 'all', 'at', 'the', 'same', 'moment', '.']\n",
            "['That', 'our', 'lives', 'would', 'be', 'changed', 'forever', '.', 'The', 'world', 'was', 'loud', 'with', 'carnage', 'and', 'sirens', 'and', 'then', 'quiet', 'with', 'missing', 'voices', 'that', 'would', 'never', 'be', 'heard', 'again', '.']\n",
            "['These', 'lives', 'remain', 'precious', 'to', 'our', 'country', 'and', 'infinitely', 'precious', 'to', 'many', 'of', 'you', '.', 'Today', ',', 'we', 'remember', 'your', 'loss', ',', 'we', 'share', 'your', 'sorrow', ',', 'and', 'we', 'honor', 'the', 'men', 'and', 'women', 'you', 'have', 'loved', 'so', 'long', 'and', 'so', 'well', '.', 'For', 'those', 'too', 'young', 'to', 'recall', 'that', 'clear', 'September', 'day', ',', 'it', 'is', 'hard', 'to', 'describe', 'the', 'mix', 'of', 'feelings', 'we', 'experienced', '.']\n",
            "['There', 'was', 'horror', 'at', 'the', 'scale', 'of', 'destruction', '.', 'and', 'awe', 'at', 'the', 'bravery', 'and', 'kindness', 'that', 'rose', 'to', 'meet', 'it', '.', 'There', 'was', ',', 'shock', '!', 'at', 'the', 'audacity', 'of', 'evil', 'and', 'gratitude', ',', 'for', 'the', 'heroism', 'and', 'decency', 'that', 'opposed', 'it', '?', 'In', 'the', 'sacrifice', '!']\n"
          ]
        }
      ]
    },
    {
      "cell_type": "code",
      "source": [
        "sent_tokens1 = sent_tokenize(data1)\n",
        "sent_tokens2 = sent_tokenize(data2)\n",
        "sent_tokens3 = sent_tokenize(data3)\n",
        "sent_tokens4 = sent_tokenize(data4)"
      ],
      "metadata": {
        "id": "-lNy6oTM9Ahq"
      },
      "execution_count": 77,
      "outputs": []
    },
    {
      "cell_type": "code",
      "source": [
        "print(sent_tokens1)\n",
        "print(sent_tokens2)\n",
        "print(sent_tokens3)\n",
        "print(sent_tokens4)"
      ],
      "metadata": {
        "colab": {
          "base_uri": "https://localhost:8080/"
        },
        "id": "3RIVf9e_9Axg",
        "outputId": "a51e061a-4f89-49c5-940c-2b301135c058"
      },
      "execution_count": 78,
      "outputs": [
        {
          "output_type": "stream",
          "name": "stdout",
          "text": [
            "['20 years ago, we all found in different ways in different places but all at the same moment.']\n",
            "['That our lives would be changed forever.', 'The world was loud with carnage and sirens and then quiet with missing voices that would never be heard again.']\n",
            "['These lives remain precious to our country and infinitely precious to many of you.', 'Today, we remember your loss, we share your sorrow, and we honor the men and women you have loved so long and so well.', 'For those too young to recall that clear September day, it is hard to describe the mix of feelings we experienced.']\n",
            "['There was horror at the scale of destruction.', 'and awe at the bravery and kindness that rose to meet it.', 'There was, shock!', 'at the audacity of evil and gratitude, for the heroism and decency that opposed it?', 'In the sacrifice!']\n"
          ]
        }
      ]
    },
    {
      "cell_type": "code",
      "source": [
        "from nltk.corpus import stopwords"
      ],
      "metadata": {
        "id": "4HZUB1sk2GcX"
      },
      "execution_count": 79,
      "outputs": []
    },
    {
      "cell_type": "code",
      "source": [
        "stop_words1 = set(stopwords.words('english'))\n",
        "\n",
        "filtered_sentence1 = [w for w in word_tokens1 if not w in stop_words1]\n",
        "print(word_tokens1)\n",
        "print(filtered_sentence1)\n",
        "print(\"The number of words stopped :\",(len(word_tokens1)-len(filtered_sentence1)))"
      ],
      "metadata": {
        "colab": {
          "base_uri": "https://localhost:8080/"
        },
        "id": "wMu3lNgR9v1W",
        "outputId": "c2f5a1c0-800c-45c3-e466-78fae4efe851"
      },
      "execution_count": 80,
      "outputs": [
        {
          "output_type": "stream",
          "name": "stdout",
          "text": [
            "['20', 'years', 'ago', ',', 'we', 'all', 'found', 'in', 'different', 'ways', 'in', 'different', 'places', 'but', 'all', 'at', 'the', 'same', 'moment', '.']\n",
            "['20', 'years', 'ago', ',', 'found', 'different', 'ways', 'different', 'places', 'moment', '.']\n",
            "The number of words stopped : 9\n"
          ]
        }
      ]
    },
    {
      "cell_type": "code",
      "source": [
        "stop_words2 = set(stopwords.words('english'))\n",
        "\n",
        "filtered_sentence2 = [w for w in word_tokens2 if not w in stop_words2]\n",
        "print(word_tokens2)\n",
        "print(filtered_sentence2)\n",
        "print(\"The number of words stopped :\",(len(word_tokens2)-len(filtered_sentence2)))"
      ],
      "metadata": {
        "colab": {
          "base_uri": "https://localhost:8080/"
        },
        "id": "wUv5kjhz_Llu",
        "outputId": "da90c22d-f20d-40fb-b99d-ad87a975dc64"
      },
      "execution_count": 81,
      "outputs": [
        {
          "output_type": "stream",
          "name": "stdout",
          "text": [
            "['That', 'our', 'lives', 'would', 'be', 'changed', 'forever', '.', 'The', 'world', 'was', 'loud', 'with', 'carnage', 'and', 'sirens', 'and', 'then', 'quiet', 'with', 'missing', 'voices', 'that', 'would', 'never', 'be', 'heard', 'again', '.']\n",
            "['That', 'lives', 'would', 'changed', 'forever', '.', 'The', 'world', 'loud', 'carnage', 'sirens', 'quiet', 'missing', 'voices', 'would', 'never', 'heard', '.']\n",
            "The number of words stopped : 11\n"
          ]
        }
      ]
    },
    {
      "cell_type": "code",
      "source": [
        "stop_words3 = set(stopwords.words('english'))\n",
        "\n",
        "filtered_sentence3 = [w for w in word_tokens3 if not w in stop_words3]\n",
        "print(word_tokens3)\n",
        "print(filtered_sentence3)\n",
        "print(\"The number of words stopped :\",(len(word_tokens3)-len(filtered_sentence3)))"
      ],
      "metadata": {
        "colab": {
          "base_uri": "https://localhost:8080/"
        },
        "id": "k38mE0-4_LpE",
        "outputId": "3cd22ac2-3111-4e25-f29c-11bfd30bdffa"
      },
      "execution_count": 82,
      "outputs": [
        {
          "output_type": "stream",
          "name": "stdout",
          "text": [
            "['These', 'lives', 'remain', 'precious', 'to', 'our', 'country', 'and', 'infinitely', 'precious', 'to', 'many', 'of', 'you', '.', 'Today', ',', 'we', 'remember', 'your', 'loss', ',', 'we', 'share', 'your', 'sorrow', ',', 'and', 'we', 'honor', 'the', 'men', 'and', 'women', 'you', 'have', 'loved', 'so', 'long', 'and', 'so', 'well', '.', 'For', 'those', 'too', 'young', 'to', 'recall', 'that', 'clear', 'September', 'day', ',', 'it', 'is', 'hard', 'to', 'describe', 'the', 'mix', 'of', 'feelings', 'we', 'experienced', '.']\n",
            "['These', 'lives', 'remain', 'precious', 'country', 'infinitely', 'precious', 'many', '.', 'Today', ',', 'remember', 'loss', ',', 'share', 'sorrow', ',', 'honor', 'men', 'women', 'loved', 'long', 'well', '.', 'For', 'young', 'recall', 'clear', 'September', 'day', ',', 'hard', 'describe', 'mix', 'feelings', 'experienced', '.']\n",
            "The number of words stopped : 29\n"
          ]
        }
      ]
    },
    {
      "cell_type": "code",
      "source": [
        "stop_words4 = set(stopwords.words('english'))\n",
        "\n",
        "filtered_sentence4 = [w for w in word_tokens4 if not w in stop_words4]\n",
        "print(word_tokens4)\n",
        "print(filtered_sentence4)\n",
        "print(\"The number of words stopped :\",(len(word_tokens4)-len(filtered_sentence4)))"
      ],
      "metadata": {
        "colab": {
          "base_uri": "https://localhost:8080/"
        },
        "id": "cnzZtpE3_L6m",
        "outputId": "f63b6526-e941-4311-9130-17fcea162c5a"
      },
      "execution_count": 83,
      "outputs": [
        {
          "output_type": "stream",
          "name": "stdout",
          "text": [
            "['There', 'was', 'horror', 'at', 'the', 'scale', 'of', 'destruction', '.', 'and', 'awe', 'at', 'the', 'bravery', 'and', 'kindness', 'that', 'rose', 'to', 'meet', 'it', '.', 'There', 'was', ',', 'shock', '!', 'at', 'the', 'audacity', 'of', 'evil', 'and', 'gratitude', ',', 'for', 'the', 'heroism', 'and', 'decency', 'that', 'opposed', 'it', '?', 'In', 'the', 'sacrifice', '!']\n",
            "['There', 'horror', 'scale', 'destruction', '.', 'awe', 'bravery', 'kindness', 'rose', 'meet', '.', 'There', ',', 'shock', '!', 'audacity', 'evil', 'gratitude', ',', 'heroism', 'decency', 'opposed', '?', 'In', 'sacrifice', '!']\n",
            "The number of words stopped : 22\n"
          ]
        }
      ]
    },
    {
      "cell_type": "code",
      "source": [
        "extra_stop_words=[\".\",\",\",\"!\"]"
      ],
      "metadata": {
        "id": "RClKP2NS_MO4"
      },
      "execution_count": 84,
      "outputs": []
    },
    {
      "cell_type": "code",
      "source": [
        "stop_words1=list(stop_words1)\n",
        "stop_words2 = extra_stop_words\n",
        "stop_words=stop_words1+stop_words2\n",
        "\n",
        "filtered_sentence1 = [w for w in word_tokens1 if not w in stop_words]\n",
        "print(filtered_sentence1)\n",
        "\n",
        "#print(word_tokens)\n",
        "#print(filtered_sentence)\n",
        "print(\"The number of words stopped :\",(len(word_tokens1)-len(filtered_sentence1)))"
      ],
      "metadata": {
        "colab": {
          "base_uri": "https://localhost:8080/"
        },
        "id": "jmZmMjdC9wB9",
        "outputId": "ef91a567-617c-4b53-c633-5ebabbba64f0"
      },
      "execution_count": 85,
      "outputs": [
        {
          "output_type": "stream",
          "name": "stdout",
          "text": [
            "['20', 'years', 'ago', 'found', 'different', 'ways', 'different', 'places', 'moment']\n",
            "The number of words stopped : 11\n"
          ]
        }
      ]
    },
    {
      "cell_type": "code",
      "source": [
        "from nltk.stem import PorterStemmer\n",
        "from nltk.tokenize import sent_tokenize, word_tokenize\n",
        "\n",
        "ps = PorterStemmer() ## defining stemmer\n",
        "s_words = [\"Aims\",\"Aims\",\"Aimed\",\"Aimm\",\"Aiming\",\"Aim\"]\n",
        "for i in s_words:\n",
        "    print(ps.stem(i))"
      ],
      "metadata": {
        "id": "xgO67GKP-7KX",
        "outputId": "ca9043f2-ed5d-4d59-a456-48ce32fa2f62",
        "colab": {
          "base_uri": "https://localhost:8080/"
        }
      },
      "execution_count": 86,
      "outputs": [
        {
          "output_type": "stream",
          "name": "stdout",
          "text": [
            "aim\n",
            "aim\n",
            "aim\n",
            "aimm\n",
            "aim\n",
            "aim\n"
          ]
        }
      ]
    },
    {
      "cell_type": "code",
      "source": [
        "from nltk.stem import PorterStemmer\n",
        "from nltk.tokenize import sent_tokenize, word_tokenize\n",
        "\n",
        "ps = PorterStemmer() ## defining stemmer\n",
        "s_words = [\"Dances\", \"dances\", \"Dancing\", \"dancer\", \"dances\", \"danced\", \"ddd\",\"Sang\",\"sings\",\"singings\",\"that\"]\n",
        "for i in s_words:\n",
        "    print(ps.stem(i))"
      ],
      "metadata": {
        "id": "o2Z46lVVXkoE",
        "outputId": "0ddb4b29-26af-4353-b069-bb04521c06ff",
        "colab": {
          "base_uri": "https://localhost:8080/"
        }
      },
      "execution_count": 87,
      "outputs": [
        {
          "output_type": "stream",
          "name": "stdout",
          "text": [
            "danc\n",
            "danc\n",
            "danc\n",
            "dancer\n",
            "danc\n",
            "danc\n",
            "ddd\n",
            "sang\n",
            "sing\n",
            "sing\n",
            "that\n"
          ]
        }
      ]
    },
    {
      "cell_type": "code",
      "source": [
        "import nltk\n",
        "from nltk.stem import PorterStemmer\n",
        "from nltk.tokenize import sent_tokenize, word_tokenize\n",
        "\n",
        "ps = PorterStemmer() ## defining stemmer\n",
        "s_words = [\"Calls\",\"Caller\",\"Calling\",\"Call\",\"Called\",\"Callli\"]\n",
        "for i in s_words:\n",
        "    print(ps.stem(i))"
      ],
      "metadata": {
        "id": "mfrpF_ViXq67",
        "outputId": "23ac42fa-12a1-4862-bd47-746fb574f32a",
        "colab": {
          "base_uri": "https://localhost:8080/"
        }
      },
      "execution_count": 88,
      "outputs": [
        {
          "output_type": "stream",
          "name": "stdout",
          "text": [
            "call\n",
            "caller\n",
            "call\n",
            "call\n",
            "call\n",
            "callli\n"
          ]
        }
      ]
    },
    {
      "cell_type": "code",
      "source": [
        "import nltk\n",
        "from nltk.tokenize import PunktSentenceTokenizer\n",
        "\n",
        "document = 'Whether you\\'re new to DataScience or an experienced , it\\'s easy to learn and use Python.'\n",
        "sentences = nltk.sent_tokenize(document)\n",
        "for sent in sentences:\n",
        "    print(nltk.pos_tag(nltk.word_tokenize(sent)))"
      ],
      "metadata": {
        "id": "3to49PMlXq_O",
        "outputId": "bdee4e82-886c-4b85-dfa1-6a0a5eed5211",
        "colab": {
          "base_uri": "https://localhost:8080/"
        }
      },
      "execution_count": 89,
      "outputs": [
        {
          "output_type": "stream",
          "name": "stdout",
          "text": [
            "[('Whether', 'IN'), ('you', 'PRP'), (\"'re\", 'VBP'), ('new', 'JJ'), ('to', 'TO'), ('DataScience', 'NNP'), ('or', 'CC'), ('an', 'DT'), ('experienced', 'JJ'), (',', ','), ('it', 'PRP'), (\"'s\", 'VBZ'), ('easy', 'JJ'), ('to', 'TO'), ('learn', 'VB'), ('and', 'CC'), ('use', 'VB'), ('Python', 'NNP'), ('.', '.')]\n"
          ]
        }
      ]
    },
    {
      "cell_type": "code",
      "source": [
        "import nltk\n",
        "from nltk.tokenize import PunktSentenceTokenizer\n",
        "\n",
        "document = \"Life is a journey, not a destination.It's about the experiences we gather, the relationships we build, and the lessons we learn along the way. Embrace each moment, find joy in the simple things, and remember that even the challenges help shape who we are\"\n",
        "sentences = nltk.sent_tokenize(document)\n",
        "for sent in sentences:\n",
        "    print(nltk.pos_tag(nltk.word_tokenize(sent)))"
      ],
      "metadata": {
        "id": "6Ca4U3gtXrG-",
        "outputId": "0294dd9d-ee24-4fe8-94ce-fa3d652a07b2",
        "colab": {
          "base_uri": "https://localhost:8080/"
        }
      },
      "execution_count": 91,
      "outputs": [
        {
          "output_type": "stream",
          "name": "stdout",
          "text": [
            "[('Life', 'NNP'), ('is', 'VBZ'), ('a', 'DT'), ('journey', 'NN'), (',', ','), ('not', 'RB'), ('a', 'DT'), ('destination.It', 'NN'), (\"'s\", 'POS'), ('about', 'IN'), ('the', 'DT'), ('experiences', 'NNS'), ('we', 'PRP'), ('gather', 'VBP'), (',', ','), ('the', 'DT'), ('relationships', 'NNS'), ('we', 'PRP'), ('build', 'VBP'), (',', ','), ('and', 'CC'), ('the', 'DT'), ('lessons', 'NNS'), ('we', 'PRP'), ('learn', 'VBP'), ('along', 'IN'), ('the', 'DT'), ('way', 'NN'), ('.', '.')]\n",
            "[('Embrace', 'NNP'), ('each', 'DT'), ('moment', 'NN'), (',', ','), ('find', 'VBP'), ('joy', 'NN'), ('in', 'IN'), ('the', 'DT'), ('simple', 'JJ'), ('things', 'NNS'), (',', ','), ('and', 'CC'), ('remember', 'VB'), ('that', 'WDT'), ('even', 'RB'), ('the', 'DT'), ('challenges', 'NNS'), ('help', 'VBP'), ('shape', 'NN'), ('who', 'WP'), ('we', 'PRP'), ('are', 'VBP')]\n"
          ]
        }
      ]
    },
    {
      "cell_type": "code",
      "source": [
        "import nltk\n",
        "from nltk.tokenize import PunktSentenceTokenizer\n",
        "\n",
        "document = 'Time flies like an arrow.'\n",
        "sentences = nltk.sent_tokenize(document)\n",
        "for sent in sentences:\n",
        "    print(nltk.pos_tag(nltk.word_tokenize(sent)))"
      ],
      "metadata": {
        "id": "PAz6sDdYaLg9",
        "outputId": "b7091db4-818b-45e3-f9c2-811f1dcfb72a",
        "colab": {
          "base_uri": "https://localhost:8080/"
        }
      },
      "execution_count": 92,
      "outputs": [
        {
          "output_type": "stream",
          "name": "stdout",
          "text": [
            "[('Time', 'NNP'), ('flies', 'NNS'), ('like', 'IN'), ('an', 'DT'), ('arrow', 'NN'), ('.', '.')]\n"
          ]
        }
      ]
    },
    {
      "cell_type": "code",
      "source": [
        "import nltk\n",
        "from nltk.corpus import wordnet\n",
        "synonyms = []\n",
        "antonyms = []\n",
        "\n",
        "for syn in wordnet.synsets(\"Sound\"):\n",
        "    for l in syn.lemmas():\n",
        "        synonyms.append(l.name())\n",
        "        if l.antonyms():\n",
        "            antonyms.append(l.antonyms()[0].name())\n",
        "\n",
        "print(\"Similar words =\",set(synonyms))\n",
        "print(set(antonyms))"
      ],
      "metadata": {
        "id": "KlTPztXHXrPA",
        "outputId": "1fc5eb9a-5ec1-492d-bc8d-ad69a4ba4658",
        "colab": {
          "base_uri": "https://localhost:8080/"
        }
      },
      "execution_count": 93,
      "outputs": [
        {
          "output_type": "stream",
          "name": "stdout",
          "text": [
            "Similar words = {'strait', 'sound', 'go', 'levelheaded', 'heavy', 'reasoned', 'well-grounded', 'audio', 'legal', 'wakeless', 'profound', 'auditory_sensation', 'good', 'speech_sound', 'fathom', 'voice', 'vocalise', 'phone', 'effectual', 'level-headed', 'healthy', 'vocalize', 'intelligent'}\n",
            "{'silence', 'unsound', 'devoice'}\n"
          ]
        }
      ]
    },
    {
      "cell_type": "code",
      "source": [
        "import nltk\n",
        "from nltk.corpus import wordnet\n",
        "synonyms = []\n",
        "antonyms = []\n",
        "\n",
        "for syn in wordnet.synsets(\"eavesdropping\"):\n",
        "    for l in syn.lemmas():\n",
        "        synonyms.append(l.name())\n",
        "        if l.antonyms():\n",
        "            antonyms.append(l.antonyms()[0].name())\n",
        "\n",
        "print(\"Similar words =\",set(synonyms))\n",
        "print(set(antonyms))"
      ],
      "metadata": {
        "id": "kXRskHBQapFT",
        "outputId": "9d2c193e-aace-4c60-ed4a-abaa985ba375",
        "colab": {
          "base_uri": "https://localhost:8080/"
        }
      },
      "execution_count": 94,
      "outputs": [
        {
          "output_type": "stream",
          "name": "stdout",
          "text": [
            "Similar words = {'listen_in', 'eavesdrop'}\n",
            "set()\n"
          ]
        }
      ]
    },
    {
      "cell_type": "code",
      "source": [
        "import nltk\n",
        "from nltk.corpus import wordnet\n",
        "synonyms = []\n",
        "antonyms = []\n",
        "\n",
        "for syn in wordnet.synsets(\"Deepfake\"):\n",
        "    for l in syn.lemmas():\n",
        "        synonyms.append(l.name())\n",
        "        if l.antonyms():\n",
        "            antonyms.append(l.antonyms()[0].name())\n",
        "\n",
        "print(\"Similar words =\",set(synonyms))\n",
        "print(set(antonyms))"
      ],
      "metadata": {
        "id": "kAhHKm3XXrS1",
        "outputId": "8593d32b-d531-403b-ed50-0277e37d4ed2",
        "colab": {
          "base_uri": "https://localhost:8080/"
        }
      },
      "execution_count": 95,
      "outputs": [
        {
          "output_type": "stream",
          "name": "stdout",
          "text": [
            "Similar words = set()\n",
            "set()\n"
          ]
        }
      ]
    },
    {
      "cell_type": "code",
      "source": [
        "import nltk\n",
        "from nltk.corpus import wordnet\n",
        "synonyms = []\n",
        "antonyms = []\n",
        "\n",
        "for syn in wordnet.synsets(\"Metaverse\"):\n",
        "    for l in syn.lemmas():\n",
        "        synonyms.append(l.name())\n",
        "        if l.antonyms():\n",
        "            antonyms.append(l.antonyms()[0].name())\n",
        "\n",
        "print(\"Similar words =\",set(synonyms))\n",
        "print(set(antonyms))"
      ],
      "metadata": {
        "id": "7mboYyxQayLi",
        "outputId": "54de76aa-4691-463e-c38d-131bd774d6e1",
        "colab": {
          "base_uri": "https://localhost:8080/"
        }
      },
      "execution_count": 96,
      "outputs": [
        {
          "output_type": "stream",
          "name": "stdout",
          "text": [
            "Similar words = set()\n",
            "set()\n"
          ]
        }
      ]
    },
    {
      "cell_type": "code",
      "source": [
        "import nltk\n",
        "from nltk.corpus import wordnet\n",
        "synonyms = []\n",
        "antonyms = []\n",
        "\n",
        "for syn in wordnet.synsets(\"Procastination\"):\n",
        "    for l in syn.lemmas():\n",
        "        synonyms.append(l.name())\n",
        "        if l.antonyms():\n",
        "            antonyms.append(l.antonyms()[0].name())\n",
        "\n",
        "print(\"Similar words =\",set(synonyms))\n",
        "print(set(antonyms))"
      ],
      "metadata": {
        "id": "zG0uzhCKayg8",
        "outputId": "c6549e75-9103-4fb0-f625-9dea1e4b0d25",
        "colab": {
          "base_uri": "https://localhost:8080/"
        }
      },
      "execution_count": 97,
      "outputs": [
        {
          "output_type": "stream",
          "name": "stdout",
          "text": [
            "Similar words = set()\n",
            "set()\n"
          ]
        }
      ]
    },
    {
      "cell_type": "code",
      "source": [
        "import nltk\n",
        "word_data = \"The python is a a python data analytics language\"\n",
        "\n",
        "# First Word tokenization\n",
        "nltk_tokens = nltk.word_tokenize(word_data)\n",
        "\n",
        "# Applying Set\n",
        "no_order = list(set(nltk_tokens))\n",
        "\n",
        "print (no_order)"
      ],
      "metadata": {
        "id": "XNz59cNrclmb",
        "outputId": "3a7c47e4-1a26-4264-fae2-c4b2e1bda33f",
        "colab": {
          "base_uri": "https://localhost:8080/"
        }
      },
      "execution_count": 98,
      "outputs": [
        {
          "output_type": "stream",
          "name": "stdout",
          "text": [
            "['The', 'a', 'analytics', 'language', 'is', 'data', 'python']\n"
          ]
        }
      ]
    },
    {
      "cell_type": "code",
      "source": [
        "import nltk\n",
        "from nltk.tokenize import word_tokenize\n",
        "from nltk import pos_tag, RegexpParser\n",
        "\n",
        "# Sample text\n",
        "text = \"Suyashi has a Rabbit that ran from the Table. She bought it from Isha . The Jumping is best Habit of the Rabbit\"\n",
        "\n",
        "# Tokenize the text\n",
        "tokens = word_tokenize(text)\n",
        "\n",
        "# Perform part-of-speech tagging\n",
        "word_tokens_text = pos_tag(tokens)\n",
        "\n",
        "# Define chunk grammar using regular expressions\n",
        "chunk_grammar = r\"\"\"\n",
        "    VP: {<VB.*><DT>?<JJ>*<NN>}   # Chunk sequences of verbs, determiners, adjectives, and nouns\n",
        "    \"\"\"\n",
        "\n",
        "# Create a chunk parser using the defined grammar\n",
        "chunk_parser = RegexpParser(chunk_grammar)\n",
        "\n",
        "# Apply chunking\n",
        "chunked_tokens = chunk_parser.parse(word_tokens_text)\n",
        "\n",
        "# Print the chunked tokens\n",
        "print(chunked_tokens)"
      ],
      "metadata": {
        "id": "jO6aoAS1cl4t",
        "outputId": "0b575849-6697-445a-9e6a-20fbd787254b",
        "colab": {
          "base_uri": "https://localhost:8080/"
        }
      },
      "execution_count": 99,
      "outputs": [
        {
          "output_type": "stream",
          "name": "stdout",
          "text": [
            "(S\n",
            "  Suyashi/NNP\n",
            "  has/VBZ\n",
            "  a/DT\n",
            "  Rabbit/NNP\n",
            "  that/WDT\n",
            "  ran/VBD\n",
            "  from/IN\n",
            "  the/DT\n",
            "  Table/NN\n",
            "  ./.\n",
            "  She/PRP\n",
            "  bought/VBD\n",
            "  it/PRP\n",
            "  from/IN\n",
            "  Isha/NNP\n",
            "  ./.\n",
            "  The/DT\n",
            "  Jumping/NNP\n",
            "  is/VBZ\n",
            "  best/JJS\n",
            "  Habit/NN\n",
            "  of/IN\n",
            "  the/DT\n",
            "  Rabbit/NNP)\n"
          ]
        }
      ]
    },
    {
      "cell_type": "code",
      "source": [
        "import nltk\n",
        "from nltk.tokenize import word_tokenize\n",
        "from nltk import pos_tag, RegexpParser\n",
        "\n",
        "# Sample text\n",
        "text1 = \"Ram Loves his Life. He have a cat named RUMMY\"\n",
        "\n",
        "# Tokenize the text\n",
        "tokens1 = word_tokenize(text1)\n",
        "\n",
        "# Perform part-of-speech tagging\n",
        "word_tokens_text1 = pos_tag(tokens1)\n",
        "\n",
        "# Define chunk grammar using regular expressions\n",
        "chunk_grammar1 = r\"\"\"\n",
        "    NP: {<DT>?<JJ>*<NN>}    # Chunk noun phrases\n",
        "    PP: {<IN><NP>}           # Chunk prepositional phrases\n",
        "    \"\"\"\n",
        "\n",
        "# Create a chunk parser using the defined grammar\n",
        "chunk_parser1 = RegexpParser(chunk_grammar1)\n",
        "\n",
        "# Apply chunking\n",
        "chunked_tokens1 = chunk_parser1.parse(word_tokens_text1)\n",
        "\n",
        "# Print the chunked tokens\n",
        "print(chunked_tokens1)"
      ],
      "metadata": {
        "id": "1lQm-312inzU",
        "outputId": "7c1bdd09-9b88-4689-e2e6-5188d92b386f",
        "colab": {
          "base_uri": "https://localhost:8080/"
        }
      },
      "execution_count": 100,
      "outputs": [
        {
          "output_type": "stream",
          "name": "stdout",
          "text": [
            "(S\n",
            "  Ram/NNP\n",
            "  Loves/VBZ\n",
            "  his/PRP$\n",
            "  (NP Life/NN)\n",
            "  ./.\n",
            "  He/PRP\n",
            "  have/VBP\n",
            "  (NP a/DT cat/NN)\n",
            "  named/VBN\n",
            "  RUMMY/NNP)\n"
          ]
        }
      ]
    },
    {
      "cell_type": "code",
      "source": [
        "import nltk\n",
        "from nltk.tokenize import word_tokenize\n",
        "from nltk import pos_tag, RegexpParser\n",
        "\n",
        "# Sample text\n",
        "text2 = \"Ram Loves his Life. He have a cat named RUMMY\"\n",
        "\n",
        "# Tokenize the text\n",
        "tokens2 = word_tokenize(text2)\n",
        "\n",
        "# Perform part-of-speech tagging\n",
        "word_tokens_text2 = pos_tag(tokens2)\n",
        "\n",
        "# Define chunk grammar using regular expressions\n",
        "chunk_grammar2 = r\"\"\"\n",
        "    VP: {<VB.*><DT>?<JJ>*<NN>}   # Chunk sequences of verbs, determiners, adjectives, and nouns\n",
        "    \"\"\"\n",
        "\n",
        "# Create a chunk parser using the defined grammar\n",
        "chunk_parser2 = RegexpParser(chunk_grammar2)\n",
        "\n",
        "# Apply chunking\n",
        "chunked_tokens2 = chunk_parser2.parse(word_tokens_text2)\n",
        "\n",
        "# Print the chunked tokens\n",
        "print(chunked_tokens2)"
      ],
      "metadata": {
        "id": "QckFYsxnjEH9",
        "outputId": "761cf888-ff4b-4596-ea8a-8f035d99bda3",
        "colab": {
          "base_uri": "https://localhost:8080/"
        }
      },
      "execution_count": 101,
      "outputs": [
        {
          "output_type": "stream",
          "name": "stdout",
          "text": [
            "(S\n",
            "  Ram/NNP\n",
            "  Loves/VBZ\n",
            "  his/PRP$\n",
            "  Life/NN\n",
            "  ./.\n",
            "  He/PRP\n",
            "  (VP have/VBP a/DT cat/NN)\n",
            "  named/VBN\n",
            "  RUMMY/NNP)\n"
          ]
        }
      ]
    },
    {
      "cell_type": "code",
      "source": [
        "import nltk\n",
        "from nltk.tokenize import word_tokenize\n",
        "from nltk import pos_tag, RegexpParser\n",
        "\n",
        "# Sample text\n",
        "text3 = \"Ram Loves his Life. He have a cat named RUMMY\"\n",
        "\n",
        "# Tokenize the text\n",
        "tokens3 = word_tokenize(text3)\n",
        "\n",
        "# Perform part-of-speech tagging\n",
        "word_tokens_text3 = pos_tag(tokens3)\n",
        "\n",
        "# Define chunk grammar using regular expressions\n",
        "chunk_grammar3 = r\"\"\"\n",
        "\n",
        "    NP: {<DT>?<JJ>*<NN>}   # Chunk sequences of DT, JJ, and NN\n",
        "\n",
        "    \"\"\"\n",
        "\n",
        "# Create a chunk parser using the defined grammar\n",
        "chunk_parser3 = RegexpParser(chunk_grammar3)\n",
        "\n",
        "# Apply chunking\n",
        "chunked_tokens3 = chunk_parser3.parse(word_tokens_text3)\n",
        "\n",
        "# Print the chunked tokens\n",
        "print(chunked_tokens3)"
      ],
      "metadata": {
        "id": "3q-CpnQvjfVt",
        "outputId": "aadda352-651d-4cb8-ca1b-04fb2ec2624b",
        "colab": {
          "base_uri": "https://localhost:8080/"
        }
      },
      "execution_count": 102,
      "outputs": [
        {
          "output_type": "stream",
          "name": "stdout",
          "text": [
            "(S\n",
            "  Ram/NNP\n",
            "  Loves/VBZ\n",
            "  his/PRP$\n",
            "  (NP Life/NN)\n",
            "  ./.\n",
            "  He/PRP\n",
            "  have/VBP\n",
            "  (NP a/DT cat/NN)\n",
            "  named/VBN\n",
            "  RUMMY/NNP)\n"
          ]
        }
      ]
    },
    {
      "cell_type": "code",
      "source": [
        "import nltk\n",
        "from nltk.tokenize import word_tokenize\n",
        "from nltk import pos_tag, ne_chunk\n",
        "\n",
        "# Sample text\n",
        "text = \"You know Ashi and Raman works in ABC pvt Lt. India, and its CEO  Rommy  is from Australia\"\n",
        "\n",
        "# Tokenize the text\n",
        "tokens = word_tokenize(text)\n",
        "\n",
        "# Perform part-of-speech tagging\n",
        "tagged_tokens = pos_tag(tokens)\n",
        "\n",
        "# Perform named entity recognition\n",
        "named_entities = ne_chunk(tagged_tokens)  #This function identifies named entities in the text based on the part-of-speech tags.\n",
        "\n",
        "# Print the named entities\n",
        "print(named_entities)"
      ],
      "metadata": {
        "id": "6Yrp0K17jfpM",
        "outputId": "db9668e9-510a-4235-f74c-b19b3f6f35d4",
        "colab": {
          "base_uri": "https://localhost:8080/"
        }
      },
      "execution_count": 103,
      "outputs": [
        {
          "output_type": "stream",
          "name": "stdout",
          "text": [
            "(S\n",
            "  You/PRP\n",
            "  know/VBP\n",
            "  (PERSON Ashi/NNP)\n",
            "  and/CC\n",
            "  (PERSON Raman/NNP)\n",
            "  works/VBZ\n",
            "  in/IN\n",
            "  (ORGANIZATION ABC/NNP)\n",
            "  pvt/NN\n",
            "  Lt./NNP\n",
            "  (GPE India/NNP)\n",
            "  ,/,\n",
            "  and/CC\n",
            "  its/PRP$\n",
            "  (ORGANIZATION CEO/NNP Rommy/NNP)\n",
            "  is/VBZ\n",
            "  from/IN\n",
            "  (GPE Australia/NNP))\n"
          ]
        }
      ]
    },
    {
      "cell_type": "code",
      "source": [
        "%%time\n",
        "import nltk\n",
        "from nltk.tokenize import sent_tokenize, word_tokenize\n",
        "from nltk import pos_tag, ne_chunk\n",
        "\n",
        "# Sample text\n",
        "text = \"The teacher have a kid named Asha. They stay in Bali. They have a pet named Kipy.\"\n",
        "\n",
        "# Tokenize the text into sentences\n",
        "sentences = sent_tokenize(text)\n",
        "\n",
        "# Initialize a list to store named entities\n",
        "named_entities = []\n",
        "\n",
        "# Iterate through each sentence\n",
        "for sentence in sentences:\n",
        "    # Tokenize the sentence into words\n",
        "    tokens = word_tokenize(sentence)\n",
        "    # Perform part-of-speech tagging\n",
        "    tagged_tokens = pos_tag(tokens)\n",
        "    # Perform named entity recognition\n",
        "    named_entities.extend(ne_chunk(tagged_tokens))\n",
        "\n",
        "# Print the named entities\n",
        "for entity in named_entities:\n",
        "    if hasattr(entity, 'label'):\n",
        "        print(' '.join(c[0] for c in entity.leaves()), '-', entity.label())"
      ],
      "metadata": {
        "id": "5v5LXLoto9Py",
        "outputId": "d2f0aa91-f893-464a-8950-cc0e5343fee0",
        "colab": {
          "base_uri": "https://localhost:8080/"
        }
      },
      "execution_count": 104,
      "outputs": [
        {
          "output_type": "stream",
          "name": "stdout",
          "text": [
            "Asha - PERSON\n",
            "Bali - GPE\n",
            "Kipy - PERSON\n",
            "CPU times: user 15.6 ms, sys: 1.3 ms, total: 16.9 ms\n",
            "Wall time: 21.3 ms\n"
          ]
        }
      ]
    },
    {
      "cell_type": "markdown",
      "source": [
        "# **Lab Questions2**"
      ],
      "metadata": {
        "id": "sAlLuf3h1yMj"
      }
    },
    {
      "cell_type": "code",
      "source": [
        "text1 = 'Mary jumps in a field and following her Sam also jumped.'\n",
        "text2 = 'That our lives would be changed forever. The world was loud with carnage and sirens and then quiet with missing voices that would never be heard again.'\n",
        "text3 = 'These lives remain precious to our country and infinitely precious to many of you. Today, we remember your loss, we share your sorrow, and we honor the men and women you have loved so long and so well. For those too young to recall that clear September day, it is hard to describe the mix of feelings we experienced.'"
      ],
      "metadata": {
        "id": "pjbm6kKF1wlk"
      },
      "execution_count": 106,
      "outputs": []
    },
    {
      "cell_type": "code",
      "source": [
        "# 1.Write a Python script that takes a paragraph of text and performs word tokenization using NLTK. Print the list of tokens\n",
        "import nltk\n",
        "from nltk.tokenize import sent_tokenize, word_tokenize\n",
        "\n",
        "word_token_text1 = word_tokenize(text1)\n",
        "word_token_text2 = word_tokenize(text2)\n",
        "word_token_text3 = word_tokenize(text3)\n",
        "\n",
        "print(word_token_text1)\n",
        "print(word_token_text2)\n",
        "print(word_token_text3)"
      ],
      "metadata": {
        "id": "rH-4P8OP1wy9",
        "outputId": "c39dc8aa-68c7-4a16-e0a0-7982ab72d6c4",
        "colab": {
          "base_uri": "https://localhost:8080/"
        }
      },
      "execution_count": 107,
      "outputs": [
        {
          "output_type": "stream",
          "name": "stdout",
          "text": [
            "['Mary', 'jumps', 'in', 'a', 'field', 'and', 'following', 'her', 'Sam', 'also', 'jumped', '.']\n",
            "['That', 'our', 'lives', 'would', 'be', 'changed', 'forever', '.', 'The', 'world', 'was', 'loud', 'with', 'carnage', 'and', 'sirens', 'and', 'then', 'quiet', 'with', 'missing', 'voices', 'that', 'would', 'never', 'be', 'heard', 'again', '.']\n",
            "['These', 'lives', 'remain', 'precious', 'to', 'our', 'country', 'and', 'infinitely', 'precious', 'to', 'many', 'of', 'you', '.', 'Today', ',', 'we', 'remember', 'your', 'loss', ',', 'we', 'share', 'your', 'sorrow', ',', 'and', 'we', 'honor', 'the', 'men', 'and', 'women', 'you', 'have', 'loved', 'so', 'long', 'and', 'so', 'well', '.', 'For', 'those', 'too', 'young', 'to', 'recall', 'that', 'clear', 'September', 'day', ',', 'it', 'is', 'hard', 'to', 'describe', 'the', 'mix', 'of', 'feelings', 'we', 'experienced', '.']\n"
          ]
        }
      ]
    },
    {
      "cell_type": "code",
      "source": [
        "# 2. Write a Python script that performs POS tagging on a list of tokens using NLTK. Print the list of tuples containing the word and its POS tag\n",
        "import nltk\n",
        "from nltk.tokenize import PunktSentenceTokenizer\n",
        "\n",
        "text1 = 'Mary jumps in a field and following her Sam also jumped.'\n",
        "sentences1 = nltk.sent_tokenize(text1)\n",
        "for sent in sentences1:\n",
        "    print(nltk.pos_tag(nltk.word_tokenize(sent)))\n",
        "\n"
      ],
      "metadata": {
        "id": "cnirhP5m3m9O",
        "outputId": "74957b9a-d67c-45fb-aea5-74208e424ba2",
        "colab": {
          "base_uri": "https://localhost:8080/"
        }
      },
      "execution_count": 108,
      "outputs": [
        {
          "output_type": "stream",
          "name": "stdout",
          "text": [
            "[('Mary', 'NNP'), ('jumps', 'NNS'), ('in', 'IN'), ('a', 'DT'), ('field', 'NN'), ('and', 'CC'), ('following', 'VBG'), ('her', 'PRP$'), ('Sam', 'NNP'), ('also', 'RB'), ('jumped', 'VBD'), ('.', '.')]\n"
          ]
        }
      ]
    },
    {
      "cell_type": "code",
      "source": [
        "# 2. Write a Python script that performs POS tagging on a list of tokens using NLTK. Print the list of tuples containing the word and its POS tag\n",
        "text2 = 'That our lives would be changed forever. The world was loud with carnage and sirens and then quiet with missing voices that would never be heard again.'\n",
        "sentences2 = nltk.sent_tokenize(text2)\n",
        "for sent in sentences2:\n",
        "    print(nltk.pos_tag(nltk.word_tokenize(sent)))"
      ],
      "metadata": {
        "id": "xiMtT5pU3nLC",
        "outputId": "04b73e37-d351-469a-e69f-1bb5537b9ca1",
        "colab": {
          "base_uri": "https://localhost:8080/"
        }
      },
      "execution_count": 109,
      "outputs": [
        {
          "output_type": "stream",
          "name": "stdout",
          "text": [
            "[('That', 'DT'), ('our', 'PRP$'), ('lives', 'NNS'), ('would', 'MD'), ('be', 'VB'), ('changed', 'VBN'), ('forever', 'RB'), ('.', '.')]\n",
            "[('The', 'DT'), ('world', 'NN'), ('was', 'VBD'), ('loud', 'JJ'), ('with', 'IN'), ('carnage', 'NN'), ('and', 'CC'), ('sirens', 'NNS'), ('and', 'CC'), ('then', 'RB'), ('quiet', 'JJ'), ('with', 'IN'), ('missing', 'VBG'), ('voices', 'NNS'), ('that', 'WDT'), ('would', 'MD'), ('never', 'RB'), ('be', 'VB'), ('heard', 'RB'), ('again', 'RB'), ('.', '.')]\n"
          ]
        }
      ]
    },
    {
      "cell_type": "code",
      "source": [
        "# 2. Write a Python script that performs POS tagging on a list of tokens using NLTK. Print the list of tuples containing the word and its POS tag\n",
        "text3 = 'These lives remain precious to our country and infinitely precious to many of you. Today, we remember your loss, we share your sorrow, and we honor the men and women you have loved so long and so well. For those too young to recall that clear September day, it is hard to describe the mix of feelings we experienced.'\n",
        "sentences3 = nltk.sent_tokenize(text3)\n",
        "for sent in sentences3:\n",
        "    print(nltk.pos_tag(nltk.word_tokenize(sent)))"
      ],
      "metadata": {
        "id": "FK2-6abS5If2",
        "outputId": "7c04c035-7333-488b-ad44-46680653f450",
        "colab": {
          "base_uri": "https://localhost:8080/"
        }
      },
      "execution_count": 110,
      "outputs": [
        {
          "output_type": "stream",
          "name": "stdout",
          "text": [
            "[('These', 'DT'), ('lives', 'NNS'), ('remain', 'VBP'), ('precious', 'JJ'), ('to', 'TO'), ('our', 'PRP$'), ('country', 'NN'), ('and', 'CC'), ('infinitely', 'RB'), ('precious', 'JJ'), ('to', 'TO'), ('many', 'JJ'), ('of', 'IN'), ('you', 'PRP'), ('.', '.')]\n",
            "[('Today', 'NN'), (',', ','), ('we', 'PRP'), ('remember', 'VBP'), ('your', 'PRP$'), ('loss', 'NN'), (',', ','), ('we', 'PRP'), ('share', 'NN'), ('your', 'PRP$'), ('sorrow', 'NN'), (',', ','), ('and', 'CC'), ('we', 'PRP'), ('honor', 'VBP'), ('the', 'DT'), ('men', 'NNS'), ('and', 'CC'), ('women', 'NNS'), ('you', 'PRP'), ('have', 'VBP'), ('loved', 'VBN'), ('so', 'RB'), ('long', 'RB'), ('and', 'CC'), ('so', 'RB'), ('well', 'RB'), ('.', '.')]\n",
            "[('For', 'IN'), ('those', 'DT'), ('too', 'RB'), ('young', 'JJ'), ('to', 'TO'), ('recall', 'VB'), ('that', 'DT'), ('clear', 'JJ'), ('September', 'NNP'), ('day', 'NN'), (',', ','), ('it', 'PRP'), ('is', 'VBZ'), ('hard', 'JJ'), ('to', 'TO'), ('describe', 'VB'), ('the', 'DT'), ('mix', 'NN'), ('of', 'IN'), ('feelings', 'NNS'), ('we', 'PRP'), ('experienced', 'VBD'), ('.', '.')]\n"
          ]
        }
      ]
    },
    {
      "cell_type": "code",
      "source": [
        "# 3.Write a Python script that applies stemming to a list of words using NLTK's Porter Stemmer. Print the list of stemmed words\n",
        "import nltk\n",
        "from nltk.stem import PorterStemmer\n",
        "from nltk.tokenize import sent_tokenize, word_tokenize\n",
        "\n",
        "ps = PorterStemmer() ## defining stemmer\n",
        "s_words1 = word_token_text1\n",
        "for i in s_words1:\n",
        "    print(ps.stem(i))\n"
      ],
      "metadata": {
        "id": "raxo_kns5dl6",
        "outputId": "1accd3a4-c68e-4a1d-bc7b-7ebedf115caf",
        "colab": {
          "base_uri": "https://localhost:8080/"
        }
      },
      "execution_count": 111,
      "outputs": [
        {
          "output_type": "stream",
          "name": "stdout",
          "text": [
            "mari\n",
            "jump\n",
            "in\n",
            "a\n",
            "field\n",
            "and\n",
            "follow\n",
            "her\n",
            "sam\n",
            "also\n",
            "jump\n",
            ".\n"
          ]
        }
      ]
    },
    {
      "cell_type": "code",
      "source": [
        "# 3.Write a Python script that applies stemming to a list of words using NLTK's Porter Stemmer. Print the list of stemmed words\n",
        "s_words2 = word_token_text2\n",
        "for i in s_words2:\n",
        "    print(ps.stem(i))"
      ],
      "metadata": {
        "id": "GtP9kYq06jly",
        "outputId": "e78f40e5-3e0f-43d2-9126-214690c04e8d",
        "colab": {
          "base_uri": "https://localhost:8080/"
        }
      },
      "execution_count": 112,
      "outputs": [
        {
          "output_type": "stream",
          "name": "stdout",
          "text": [
            "that\n",
            "our\n",
            "live\n",
            "would\n",
            "be\n",
            "chang\n",
            "forev\n",
            ".\n",
            "the\n",
            "world\n",
            "wa\n",
            "loud\n",
            "with\n",
            "carnag\n",
            "and\n",
            "siren\n",
            "and\n",
            "then\n",
            "quiet\n",
            "with\n",
            "miss\n",
            "voic\n",
            "that\n",
            "would\n",
            "never\n",
            "be\n",
            "heard\n",
            "again\n",
            ".\n"
          ]
        }
      ]
    },
    {
      "cell_type": "code",
      "source": [
        "# 3.Write a Python script that applies stemming to a list of words using NLTK's Porter Stemmer. Print the list of stemmed words\n",
        "s_words3 = word_token_text3\n",
        "for i in s_words3:\n",
        "    print(ps.stem(i))"
      ],
      "metadata": {
        "id": "QUhlvxPJ6xMh",
        "outputId": "ccf129ce-60cc-44d1-de02-6c041ffaa49c",
        "colab": {
          "base_uri": "https://localhost:8080/"
        }
      },
      "execution_count": 113,
      "outputs": [
        {
          "output_type": "stream",
          "name": "stdout",
          "text": [
            "these\n",
            "live\n",
            "remain\n",
            "preciou\n",
            "to\n",
            "our\n",
            "countri\n",
            "and\n",
            "infinit\n",
            "preciou\n",
            "to\n",
            "mani\n",
            "of\n",
            "you\n",
            ".\n",
            "today\n",
            ",\n",
            "we\n",
            "rememb\n",
            "your\n",
            "loss\n",
            ",\n",
            "we\n",
            "share\n",
            "your\n",
            "sorrow\n",
            ",\n",
            "and\n",
            "we\n",
            "honor\n",
            "the\n",
            "men\n",
            "and\n",
            "women\n",
            "you\n",
            "have\n",
            "love\n",
            "so\n",
            "long\n",
            "and\n",
            "so\n",
            "well\n",
            ".\n",
            "for\n",
            "those\n",
            "too\n",
            "young\n",
            "to\n",
            "recal\n",
            "that\n",
            "clear\n",
            "septemb\n",
            "day\n",
            ",\n",
            "it\n",
            "is\n",
            "hard\n",
            "to\n",
            "describ\n",
            "the\n",
            "mix\n",
            "of\n",
            "feel\n",
            "we\n",
            "experienc\n",
            ".\n"
          ]
        }
      ]
    },
    {
      "cell_type": "code",
      "source": [
        "# 4. Write a Python script that applies lemmatization to a list of words using NLTK's WordNet Lemmatize. Print the list of lemmatized words.\n",
        "from nltk.stem import WordNetLemmatizer\n",
        "lem = WordNetLemmatizer()\n",
        "\n",
        "lemmatized_words1 = [lem.lemmatize(words) for words in word_token_text1]\n",
        "lemmatized_words1"
      ],
      "metadata": {
        "id": "FKJIZ8PC5dqT",
        "outputId": "85d39ac7-ccb6-4426-8d7d-7f1d878aff15",
        "colab": {
          "base_uri": "https://localhost:8080/"
        }
      },
      "execution_count": 114,
      "outputs": [
        {
          "output_type": "execute_result",
          "data": {
            "text/plain": [
              "['Mary',\n",
              " 'jump',\n",
              " 'in',\n",
              " 'a',\n",
              " 'field',\n",
              " 'and',\n",
              " 'following',\n",
              " 'her',\n",
              " 'Sam',\n",
              " 'also',\n",
              " 'jumped',\n",
              " '.']"
            ]
          },
          "metadata": {},
          "execution_count": 114
        }
      ]
    },
    {
      "cell_type": "code",
      "source": [
        "# 4. Write a Python script that applies lemmatization to a list of words using NLTK's WordNet Lemmatize. Print the list of lemmatized words.\n",
        "from nltk.stem import WordNetLemmatizer\n",
        "lem = WordNetLemmatizer()\n",
        "\n",
        "lemmatized_words2 = [lem.lemmatize(words) for words in word_token_text2]\n",
        "lemmatized_words2"
      ],
      "metadata": {
        "id": "e1V35rtS8-ZH",
        "outputId": "fa0df08a-7bcf-4b92-d638-0aec55d27701",
        "colab": {
          "base_uri": "https://localhost:8080/"
        }
      },
      "execution_count": 115,
      "outputs": [
        {
          "output_type": "execute_result",
          "data": {
            "text/plain": [
              "['That',\n",
              " 'our',\n",
              " 'life',\n",
              " 'would',\n",
              " 'be',\n",
              " 'changed',\n",
              " 'forever',\n",
              " '.',\n",
              " 'The',\n",
              " 'world',\n",
              " 'wa',\n",
              " 'loud',\n",
              " 'with',\n",
              " 'carnage',\n",
              " 'and',\n",
              " 'siren',\n",
              " 'and',\n",
              " 'then',\n",
              " 'quiet',\n",
              " 'with',\n",
              " 'missing',\n",
              " 'voice',\n",
              " 'that',\n",
              " 'would',\n",
              " 'never',\n",
              " 'be',\n",
              " 'heard',\n",
              " 'again',\n",
              " '.']"
            ]
          },
          "metadata": {},
          "execution_count": 115
        }
      ]
    },
    {
      "cell_type": "code",
      "source": [
        "# 4. Write a Python script that applies lemmatization to a list of words using NLTK's WordNet Lemmatize. Print the list of lemmatized words.\n",
        "from nltk.stem import WordNetLemmatizer\n",
        "lem = WordNetLemmatizer()\n",
        "\n",
        "lemmatized_words3 = [lem.lemmatize(words) for words in word_token_text3]\n",
        "lemmatized_words3"
      ],
      "metadata": {
        "id": "-3eLbVzD5dxz",
        "outputId": "6e2ffe22-bd8a-462a-e281-305ad0142eb9",
        "colab": {
          "base_uri": "https://localhost:8080/"
        }
      },
      "execution_count": 116,
      "outputs": [
        {
          "output_type": "execute_result",
          "data": {
            "text/plain": [
              "['These',\n",
              " 'life',\n",
              " 'remain',\n",
              " 'precious',\n",
              " 'to',\n",
              " 'our',\n",
              " 'country',\n",
              " 'and',\n",
              " 'infinitely',\n",
              " 'precious',\n",
              " 'to',\n",
              " 'many',\n",
              " 'of',\n",
              " 'you',\n",
              " '.',\n",
              " 'Today',\n",
              " ',',\n",
              " 'we',\n",
              " 'remember',\n",
              " 'your',\n",
              " 'loss',\n",
              " ',',\n",
              " 'we',\n",
              " 'share',\n",
              " 'your',\n",
              " 'sorrow',\n",
              " ',',\n",
              " 'and',\n",
              " 'we',\n",
              " 'honor',\n",
              " 'the',\n",
              " 'men',\n",
              " 'and',\n",
              " 'woman',\n",
              " 'you',\n",
              " 'have',\n",
              " 'loved',\n",
              " 'so',\n",
              " 'long',\n",
              " 'and',\n",
              " 'so',\n",
              " 'well',\n",
              " '.',\n",
              " 'For',\n",
              " 'those',\n",
              " 'too',\n",
              " 'young',\n",
              " 'to',\n",
              " 'recall',\n",
              " 'that',\n",
              " 'clear',\n",
              " 'September',\n",
              " 'day',\n",
              " ',',\n",
              " 'it',\n",
              " 'is',\n",
              " 'hard',\n",
              " 'to',\n",
              " 'describe',\n",
              " 'the',\n",
              " 'mix',\n",
              " 'of',\n",
              " 'feeling',\n",
              " 'we',\n",
              " 'experienced',\n",
              " '.']"
            ]
          },
          "metadata": {},
          "execution_count": 116
        }
      ]
    },
    {
      "cell_type": "code",
      "source": [
        "# 5.Write a Python script that combines word tokenization, POS tagging, stemming, and lemmatization. Print the results at each step for a given paragraph of text\n",
        "import nltk\n",
        "from nltk.tokenize import word_tokenize\n",
        "from nltk import pos_tag\n",
        "from nltk.stem import PorterStemmer, WordNetLemmatizer\n",
        "\n",
        "\n",
        "# Sample text\n",
        "text1 = \"Mary jumps in a field and following her Sam also jumped.\"\n",
        "\n",
        "# Tokenization\n",
        "tokens1 = word_tokenize(text1)\n",
        "print(\"Tokens:\", tokens)\n",
        "\n",
        "# POS tagging\n",
        "pos_tags1 = pos_tag(tokens1)\n",
        "print(\"POS Tags:\", pos_tags1)\n",
        "\n",
        "# Stemming\n",
        "stemmer1 = PorterStemmer()\n",
        "stemmed_words1 = [stemmer1.stem(word) for word in tokens1]\n",
        "print(\"Stemmed Words:\", stemmed_words1)\n",
        "\n",
        "# Lemmatization\n",
        "lemmatizer1 = WordNetLemmatizer()\n",
        "lemmatized_words1 = [lemmatizer1.lemmatize(word) for word in tokens1]\n",
        "print(\"Lemmatized Words:\", lemmatized_words1)\n"
      ],
      "metadata": {
        "id": "kiwRxlSH5d4b",
        "outputId": "2c1051c9-622e-4b28-fe3c-f57fb4f9b5ba",
        "colab": {
          "base_uri": "https://localhost:8080/"
        }
      },
      "execution_count": 117,
      "outputs": [
        {
          "output_type": "stream",
          "name": "stdout",
          "text": [
            "Tokens: ['They', 'have', 'a', 'pet', 'named', 'Kipy', '.']\n",
            "POS Tags: [('Mary', 'NNP'), ('jumps', 'NNS'), ('in', 'IN'), ('a', 'DT'), ('field', 'NN'), ('and', 'CC'), ('following', 'VBG'), ('her', 'PRP$'), ('Sam', 'NNP'), ('also', 'RB'), ('jumped', 'VBD'), ('.', '.')]\n",
            "Stemmed Words: ['mari', 'jump', 'in', 'a', 'field', 'and', 'follow', 'her', 'sam', 'also', 'jump', '.']\n",
            "Lemmatized Words: ['Mary', 'jump', 'in', 'a', 'field', 'and', 'following', 'her', 'Sam', 'also', 'jumped', '.']\n"
          ]
        }
      ]
    },
    {
      "cell_type": "code",
      "source": [
        "# 5.Write a Python script that combines word tokenization, POS tagging, stemming, and lemmatization. Print the results at each step for a given paragraph of text\n",
        "\n",
        "# Sample text\n",
        "text2 = \"Mary jumps in a field and following her Sam also jumped.\"\n",
        "\n",
        "# Tokenization\n",
        "tokens2 = word_tokenize(text2)\n",
        "print(\"Tokens:\", tokens2)\n",
        "\n",
        "# POS tagging\n",
        "pos_tags2 = pos_tag(tokens2)\n",
        "print(\"POS Tags:\", pos_tags2)\n",
        "\n",
        "# Stemming\n",
        "stemmer2 = PorterStemmer()\n",
        "stemmed_words2 = [stemmer2.stem(word) for word in tokens2]\n",
        "print(\"Stemmed Words:\", stemmed_words2)\n",
        "\n",
        "# Lemmatization\n",
        "lemmatizer2 = WordNetLemmatizer()\n",
        "lemmatized_words2 = [lemmatizer2.lemmatize(word) for word in tokens2]\n",
        "print(\"Lemmatized Words:\", lemmatized_words2)"
      ],
      "metadata": {
        "id": "M2yTG3ys5d9O",
        "outputId": "aa32a980-503a-4467-8d21-eb3d4a6f902b",
        "colab": {
          "base_uri": "https://localhost:8080/"
        }
      },
      "execution_count": 118,
      "outputs": [
        {
          "output_type": "stream",
          "name": "stdout",
          "text": [
            "Tokens: ['Mary', 'jumps', 'in', 'a', 'field', 'and', 'following', 'her', 'Sam', 'also', 'jumped', '.']\n",
            "POS Tags: [('Mary', 'NNP'), ('jumps', 'NNS'), ('in', 'IN'), ('a', 'DT'), ('field', 'NN'), ('and', 'CC'), ('following', 'VBG'), ('her', 'PRP$'), ('Sam', 'NNP'), ('also', 'RB'), ('jumped', 'VBD'), ('.', '.')]\n",
            "Stemmed Words: ['mari', 'jump', 'in', 'a', 'field', 'and', 'follow', 'her', 'sam', 'also', 'jump', '.']\n",
            "Lemmatized Words: ['Mary', 'jump', 'in', 'a', 'field', 'and', 'following', 'her', 'Sam', 'also', 'jumped', '.']\n"
          ]
        }
      ]
    },
    {
      "cell_type": "code",
      "source": [
        "# 5.Write a Python script that combines word tokenization, POS tagging, stemming, and lemmatization. Print the results at each step for a given paragraph of text\n",
        "\n",
        "# Sample text\n",
        "text3 = \"Mary jumps in a field and following her Sam also jumped.\"\n",
        "\n",
        "# Tokenization\n",
        "tokens3 = word_tokenize(text3)\n",
        "print(\"Tokens:\", tokens3)\n",
        "\n",
        "# POS tagging\n",
        "pos_tags3 = pos_tag(tokens3)\n",
        "print(\"POS Tags:\", pos_tags3)\n",
        "\n",
        "# Stemming\n",
        "stemmer3 = PorterStemmer()\n",
        "stemmed_words3 = [stemmer3.stem(word) for word in tokens3]\n",
        "print(\"Stemmed Words:\", stemmed_words3)\n",
        "\n",
        "# Lemmatization\n",
        "lemmatizer3 = WordNetLemmatizer()\n",
        "lemmatized_words3 = [lemmatizer3.lemmatize(word) for word in tokens3]\n",
        "print(\"Lemmatized Words:\", lemmatized_words3)"
      ],
      "metadata": {
        "id": "B_sNM3BI_Anm",
        "outputId": "1a82f337-cf89-41d4-c876-69a2351ed4f3",
        "colab": {
          "base_uri": "https://localhost:8080/"
        }
      },
      "execution_count": 119,
      "outputs": [
        {
          "output_type": "stream",
          "name": "stdout",
          "text": [
            "Tokens: ['Mary', 'jumps', 'in', 'a', 'field', 'and', 'following', 'her', 'Sam', 'also', 'jumped', '.']\n",
            "POS Tags: [('Mary', 'NNP'), ('jumps', 'NNS'), ('in', 'IN'), ('a', 'DT'), ('field', 'NN'), ('and', 'CC'), ('following', 'VBG'), ('her', 'PRP$'), ('Sam', 'NNP'), ('also', 'RB'), ('jumped', 'VBD'), ('.', '.')]\n",
            "Stemmed Words: ['mari', 'jump', 'in', 'a', 'field', 'and', 'follow', 'her', 'sam', 'also', 'jump', '.']\n",
            "Lemmatized Words: ['Mary', 'jump', 'in', 'a', 'field', 'and', 'following', 'her', 'Sam', 'also', 'jumped', '.']\n"
          ]
        }
      ]
    },
    {
      "cell_type": "code",
      "source": [],
      "metadata": {
        "id": "v3pXA99__nWp"
      },
      "execution_count": 119,
      "outputs": []
    }
  ],
  "metadata": {
    "colab": {
      "name": "Welcome To Colab",
      "provenance": [],
      "include_colab_link": true
    },
    "kernelspec": {
      "display_name": "Python 3",
      "name": "python3"
    }
  },
  "nbformat": 4,
  "nbformat_minor": 0
}